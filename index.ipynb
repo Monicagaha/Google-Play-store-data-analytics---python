{
 "cells": [
  {
   "attachments": {},
   "cell_type": "markdown",
   "metadata": {},
   "source": [
    "TRAINING TASKS:-"
   ]
  },
  {
   "cell_type": "code",
   "execution_count": 1,
   "metadata": {},
   "outputs": [],
   "source": [
    "import pandas as pd\n",
    "import numpy as np\n",
    "import plotly.express as px\n",
    "import plotly.io as pio\n",
    "from sklearn.model_selection import train_test_split\n",
    "from sklearn.ensemble import RandomForestRegressor\n",
    "from sklearn.metrics import mean_squared_error, r2_score\n",
    "from nltk.sentiment.vader import SentimentIntensityAnalyzer\n",
    "import nltk\n",
    "import webbrowser\n",
    "import os\n"
   ]
  },
  {
   "cell_type": "code",
   "execution_count": 2,
   "metadata": {},
   "outputs": [
    {
     "name": "stderr",
     "output_type": "stream",
     "text": [
      "[nltk_data] Downloading package vader_lexicon to\n",
      "[nltk_data]     C:\\Users\\User\\AppData\\Roaming\\nltk_data...\n",
      "[nltk_data]   Package vader_lexicon is already up-to-date!\n"
     ]
    },
    {
     "data": {
      "text/plain": [
       "True"
      ]
     },
     "execution_count": 2,
     "metadata": {},
     "output_type": "execute_result"
    }
   ],
   "source": [
    "nltk.download('vader_lexicon')"
   ]
  },
  {
   "cell_type": "code",
   "execution_count": 3,
   "metadata": {},
   "outputs": [],
   "source": [
    "# Step 1: Load the Dataset\n",
    "app_df=pd.read_csv(\"apps.csv\")\n",
    "rvw_df=pd.read_csv(\"user_reviews.csv\")"
   ]
  },
  {
   "cell_type": "code",
   "execution_count": 4,
   "metadata": {},
   "outputs": [
    {
     "data": {
      "text/html": [
       "<div>\n",
       "<style scoped>\n",
       "    .dataframe tbody tr th:only-of-type {\n",
       "        vertical-align: middle;\n",
       "    }\n",
       "\n",
       "    .dataframe tbody tr th {\n",
       "        vertical-align: top;\n",
       "    }\n",
       "\n",
       "    .dataframe thead th {\n",
       "        text-align: right;\n",
       "    }\n",
       "</style>\n",
       "<table border=\"1\" class=\"dataframe\">\n",
       "  <thead>\n",
       "    <tr style=\"text-align: right;\">\n",
       "      <th></th>\n",
       "      <th>Unnamed: 0</th>\n",
       "      <th>App</th>\n",
       "      <th>Category</th>\n",
       "      <th>Rating</th>\n",
       "      <th>Reviews</th>\n",
       "      <th>Size</th>\n",
       "      <th>Installs</th>\n",
       "      <th>Type</th>\n",
       "      <th>Price</th>\n",
       "      <th>Content Rating</th>\n",
       "      <th>Genres</th>\n",
       "      <th>Last Updated</th>\n",
       "      <th>Current Ver</th>\n",
       "      <th>Android Ver</th>\n",
       "    </tr>\n",
       "  </thead>\n",
       "  <tbody>\n",
       "    <tr>\n",
       "      <th>0</th>\n",
       "      <td>0</td>\n",
       "      <td>Photo Editor &amp; Candy Camera &amp; Grid &amp; ScrapBook</td>\n",
       "      <td>ART_AND_DESIGN</td>\n",
       "      <td>4.1</td>\n",
       "      <td>159</td>\n",
       "      <td>19.0</td>\n",
       "      <td>10,000+</td>\n",
       "      <td>Free</td>\n",
       "      <td>0</td>\n",
       "      <td>Everyone</td>\n",
       "      <td>Art &amp; Design</td>\n",
       "      <td>January 7, 2018</td>\n",
       "      <td>1.0.0</td>\n",
       "      <td>4.0.3 and up</td>\n",
       "    </tr>\n",
       "    <tr>\n",
       "      <th>1</th>\n",
       "      <td>1</td>\n",
       "      <td>Coloring book moana</td>\n",
       "      <td>ART_AND_DESIGN</td>\n",
       "      <td>3.9</td>\n",
       "      <td>967</td>\n",
       "      <td>14.0</td>\n",
       "      <td>500,000+</td>\n",
       "      <td>Free</td>\n",
       "      <td>0</td>\n",
       "      <td>Everyone</td>\n",
       "      <td>Art &amp; Design;Pretend Play</td>\n",
       "      <td>January 15, 2018</td>\n",
       "      <td>2.0.0</td>\n",
       "      <td>4.0.3 and up</td>\n",
       "    </tr>\n",
       "    <tr>\n",
       "      <th>2</th>\n",
       "      <td>2</td>\n",
       "      <td>U Launcher Lite – FREE Live Cool Themes, Hide ...</td>\n",
       "      <td>ART_AND_DESIGN</td>\n",
       "      <td>4.7</td>\n",
       "      <td>87510</td>\n",
       "      <td>8.7</td>\n",
       "      <td>5,000,000+</td>\n",
       "      <td>Free</td>\n",
       "      <td>0</td>\n",
       "      <td>Everyone</td>\n",
       "      <td>Art &amp; Design</td>\n",
       "      <td>August 1, 2018</td>\n",
       "      <td>1.2.4</td>\n",
       "      <td>4.0.3 and up</td>\n",
       "    </tr>\n",
       "    <tr>\n",
       "      <th>3</th>\n",
       "      <td>3</td>\n",
       "      <td>Sketch - Draw &amp; Paint</td>\n",
       "      <td>ART_AND_DESIGN</td>\n",
       "      <td>4.5</td>\n",
       "      <td>215644</td>\n",
       "      <td>25.0</td>\n",
       "      <td>50,000,000+</td>\n",
       "      <td>Free</td>\n",
       "      <td>0</td>\n",
       "      <td>Teen</td>\n",
       "      <td>Art &amp; Design</td>\n",
       "      <td>June 8, 2018</td>\n",
       "      <td>Varies with device</td>\n",
       "      <td>4.2 and up</td>\n",
       "    </tr>\n",
       "    <tr>\n",
       "      <th>4</th>\n",
       "      <td>4</td>\n",
       "      <td>Pixel Draw - Number Art Coloring Book</td>\n",
       "      <td>ART_AND_DESIGN</td>\n",
       "      <td>4.3</td>\n",
       "      <td>967</td>\n",
       "      <td>2.8</td>\n",
       "      <td>100,000+</td>\n",
       "      <td>Free</td>\n",
       "      <td>0</td>\n",
       "      <td>Everyone</td>\n",
       "      <td>Art &amp; Design;Creativity</td>\n",
       "      <td>June 20, 2018</td>\n",
       "      <td>1.1</td>\n",
       "      <td>4.4 and up</td>\n",
       "    </tr>\n",
       "  </tbody>\n",
       "</table>\n",
       "</div>"
      ],
      "text/plain": [
       "   Unnamed: 0                                                App  \\\n",
       "0           0     Photo Editor & Candy Camera & Grid & ScrapBook   \n",
       "1           1                                Coloring book moana   \n",
       "2           2  U Launcher Lite – FREE Live Cool Themes, Hide ...   \n",
       "3           3                              Sketch - Draw & Paint   \n",
       "4           4              Pixel Draw - Number Art Coloring Book   \n",
       "\n",
       "         Category  Rating  Reviews  Size     Installs  Type Price  \\\n",
       "0  ART_AND_DESIGN     4.1      159  19.0      10,000+  Free     0   \n",
       "1  ART_AND_DESIGN     3.9      967  14.0     500,000+  Free     0   \n",
       "2  ART_AND_DESIGN     4.7    87510   8.7   5,000,000+  Free     0   \n",
       "3  ART_AND_DESIGN     4.5   215644  25.0  50,000,000+  Free     0   \n",
       "4  ART_AND_DESIGN     4.3      967   2.8     100,000+  Free     0   \n",
       "\n",
       "  Content Rating                     Genres      Last Updated  \\\n",
       "0       Everyone               Art & Design   January 7, 2018   \n",
       "1       Everyone  Art & Design;Pretend Play  January 15, 2018   \n",
       "2       Everyone               Art & Design    August 1, 2018   \n",
       "3           Teen               Art & Design      June 8, 2018   \n",
       "4       Everyone    Art & Design;Creativity     June 20, 2018   \n",
       "\n",
       "          Current Ver   Android Ver  \n",
       "0               1.0.0  4.0.3 and up  \n",
       "1               2.0.0  4.0.3 and up  \n",
       "2               1.2.4  4.0.3 and up  \n",
       "3  Varies with device    4.2 and up  \n",
       "4                 1.1    4.4 and up  "
      ]
     },
     "execution_count": 4,
     "metadata": {},
     "output_type": "execute_result"
    }
   ],
   "source": [
    "app_df.head()"
   ]
  },
  {
   "cell_type": "code",
   "execution_count": 5,
   "metadata": {},
   "outputs": [
    {
     "data": {
      "text/html": [
       "<div>\n",
       "<style scoped>\n",
       "    .dataframe tbody tr th:only-of-type {\n",
       "        vertical-align: middle;\n",
       "    }\n",
       "\n",
       "    .dataframe tbody tr th {\n",
       "        vertical-align: top;\n",
       "    }\n",
       "\n",
       "    .dataframe thead th {\n",
       "        text-align: right;\n",
       "    }\n",
       "</style>\n",
       "<table border=\"1\" class=\"dataframe\">\n",
       "  <thead>\n",
       "    <tr style=\"text-align: right;\">\n",
       "      <th></th>\n",
       "      <th>App</th>\n",
       "      <th>Translated_Review</th>\n",
       "      <th>Sentiment</th>\n",
       "      <th>Sentiment_Polarity</th>\n",
       "      <th>Sentiment_Subjectivity</th>\n",
       "    </tr>\n",
       "  </thead>\n",
       "  <tbody>\n",
       "    <tr>\n",
       "      <th>0</th>\n",
       "      <td>10 Best Foods for You</td>\n",
       "      <td>I like eat delicious food. That's I'm cooking ...</td>\n",
       "      <td>Positive</td>\n",
       "      <td>1.00</td>\n",
       "      <td>0.533333</td>\n",
       "    </tr>\n",
       "    <tr>\n",
       "      <th>1</th>\n",
       "      <td>10 Best Foods for You</td>\n",
       "      <td>This help eating healthy exercise regular basis</td>\n",
       "      <td>Positive</td>\n",
       "      <td>0.25</td>\n",
       "      <td>0.288462</td>\n",
       "    </tr>\n",
       "    <tr>\n",
       "      <th>2</th>\n",
       "      <td>10 Best Foods for You</td>\n",
       "      <td>NaN</td>\n",
       "      <td>NaN</td>\n",
       "      <td>NaN</td>\n",
       "      <td>NaN</td>\n",
       "    </tr>\n",
       "    <tr>\n",
       "      <th>3</th>\n",
       "      <td>10 Best Foods for You</td>\n",
       "      <td>Works great especially going grocery store</td>\n",
       "      <td>Positive</td>\n",
       "      <td>0.40</td>\n",
       "      <td>0.875000</td>\n",
       "    </tr>\n",
       "    <tr>\n",
       "      <th>4</th>\n",
       "      <td>10 Best Foods for You</td>\n",
       "      <td>Best idea us</td>\n",
       "      <td>Positive</td>\n",
       "      <td>1.00</td>\n",
       "      <td>0.300000</td>\n",
       "    </tr>\n",
       "  </tbody>\n",
       "</table>\n",
       "</div>"
      ],
      "text/plain": [
       "                     App                                  Translated_Review  \\\n",
       "0  10 Best Foods for You  I like eat delicious food. That's I'm cooking ...   \n",
       "1  10 Best Foods for You    This help eating healthy exercise regular basis   \n",
       "2  10 Best Foods for You                                                NaN   \n",
       "3  10 Best Foods for You         Works great especially going grocery store   \n",
       "4  10 Best Foods for You                                       Best idea us   \n",
       "\n",
       "  Sentiment  Sentiment_Polarity  Sentiment_Subjectivity  \n",
       "0  Positive                1.00                0.533333  \n",
       "1  Positive                0.25                0.288462  \n",
       "2       NaN                 NaN                     NaN  \n",
       "3  Positive                0.40                0.875000  \n",
       "4  Positive                1.00                0.300000  "
      ]
     },
     "execution_count": 5,
     "metadata": {},
     "output_type": "execute_result"
    }
   ],
   "source": [
    "rvw_df.head()"
   ]
  },
  {
   "cell_type": "code",
   "execution_count": 6,
   "metadata": {},
   "outputs": [],
   "source": [
    "# Step 2: Data Cleaning\n",
    "app_df = app_df.dropna(subset=['Rating'])\n",
    "for column in app_df.columns:\n",
    "    app_df[column].fillna(app_df[column].mode()[0], inplace=True)\n",
    "app_df.drop_duplicates(inplace=True)\n",
    "app_df = app_df[app_df['Rating'] != 5]\n",
    "rvw_df.dropna(subset=['Translated_Review'], inplace=True)"
   ]
  },
  {
   "cell_type": "code",
   "execution_count": 7,
   "metadata": {},
   "outputs": [],
   "source": [
    "# Merge datasets on 'App' and handle non-matching apps\n",
    "merged_df = pd.merge(app_df, rvw_df, on='App', how='inner')"
   ]
  },
  {
   "cell_type": "code",
   "execution_count": 8,
   "metadata": {},
   "outputs": [],
   "source": [
    "# Step 3: Data Transformation\n",
    "app_df['Reviews'] = app_df['Reviews'].astype(int)\n",
    "app_df['Installs'] = app_df['Installs'].str.replace(',', '').str.replace('+', '').astype(int)\n",
    "app_df['Price'] = app_df['Price'].str.replace('$', '').astype(float)"
   ]
  },
  {
   "cell_type": "code",
   "execution_count": 9,
   "metadata": {},
   "outputs": [],
   "source": [
    "def convert_size(size):\n",
    "    if 'M' in size:\n",
    "        return float(size.replace('M', ''))\n",
    "    elif 'k' in size:\n",
    "        return float(size.replace('k', '')) / 1024\n",
    "    else:\n",
    "        return np.nan"
   ]
  },
  {
   "cell_type": "code",
   "execution_count": 10,
   "metadata": {},
   "outputs": [
    {
     "data": {
      "text/html": [
       "<div>\n",
       "<style scoped>\n",
       "    .dataframe tbody tr th:only-of-type {\n",
       "        vertical-align: middle;\n",
       "    }\n",
       "\n",
       "    .dataframe tbody tr th {\n",
       "        vertical-align: top;\n",
       "    }\n",
       "\n",
       "    .dataframe thead th {\n",
       "        text-align: right;\n",
       "    }\n",
       "</style>\n",
       "<table border=\"1\" class=\"dataframe\">\n",
       "  <thead>\n",
       "    <tr style=\"text-align: right;\">\n",
       "      <th></th>\n",
       "      <th>Unnamed: 0</th>\n",
       "      <th>App</th>\n",
       "      <th>Category</th>\n",
       "      <th>Rating</th>\n",
       "      <th>Reviews</th>\n",
       "      <th>Size</th>\n",
       "      <th>Installs</th>\n",
       "      <th>Type</th>\n",
       "      <th>Price</th>\n",
       "      <th>Content Rating</th>\n",
       "      <th>Genres</th>\n",
       "      <th>Last Updated</th>\n",
       "      <th>Current Ver</th>\n",
       "      <th>Android Ver</th>\n",
       "      <th>Translated_Review</th>\n",
       "      <th>Sentiment</th>\n",
       "      <th>Sentiment_Polarity</th>\n",
       "      <th>Sentiment_Subjectivity</th>\n",
       "    </tr>\n",
       "  </thead>\n",
       "  <tbody>\n",
       "    <tr>\n",
       "      <th>0</th>\n",
       "      <td>1</td>\n",
       "      <td>Coloring book moana</td>\n",
       "      <td>ART_AND_DESIGN</td>\n",
       "      <td>3.9</td>\n",
       "      <td>967</td>\n",
       "      <td>14.0</td>\n",
       "      <td>500,000+</td>\n",
       "      <td>Free</td>\n",
       "      <td>0</td>\n",
       "      <td>Everyone</td>\n",
       "      <td>Art &amp; Design;Pretend Play</td>\n",
       "      <td>January 15, 2018</td>\n",
       "      <td>2.0.0</td>\n",
       "      <td>4.0.3 and up</td>\n",
       "      <td>A kid's excessive ads. The types ads allowed a...</td>\n",
       "      <td>Negative</td>\n",
       "      <td>-0.250</td>\n",
       "      <td>1.000000</td>\n",
       "    </tr>\n",
       "    <tr>\n",
       "      <th>1</th>\n",
       "      <td>1</td>\n",
       "      <td>Coloring book moana</td>\n",
       "      <td>ART_AND_DESIGN</td>\n",
       "      <td>3.9</td>\n",
       "      <td>967</td>\n",
       "      <td>14.0</td>\n",
       "      <td>500,000+</td>\n",
       "      <td>Free</td>\n",
       "      <td>0</td>\n",
       "      <td>Everyone</td>\n",
       "      <td>Art &amp; Design;Pretend Play</td>\n",
       "      <td>January 15, 2018</td>\n",
       "      <td>2.0.0</td>\n",
       "      <td>4.0.3 and up</td>\n",
       "      <td>It bad &gt;:(</td>\n",
       "      <td>Negative</td>\n",
       "      <td>-0.725</td>\n",
       "      <td>0.833333</td>\n",
       "    </tr>\n",
       "    <tr>\n",
       "      <th>2</th>\n",
       "      <td>1</td>\n",
       "      <td>Coloring book moana</td>\n",
       "      <td>ART_AND_DESIGN</td>\n",
       "      <td>3.9</td>\n",
       "      <td>967</td>\n",
       "      <td>14.0</td>\n",
       "      <td>500,000+</td>\n",
       "      <td>Free</td>\n",
       "      <td>0</td>\n",
       "      <td>Everyone</td>\n",
       "      <td>Art &amp; Design;Pretend Play</td>\n",
       "      <td>January 15, 2018</td>\n",
       "      <td>2.0.0</td>\n",
       "      <td>4.0.3 and up</td>\n",
       "      <td>like</td>\n",
       "      <td>Neutral</td>\n",
       "      <td>0.000</td>\n",
       "      <td>0.000000</td>\n",
       "    </tr>\n",
       "    <tr>\n",
       "      <th>3</th>\n",
       "      <td>1</td>\n",
       "      <td>Coloring book moana</td>\n",
       "      <td>ART_AND_DESIGN</td>\n",
       "      <td>3.9</td>\n",
       "      <td>967</td>\n",
       "      <td>14.0</td>\n",
       "      <td>500,000+</td>\n",
       "      <td>Free</td>\n",
       "      <td>0</td>\n",
       "      <td>Everyone</td>\n",
       "      <td>Art &amp; Design;Pretend Play</td>\n",
       "      <td>January 15, 2018</td>\n",
       "      <td>2.0.0</td>\n",
       "      <td>4.0.3 and up</td>\n",
       "      <td>I love colors inspyering</td>\n",
       "      <td>Positive</td>\n",
       "      <td>0.500</td>\n",
       "      <td>0.600000</td>\n",
       "    </tr>\n",
       "    <tr>\n",
       "      <th>4</th>\n",
       "      <td>1</td>\n",
       "      <td>Coloring book moana</td>\n",
       "      <td>ART_AND_DESIGN</td>\n",
       "      <td>3.9</td>\n",
       "      <td>967</td>\n",
       "      <td>14.0</td>\n",
       "      <td>500,000+</td>\n",
       "      <td>Free</td>\n",
       "      <td>0</td>\n",
       "      <td>Everyone</td>\n",
       "      <td>Art &amp; Design;Pretend Play</td>\n",
       "      <td>January 15, 2018</td>\n",
       "      <td>2.0.0</td>\n",
       "      <td>4.0.3 and up</td>\n",
       "      <td>I hate</td>\n",
       "      <td>Negative</td>\n",
       "      <td>-0.800</td>\n",
       "      <td>0.900000</td>\n",
       "    </tr>\n",
       "  </tbody>\n",
       "</table>\n",
       "</div>"
      ],
      "text/plain": [
       "   Unnamed: 0                  App        Category  Rating  Reviews  Size  \\\n",
       "0           1  Coloring book moana  ART_AND_DESIGN     3.9      967  14.0   \n",
       "1           1  Coloring book moana  ART_AND_DESIGN     3.9      967  14.0   \n",
       "2           1  Coloring book moana  ART_AND_DESIGN     3.9      967  14.0   \n",
       "3           1  Coloring book moana  ART_AND_DESIGN     3.9      967  14.0   \n",
       "4           1  Coloring book moana  ART_AND_DESIGN     3.9      967  14.0   \n",
       "\n",
       "   Installs  Type Price Content Rating                     Genres  \\\n",
       "0  500,000+  Free     0       Everyone  Art & Design;Pretend Play   \n",
       "1  500,000+  Free     0       Everyone  Art & Design;Pretend Play   \n",
       "2  500,000+  Free     0       Everyone  Art & Design;Pretend Play   \n",
       "3  500,000+  Free     0       Everyone  Art & Design;Pretend Play   \n",
       "4  500,000+  Free     0       Everyone  Art & Design;Pretend Play   \n",
       "\n",
       "       Last Updated Current Ver   Android Ver  \\\n",
       "0  January 15, 2018       2.0.0  4.0.3 and up   \n",
       "1  January 15, 2018       2.0.0  4.0.3 and up   \n",
       "2  January 15, 2018       2.0.0  4.0.3 and up   \n",
       "3  January 15, 2018       2.0.0  4.0.3 and up   \n",
       "4  January 15, 2018       2.0.0  4.0.3 and up   \n",
       "\n",
       "                                   Translated_Review Sentiment  \\\n",
       "0  A kid's excessive ads. The types ads allowed a...  Negative   \n",
       "1                                         It bad >:(  Negative   \n",
       "2                                               like   Neutral   \n",
       "3                           I love colors inspyering  Positive   \n",
       "4                                             I hate  Negative   \n",
       "\n",
       "   Sentiment_Polarity  Sentiment_Subjectivity  \n",
       "0              -0.250                1.000000  \n",
       "1              -0.725                0.833333  \n",
       "2               0.000                0.000000  \n",
       "3               0.500                0.600000  \n",
       "4              -0.800                0.900000  "
      ]
     },
     "execution_count": 10,
     "metadata": {},
     "output_type": "execute_result"
    }
   ],
   "source": [
    "merged_df.head()"
   ]
  },
  {
   "cell_type": "code",
   "execution_count": 11,
   "metadata": {},
   "outputs": [],
   "source": [
    "#lograrithmetic\n",
    "#Add log_installs and log_reviews columns\n",
    "app_df['Log_Installs']=np.log(app_df['Installs'])"
   ]
  },
  {
   "cell_type": "code",
   "execution_count": 12,
   "metadata": {},
   "outputs": [],
   "source": [
    "app_df['Reviews']=app_df['Reviews'].astype(int)"
   ]
  },
  {
   "cell_type": "code",
   "execution_count": 13,
   "metadata": {},
   "outputs": [],
   "source": [
    "app_df['Log_Reviews']=np.log(app_df['Reviews'])"
   ]
  },
  {
   "cell_type": "code",
   "execution_count": 14,
   "metadata": {},
   "outputs": [
    {
     "data": {
      "text/plain": [
       "Unnamed: 0          int64\n",
       "App                object\n",
       "Category           object\n",
       "Rating            float64\n",
       "Reviews             int32\n",
       "Size              float64\n",
       "Installs            int32\n",
       "Type               object\n",
       "Price             float64\n",
       "Content Rating     object\n",
       "Genres             object\n",
       "Last Updated       object\n",
       "Current Ver        object\n",
       "Android Ver        object\n",
       "Log_Installs      float64\n",
       "Log_Reviews       float64\n",
       "dtype: object"
      ]
     },
     "execution_count": 14,
     "metadata": {},
     "output_type": "execute_result"
    }
   ],
   "source": [
    "app_df.dtypes"
   ]
  },
  {
   "cell_type": "code",
   "execution_count": 15,
   "metadata": {},
   "outputs": [],
   "source": [
    "# Add Rating Group column\n",
    "def rating_group(rating):\n",
    "    if rating>=4:\n",
    "        return 'top rated app'\n",
    "    elif rating >=3:\n",
    "        return 'above average'\n",
    "    elif rating>=2:\n",
    "        return 'average'\n",
    "    else:\n",
    "        return 'below average'\n",
    "app_df['Rating_Group']=app_df['Rating'].apply(rating_group)\n"
   ]
  },
  {
   "cell_type": "code",
   "execution_count": 16,
   "metadata": {},
   "outputs": [],
   "source": [
    "## Add Revenue column\n",
    "app_df['Revenue']=app_df['Price']*app_df['Installs']"
   ]
  },
  {
   "cell_type": "code",
   "execution_count": 17,
   "metadata": {},
   "outputs": [],
   "source": [
    "# Sentiment Analysis\n",
    "sia= SentimentIntensityAnalyzer()\n",
    "rvw_df['Sentiment_Score'] = rvw_df['Translated_Review'].apply(lambda x: sia.polarity_scores(str(x))['compound'])"
   ]
  },
  {
   "cell_type": "code",
   "execution_count": 18,
   "metadata": {},
   "outputs": [],
   "source": [
    "#polarity scores in SIA\n",
    "#positive, negative , nuetral and compund"
   ]
  },
  {
   "cell_type": "code",
   "execution_count": 19,
   "metadata": {},
   "outputs": [
    {
     "name": "stdout",
     "output_type": "stream",
     "text": [
      "{'neg': 0.0, 'neu': 0.42, 'pos': 0.58, 'compound': 0.8516}\n"
     ]
    }
   ],
   "source": [
    "review='this app is amazing! i love the new features'\n",
    "sentiment_score=sia.polarity_scores(review)\n",
    "print(sentiment_score)"
   ]
  },
  {
   "cell_type": "code",
   "execution_count": 20,
   "metadata": {},
   "outputs": [
    {
     "name": "stdout",
     "output_type": "stream",
     "text": [
      "{'neg': 0.535, 'neu': 0.465, 'pos': 0.0, 'compound': -0.8427}\n"
     ]
    }
   ],
   "source": [
    "review='this app is very bad! i hate the new features'\n",
    "sentiment_score=sia.polarity_scores(review)\n",
    "print(sentiment_score)"
   ]
  },
  {
   "cell_type": "code",
   "execution_count": 21,
   "metadata": {},
   "outputs": [
    {
     "name": "stdout",
     "output_type": "stream",
     "text": [
      "{'neg': 0.0, 'neu': 0.578, 'pos': 0.422, 'compound': 0.2942}\n"
     ]
    }
   ],
   "source": [
    "review='this app is okay!'\n",
    "sentiment_score=sia.polarity_scores(review)\n",
    "print(sentiment_score)"
   ]
  },
  {
   "cell_type": "code",
   "execution_count": 22,
   "metadata": {},
   "outputs": [],
   "source": [
    "rvw_df['sentiment_score']=rvw_df['Translated_Review'].apply(lambda x: sia.polarity_scores(str(x))['compound'])"
   ]
  },
  {
   "cell_type": "code",
   "execution_count": 23,
   "metadata": {},
   "outputs": [
    {
     "data": {
      "text/html": [
       "<div>\n",
       "<style scoped>\n",
       "    .dataframe tbody tr th:only-of-type {\n",
       "        vertical-align: middle;\n",
       "    }\n",
       "\n",
       "    .dataframe tbody tr th {\n",
       "        vertical-align: top;\n",
       "    }\n",
       "\n",
       "    .dataframe thead th {\n",
       "        text-align: right;\n",
       "    }\n",
       "</style>\n",
       "<table border=\"1\" class=\"dataframe\">\n",
       "  <thead>\n",
       "    <tr style=\"text-align: right;\">\n",
       "      <th></th>\n",
       "      <th>App</th>\n",
       "      <th>Translated_Review</th>\n",
       "      <th>Sentiment</th>\n",
       "      <th>Sentiment_Polarity</th>\n",
       "      <th>Sentiment_Subjectivity</th>\n",
       "      <th>Sentiment_Score</th>\n",
       "      <th>sentiment_score</th>\n",
       "    </tr>\n",
       "  </thead>\n",
       "  <tbody>\n",
       "    <tr>\n",
       "      <th>0</th>\n",
       "      <td>10 Best Foods for You</td>\n",
       "      <td>I like eat delicious food. That's I'm cooking ...</td>\n",
       "      <td>Positive</td>\n",
       "      <td>1.00</td>\n",
       "      <td>0.533333</td>\n",
       "      <td>0.9531</td>\n",
       "      <td>0.9531</td>\n",
       "    </tr>\n",
       "    <tr>\n",
       "      <th>1</th>\n",
       "      <td>10 Best Foods for You</td>\n",
       "      <td>This help eating healthy exercise regular basis</td>\n",
       "      <td>Positive</td>\n",
       "      <td>0.25</td>\n",
       "      <td>0.288462</td>\n",
       "      <td>0.6597</td>\n",
       "      <td>0.6597</td>\n",
       "    </tr>\n",
       "    <tr>\n",
       "      <th>3</th>\n",
       "      <td>10 Best Foods for You</td>\n",
       "      <td>Works great especially going grocery store</td>\n",
       "      <td>Positive</td>\n",
       "      <td>0.40</td>\n",
       "      <td>0.875000</td>\n",
       "      <td>0.6249</td>\n",
       "      <td>0.6249</td>\n",
       "    </tr>\n",
       "    <tr>\n",
       "      <th>4</th>\n",
       "      <td>10 Best Foods for You</td>\n",
       "      <td>Best idea us</td>\n",
       "      <td>Positive</td>\n",
       "      <td>1.00</td>\n",
       "      <td>0.300000</td>\n",
       "      <td>0.6369</td>\n",
       "      <td>0.6369</td>\n",
       "    </tr>\n",
       "    <tr>\n",
       "      <th>5</th>\n",
       "      <td>10 Best Foods for You</td>\n",
       "      <td>Best way</td>\n",
       "      <td>Positive</td>\n",
       "      <td>1.00</td>\n",
       "      <td>0.300000</td>\n",
       "      <td>0.6369</td>\n",
       "      <td>0.6369</td>\n",
       "    </tr>\n",
       "  </tbody>\n",
       "</table>\n",
       "</div>"
      ],
      "text/plain": [
       "                     App                                  Translated_Review  \\\n",
       "0  10 Best Foods for You  I like eat delicious food. That's I'm cooking ...   \n",
       "1  10 Best Foods for You    This help eating healthy exercise regular basis   \n",
       "3  10 Best Foods for You         Works great especially going grocery store   \n",
       "4  10 Best Foods for You                                       Best idea us   \n",
       "5  10 Best Foods for You                                           Best way   \n",
       "\n",
       "  Sentiment  Sentiment_Polarity  Sentiment_Subjectivity  Sentiment_Score  \\\n",
       "0  Positive                1.00                0.533333           0.9531   \n",
       "1  Positive                0.25                0.288462           0.6597   \n",
       "3  Positive                0.40                0.875000           0.6249   \n",
       "4  Positive                1.00                0.300000           0.6369   \n",
       "5  Positive                1.00                0.300000           0.6369   \n",
       "\n",
       "   sentiment_score  \n",
       "0           0.9531  \n",
       "1           0.6597  \n",
       "3           0.6249  \n",
       "4           0.6369  \n",
       "5           0.6369  "
      ]
     },
     "execution_count": 23,
     "metadata": {},
     "output_type": "execute_result"
    }
   ],
   "source": [
    "rvw_df.head()"
   ]
  },
  {
   "cell_type": "code",
   "execution_count": 24,
   "metadata": {},
   "outputs": [],
   "source": [
    "# Extract year from 'Last Updated' and create 'Year' column\n",
    "app_df['Last Updated']=pd.to_datetime(app_df['Last Updated'],errors='coerce')"
   ]
  },
  {
   "cell_type": "code",
   "execution_count": 25,
   "metadata": {},
   "outputs": [],
   "source": [
    "app_df['Year']=app_df['Last Updated'].dt.year"
   ]
  },
  {
   "cell_type": "code",
   "execution_count": 26,
   "metadata": {},
   "outputs": [
    {
     "data": {
      "text/html": [
       "<div>\n",
       "<style scoped>\n",
       "    .dataframe tbody tr th:only-of-type {\n",
       "        vertical-align: middle;\n",
       "    }\n",
       "\n",
       "    .dataframe tbody tr th {\n",
       "        vertical-align: top;\n",
       "    }\n",
       "\n",
       "    .dataframe thead th {\n",
       "        text-align: right;\n",
       "    }\n",
       "</style>\n",
       "<table border=\"1\" class=\"dataframe\">\n",
       "  <thead>\n",
       "    <tr style=\"text-align: right;\">\n",
       "      <th></th>\n",
       "      <th>Unnamed: 0</th>\n",
       "      <th>App</th>\n",
       "      <th>Category</th>\n",
       "      <th>Rating</th>\n",
       "      <th>Reviews</th>\n",
       "      <th>Size</th>\n",
       "      <th>Installs</th>\n",
       "      <th>Type</th>\n",
       "      <th>Price</th>\n",
       "      <th>Content Rating</th>\n",
       "      <th>Genres</th>\n",
       "      <th>Last Updated</th>\n",
       "      <th>Current Ver</th>\n",
       "      <th>Android Ver</th>\n",
       "      <th>Log_Installs</th>\n",
       "      <th>Log_Reviews</th>\n",
       "      <th>Rating_Group</th>\n",
       "      <th>Revenue</th>\n",
       "      <th>Year</th>\n",
       "    </tr>\n",
       "  </thead>\n",
       "  <tbody>\n",
       "    <tr>\n",
       "      <th>0</th>\n",
       "      <td>0</td>\n",
       "      <td>Photo Editor &amp; Candy Camera &amp; Grid &amp; ScrapBook</td>\n",
       "      <td>ART_AND_DESIGN</td>\n",
       "      <td>4.1</td>\n",
       "      <td>159</td>\n",
       "      <td>19.0</td>\n",
       "      <td>10000</td>\n",
       "      <td>Free</td>\n",
       "      <td>0.0</td>\n",
       "      <td>Everyone</td>\n",
       "      <td>Art &amp; Design</td>\n",
       "      <td>2018-01-07</td>\n",
       "      <td>1.0.0</td>\n",
       "      <td>4.0.3 and up</td>\n",
       "      <td>9.210340</td>\n",
       "      <td>5.068904</td>\n",
       "      <td>top rated app</td>\n",
       "      <td>0.0</td>\n",
       "      <td>2018</td>\n",
       "    </tr>\n",
       "    <tr>\n",
       "      <th>1</th>\n",
       "      <td>1</td>\n",
       "      <td>Coloring book moana</td>\n",
       "      <td>ART_AND_DESIGN</td>\n",
       "      <td>3.9</td>\n",
       "      <td>967</td>\n",
       "      <td>14.0</td>\n",
       "      <td>500000</td>\n",
       "      <td>Free</td>\n",
       "      <td>0.0</td>\n",
       "      <td>Everyone</td>\n",
       "      <td>Art &amp; Design;Pretend Play</td>\n",
       "      <td>2018-01-15</td>\n",
       "      <td>2.0.0</td>\n",
       "      <td>4.0.3 and up</td>\n",
       "      <td>13.122363</td>\n",
       "      <td>6.874198</td>\n",
       "      <td>above average</td>\n",
       "      <td>0.0</td>\n",
       "      <td>2018</td>\n",
       "    </tr>\n",
       "    <tr>\n",
       "      <th>2</th>\n",
       "      <td>2</td>\n",
       "      <td>U Launcher Lite – FREE Live Cool Themes, Hide ...</td>\n",
       "      <td>ART_AND_DESIGN</td>\n",
       "      <td>4.7</td>\n",
       "      <td>87510</td>\n",
       "      <td>8.7</td>\n",
       "      <td>5000000</td>\n",
       "      <td>Free</td>\n",
       "      <td>0.0</td>\n",
       "      <td>Everyone</td>\n",
       "      <td>Art &amp; Design</td>\n",
       "      <td>2018-08-01</td>\n",
       "      <td>1.2.4</td>\n",
       "      <td>4.0.3 and up</td>\n",
       "      <td>15.424948</td>\n",
       "      <td>11.379508</td>\n",
       "      <td>top rated app</td>\n",
       "      <td>0.0</td>\n",
       "      <td>2018</td>\n",
       "    </tr>\n",
       "    <tr>\n",
       "      <th>3</th>\n",
       "      <td>3</td>\n",
       "      <td>Sketch - Draw &amp; Paint</td>\n",
       "      <td>ART_AND_DESIGN</td>\n",
       "      <td>4.5</td>\n",
       "      <td>215644</td>\n",
       "      <td>25.0</td>\n",
       "      <td>50000000</td>\n",
       "      <td>Free</td>\n",
       "      <td>0.0</td>\n",
       "      <td>Teen</td>\n",
       "      <td>Art &amp; Design</td>\n",
       "      <td>2018-06-08</td>\n",
       "      <td>Varies with device</td>\n",
       "      <td>4.2 and up</td>\n",
       "      <td>17.727534</td>\n",
       "      <td>12.281384</td>\n",
       "      <td>top rated app</td>\n",
       "      <td>0.0</td>\n",
       "      <td>2018</td>\n",
       "    </tr>\n",
       "    <tr>\n",
       "      <th>4</th>\n",
       "      <td>4</td>\n",
       "      <td>Pixel Draw - Number Art Coloring Book</td>\n",
       "      <td>ART_AND_DESIGN</td>\n",
       "      <td>4.3</td>\n",
       "      <td>967</td>\n",
       "      <td>2.8</td>\n",
       "      <td>100000</td>\n",
       "      <td>Free</td>\n",
       "      <td>0.0</td>\n",
       "      <td>Everyone</td>\n",
       "      <td>Art &amp; Design;Creativity</td>\n",
       "      <td>2018-06-20</td>\n",
       "      <td>1.1</td>\n",
       "      <td>4.4 and up</td>\n",
       "      <td>11.512925</td>\n",
       "      <td>6.874198</td>\n",
       "      <td>top rated app</td>\n",
       "      <td>0.0</td>\n",
       "      <td>2018</td>\n",
       "    </tr>\n",
       "  </tbody>\n",
       "</table>\n",
       "</div>"
      ],
      "text/plain": [
       "   Unnamed: 0                                                App  \\\n",
       "0           0     Photo Editor & Candy Camera & Grid & ScrapBook   \n",
       "1           1                                Coloring book moana   \n",
       "2           2  U Launcher Lite – FREE Live Cool Themes, Hide ...   \n",
       "3           3                              Sketch - Draw & Paint   \n",
       "4           4              Pixel Draw - Number Art Coloring Book   \n",
       "\n",
       "         Category  Rating  Reviews  Size  Installs  Type  Price  \\\n",
       "0  ART_AND_DESIGN     4.1      159  19.0     10000  Free    0.0   \n",
       "1  ART_AND_DESIGN     3.9      967  14.0    500000  Free    0.0   \n",
       "2  ART_AND_DESIGN     4.7    87510   8.7   5000000  Free    0.0   \n",
       "3  ART_AND_DESIGN     4.5   215644  25.0  50000000  Free    0.0   \n",
       "4  ART_AND_DESIGN     4.3      967   2.8    100000  Free    0.0   \n",
       "\n",
       "  Content Rating                     Genres Last Updated         Current Ver  \\\n",
       "0       Everyone               Art & Design   2018-01-07               1.0.0   \n",
       "1       Everyone  Art & Design;Pretend Play   2018-01-15               2.0.0   \n",
       "2       Everyone               Art & Design   2018-08-01               1.2.4   \n",
       "3           Teen               Art & Design   2018-06-08  Varies with device   \n",
       "4       Everyone    Art & Design;Creativity   2018-06-20                 1.1   \n",
       "\n",
       "    Android Ver  Log_Installs  Log_Reviews   Rating_Group  Revenue  Year  \n",
       "0  4.0.3 and up      9.210340     5.068904  top rated app      0.0  2018  \n",
       "1  4.0.3 and up     13.122363     6.874198  above average      0.0  2018  \n",
       "2  4.0.3 and up     15.424948    11.379508  top rated app      0.0  2018  \n",
       "3    4.2 and up     17.727534    12.281384  top rated app      0.0  2018  \n",
       "4    4.4 and up     11.512925     6.874198  top rated app      0.0  2018  "
      ]
     },
     "execution_count": 26,
     "metadata": {},
     "output_type": "execute_result"
    }
   ],
   "source": [
    "app_df.head()"
   ]
  },
  {
   "cell_type": "code",
   "execution_count": 27,
   "metadata": {},
   "outputs": [
    {
     "data": {
      "application/vnd.plotly.v1+json": {
       "config": {
        "plotlyServerURL": "https://plot.ly"
       },
       "data": [
        {
         "alignmentgroup": "True",
         "hovertemplate": "x=%{x}<br>y=%{y}<extra></extra>",
         "legendgroup": "",
         "marker": {
          "color": "#636efa",
          "pattern": {
           "shape": ""
          }
         },
         "name": "",
         "offsetgroup": "",
         "orientation": "v",
         "showlegend": false,
         "textposition": "auto",
         "type": "bar",
         "x": [
          "A",
          "B",
          "C"
         ],
         "xaxis": "x",
         "y": [
          1,
          3,
          2
         ],
         "yaxis": "y"
        }
       ],
       "layout": {
        "barmode": "relative",
        "legend": {
         "tracegroupgap": 0
        },
        "template": {
         "data": {
          "bar": [
           {
            "error_x": {
             "color": "#2a3f5f"
            },
            "error_y": {
             "color": "#2a3f5f"
            },
            "marker": {
             "line": {
              "color": "#E5ECF6",
              "width": 0.5
             },
             "pattern": {
              "fillmode": "overlay",
              "size": 10,
              "solidity": 0.2
             }
            },
            "type": "bar"
           }
          ],
          "barpolar": [
           {
            "marker": {
             "line": {
              "color": "#E5ECF6",
              "width": 0.5
             },
             "pattern": {
              "fillmode": "overlay",
              "size": 10,
              "solidity": 0.2
             }
            },
            "type": "barpolar"
           }
          ],
          "carpet": [
           {
            "aaxis": {
             "endlinecolor": "#2a3f5f",
             "gridcolor": "white",
             "linecolor": "white",
             "minorgridcolor": "white",
             "startlinecolor": "#2a3f5f"
            },
            "baxis": {
             "endlinecolor": "#2a3f5f",
             "gridcolor": "white",
             "linecolor": "white",
             "minorgridcolor": "white",
             "startlinecolor": "#2a3f5f"
            },
            "type": "carpet"
           }
          ],
          "choropleth": [
           {
            "colorbar": {
             "outlinewidth": 0,
             "ticks": ""
            },
            "type": "choropleth"
           }
          ],
          "contour": [
           {
            "colorbar": {
             "outlinewidth": 0,
             "ticks": ""
            },
            "colorscale": [
             [
              0,
              "#0d0887"
             ],
             [
              0.1111111111111111,
              "#46039f"
             ],
             [
              0.2222222222222222,
              "#7201a8"
             ],
             [
              0.3333333333333333,
              "#9c179e"
             ],
             [
              0.4444444444444444,
              "#bd3786"
             ],
             [
              0.5555555555555556,
              "#d8576b"
             ],
             [
              0.6666666666666666,
              "#ed7953"
             ],
             [
              0.7777777777777778,
              "#fb9f3a"
             ],
             [
              0.8888888888888888,
              "#fdca26"
             ],
             [
              1,
              "#f0f921"
             ]
            ],
            "type": "contour"
           }
          ],
          "contourcarpet": [
           {
            "colorbar": {
             "outlinewidth": 0,
             "ticks": ""
            },
            "type": "contourcarpet"
           }
          ],
          "heatmap": [
           {
            "colorbar": {
             "outlinewidth": 0,
             "ticks": ""
            },
            "colorscale": [
             [
              0,
              "#0d0887"
             ],
             [
              0.1111111111111111,
              "#46039f"
             ],
             [
              0.2222222222222222,
              "#7201a8"
             ],
             [
              0.3333333333333333,
              "#9c179e"
             ],
             [
              0.4444444444444444,
              "#bd3786"
             ],
             [
              0.5555555555555556,
              "#d8576b"
             ],
             [
              0.6666666666666666,
              "#ed7953"
             ],
             [
              0.7777777777777778,
              "#fb9f3a"
             ],
             [
              0.8888888888888888,
              "#fdca26"
             ],
             [
              1,
              "#f0f921"
             ]
            ],
            "type": "heatmap"
           }
          ],
          "heatmapgl": [
           {
            "colorbar": {
             "outlinewidth": 0,
             "ticks": ""
            },
            "colorscale": [
             [
              0,
              "#0d0887"
             ],
             [
              0.1111111111111111,
              "#46039f"
             ],
             [
              0.2222222222222222,
              "#7201a8"
             ],
             [
              0.3333333333333333,
              "#9c179e"
             ],
             [
              0.4444444444444444,
              "#bd3786"
             ],
             [
              0.5555555555555556,
              "#d8576b"
             ],
             [
              0.6666666666666666,
              "#ed7953"
             ],
             [
              0.7777777777777778,
              "#fb9f3a"
             ],
             [
              0.8888888888888888,
              "#fdca26"
             ],
             [
              1,
              "#f0f921"
             ]
            ],
            "type": "heatmapgl"
           }
          ],
          "histogram": [
           {
            "marker": {
             "pattern": {
              "fillmode": "overlay",
              "size": 10,
              "solidity": 0.2
             }
            },
            "type": "histogram"
           }
          ],
          "histogram2d": [
           {
            "colorbar": {
             "outlinewidth": 0,
             "ticks": ""
            },
            "colorscale": [
             [
              0,
              "#0d0887"
             ],
             [
              0.1111111111111111,
              "#46039f"
             ],
             [
              0.2222222222222222,
              "#7201a8"
             ],
             [
              0.3333333333333333,
              "#9c179e"
             ],
             [
              0.4444444444444444,
              "#bd3786"
             ],
             [
              0.5555555555555556,
              "#d8576b"
             ],
             [
              0.6666666666666666,
              "#ed7953"
             ],
             [
              0.7777777777777778,
              "#fb9f3a"
             ],
             [
              0.8888888888888888,
              "#fdca26"
             ],
             [
              1,
              "#f0f921"
             ]
            ],
            "type": "histogram2d"
           }
          ],
          "histogram2dcontour": [
           {
            "colorbar": {
             "outlinewidth": 0,
             "ticks": ""
            },
            "colorscale": [
             [
              0,
              "#0d0887"
             ],
             [
              0.1111111111111111,
              "#46039f"
             ],
             [
              0.2222222222222222,
              "#7201a8"
             ],
             [
              0.3333333333333333,
              "#9c179e"
             ],
             [
              0.4444444444444444,
              "#bd3786"
             ],
             [
              0.5555555555555556,
              "#d8576b"
             ],
             [
              0.6666666666666666,
              "#ed7953"
             ],
             [
              0.7777777777777778,
              "#fb9f3a"
             ],
             [
              0.8888888888888888,
              "#fdca26"
             ],
             [
              1,
              "#f0f921"
             ]
            ],
            "type": "histogram2dcontour"
           }
          ],
          "mesh3d": [
           {
            "colorbar": {
             "outlinewidth": 0,
             "ticks": ""
            },
            "type": "mesh3d"
           }
          ],
          "parcoords": [
           {
            "line": {
             "colorbar": {
              "outlinewidth": 0,
              "ticks": ""
             }
            },
            "type": "parcoords"
           }
          ],
          "pie": [
           {
            "automargin": true,
            "type": "pie"
           }
          ],
          "scatter": [
           {
            "fillpattern": {
             "fillmode": "overlay",
             "size": 10,
             "solidity": 0.2
            },
            "type": "scatter"
           }
          ],
          "scatter3d": [
           {
            "line": {
             "colorbar": {
              "outlinewidth": 0,
              "ticks": ""
             }
            },
            "marker": {
             "colorbar": {
              "outlinewidth": 0,
              "ticks": ""
             }
            },
            "type": "scatter3d"
           }
          ],
          "scattercarpet": [
           {
            "marker": {
             "colorbar": {
              "outlinewidth": 0,
              "ticks": ""
             }
            },
            "type": "scattercarpet"
           }
          ],
          "scattergeo": [
           {
            "marker": {
             "colorbar": {
              "outlinewidth": 0,
              "ticks": ""
             }
            },
            "type": "scattergeo"
           }
          ],
          "scattergl": [
           {
            "marker": {
             "colorbar": {
              "outlinewidth": 0,
              "ticks": ""
             }
            },
            "type": "scattergl"
           }
          ],
          "scattermapbox": [
           {
            "marker": {
             "colorbar": {
              "outlinewidth": 0,
              "ticks": ""
             }
            },
            "type": "scattermapbox"
           }
          ],
          "scatterpolar": [
           {
            "marker": {
             "colorbar": {
              "outlinewidth": 0,
              "ticks": ""
             }
            },
            "type": "scatterpolar"
           }
          ],
          "scatterpolargl": [
           {
            "marker": {
             "colorbar": {
              "outlinewidth": 0,
              "ticks": ""
             }
            },
            "type": "scatterpolargl"
           }
          ],
          "scatterternary": [
           {
            "marker": {
             "colorbar": {
              "outlinewidth": 0,
              "ticks": ""
             }
            },
            "type": "scatterternary"
           }
          ],
          "surface": [
           {
            "colorbar": {
             "outlinewidth": 0,
             "ticks": ""
            },
            "colorscale": [
             [
              0,
              "#0d0887"
             ],
             [
              0.1111111111111111,
              "#46039f"
             ],
             [
              0.2222222222222222,
              "#7201a8"
             ],
             [
              0.3333333333333333,
              "#9c179e"
             ],
             [
              0.4444444444444444,
              "#bd3786"
             ],
             [
              0.5555555555555556,
              "#d8576b"
             ],
             [
              0.6666666666666666,
              "#ed7953"
             ],
             [
              0.7777777777777778,
              "#fb9f3a"
             ],
             [
              0.8888888888888888,
              "#fdca26"
             ],
             [
              1,
              "#f0f921"
             ]
            ],
            "type": "surface"
           }
          ],
          "table": [
           {
            "cells": {
             "fill": {
              "color": "#EBF0F8"
             },
             "line": {
              "color": "white"
             }
            },
            "header": {
             "fill": {
              "color": "#C8D4E3"
             },
             "line": {
              "color": "white"
             }
            },
            "type": "table"
           }
          ]
         },
         "layout": {
          "annotationdefaults": {
           "arrowcolor": "#2a3f5f",
           "arrowhead": 0,
           "arrowwidth": 1
          },
          "autotypenumbers": "strict",
          "coloraxis": {
           "colorbar": {
            "outlinewidth": 0,
            "ticks": ""
           }
          },
          "colorscale": {
           "diverging": [
            [
             0,
             "#8e0152"
            ],
            [
             0.1,
             "#c51b7d"
            ],
            [
             0.2,
             "#de77ae"
            ],
            [
             0.3,
             "#f1b6da"
            ],
            [
             0.4,
             "#fde0ef"
            ],
            [
             0.5,
             "#f7f7f7"
            ],
            [
             0.6,
             "#e6f5d0"
            ],
            [
             0.7,
             "#b8e186"
            ],
            [
             0.8,
             "#7fbc41"
            ],
            [
             0.9,
             "#4d9221"
            ],
            [
             1,
             "#276419"
            ]
           ],
           "sequential": [
            [
             0,
             "#0d0887"
            ],
            [
             0.1111111111111111,
             "#46039f"
            ],
            [
             0.2222222222222222,
             "#7201a8"
            ],
            [
             0.3333333333333333,
             "#9c179e"
            ],
            [
             0.4444444444444444,
             "#bd3786"
            ],
            [
             0.5555555555555556,
             "#d8576b"
            ],
            [
             0.6666666666666666,
             "#ed7953"
            ],
            [
             0.7777777777777778,
             "#fb9f3a"
            ],
            [
             0.8888888888888888,
             "#fdca26"
            ],
            [
             1,
             "#f0f921"
            ]
           ],
           "sequentialminus": [
            [
             0,
             "#0d0887"
            ],
            [
             0.1111111111111111,
             "#46039f"
            ],
            [
             0.2222222222222222,
             "#7201a8"
            ],
            [
             0.3333333333333333,
             "#9c179e"
            ],
            [
             0.4444444444444444,
             "#bd3786"
            ],
            [
             0.5555555555555556,
             "#d8576b"
            ],
            [
             0.6666666666666666,
             "#ed7953"
            ],
            [
             0.7777777777777778,
             "#fb9f3a"
            ],
            [
             0.8888888888888888,
             "#fdca26"
            ],
            [
             1,
             "#f0f921"
            ]
           ]
          },
          "colorway": [
           "#636efa",
           "#EF553B",
           "#00cc96",
           "#ab63fa",
           "#FFA15A",
           "#19d3f3",
           "#FF6692",
           "#B6E880",
           "#FF97FF",
           "#FECB52"
          ],
          "font": {
           "color": "#2a3f5f"
          },
          "geo": {
           "bgcolor": "white",
           "lakecolor": "white",
           "landcolor": "#E5ECF6",
           "showlakes": true,
           "showland": true,
           "subunitcolor": "white"
          },
          "hoverlabel": {
           "align": "left"
          },
          "hovermode": "closest",
          "mapbox": {
           "style": "light"
          },
          "paper_bgcolor": "white",
          "plot_bgcolor": "#E5ECF6",
          "polar": {
           "angularaxis": {
            "gridcolor": "white",
            "linecolor": "white",
            "ticks": ""
           },
           "bgcolor": "#E5ECF6",
           "radialaxis": {
            "gridcolor": "white",
            "linecolor": "white",
            "ticks": ""
           }
          },
          "scene": {
           "xaxis": {
            "backgroundcolor": "#E5ECF6",
            "gridcolor": "white",
            "gridwidth": 2,
            "linecolor": "white",
            "showbackground": true,
            "ticks": "",
            "zerolinecolor": "white"
           },
           "yaxis": {
            "backgroundcolor": "#E5ECF6",
            "gridcolor": "white",
            "gridwidth": 2,
            "linecolor": "white",
            "showbackground": true,
            "ticks": "",
            "zerolinecolor": "white"
           },
           "zaxis": {
            "backgroundcolor": "#E5ECF6",
            "gridcolor": "white",
            "gridwidth": 2,
            "linecolor": "white",
            "showbackground": true,
            "ticks": "",
            "zerolinecolor": "white"
           }
          },
          "shapedefaults": {
           "line": {
            "color": "#2a3f5f"
           }
          },
          "ternary": {
           "aaxis": {
            "gridcolor": "white",
            "linecolor": "white",
            "ticks": ""
           },
           "baxis": {
            "gridcolor": "white",
            "linecolor": "white",
            "ticks": ""
           },
           "bgcolor": "#E5ECF6",
           "caxis": {
            "gridcolor": "white",
            "linecolor": "white",
            "ticks": ""
           }
          },
          "title": {
           "x": 0.05
          },
          "xaxis": {
           "automargin": true,
           "gridcolor": "white",
           "linecolor": "white",
           "ticks": "",
           "title": {
            "standoff": 15
           },
           "zerolinecolor": "white",
           "zerolinewidth": 2
          },
          "yaxis": {
           "automargin": true,
           "gridcolor": "white",
           "linecolor": "white",
           "ticks": "",
           "title": {
            "standoff": 15
           },
           "zerolinecolor": "white",
           "zerolinewidth": 2
          }
         }
        },
        "title": {
         "text": "sample bar chat"
        },
        "xaxis": {
         "anchor": "y",
         "domain": [
          0,
          1
         ],
         "title": {
          "text": "x"
         }
        },
        "yaxis": {
         "anchor": "x",
         "domain": [
          0,
          1
         ],
         "title": {
          "text": "y"
         }
        }
       }
      }
     },
     "metadata": {},
     "output_type": "display_data"
    }
   ],
   "source": [
    "import plotly.express as px\n",
    "fig=px.bar(x=[\"A\",\"B\",\"C\"],y=[1,3,2],title=\"sample bar chat\")\n",
    "fig.show()"
   ]
  },
  {
   "cell_type": "code",
   "execution_count": 28,
   "metadata": {},
   "outputs": [],
   "source": [
    "import os\n",
    "\n",
    "# Define the path for your HTML files\n",
    "html_files_path = \"C:/Users/User/Desktop/google/html files\"\n",
    "\n",
    "# Make sure the directory exists\n",
    "if not os.path.exists(html_files_path):\n",
    "    os.makedirs(html_files_path)\n",
    "\n",
    "# Initialize plot_containers\n",
    "plot_containers = \"\"\n",
    "\n",
    "# Save each Plotly figure to an HTML file\n",
    "def save_plot_as_html(fig, filename, insight):\n",
    "    global plot_containers\n",
    "    filepath = os.path.join(html_files_path, filename)\n",
    "    html_content = pio.to_html(fig, full_html=False, include_plotlyjs='inline')\n",
    "    # Append the plot and its insight to plot_containers\n",
    "    plot_containers += f\"\"\"\n",
    "    <div class=\"plot-container\" id=\"{filename}\" onclick=\"openPlot('{filename}')\">\n",
    "        <div class=\"plot\">{html_content}</div>\n",
    "        <div class=\"insights\">{insight}</div>\n",
    "    </div>\n",
    "    \"\"\"\n",
    "    fig.write_html(filepath, full_html=False, include_plotlyjs='inline')\n",
    "\n",
    "# Define your plots\n",
    "plot_width = 400\n",
    "plot_height = 300\n",
    "plot_bg_color = 'black'\n",
    "text_color = 'white'\n",
    "title_font = {'size': 16}\n",
    "axis_font = {'size': 12}\n",
    "# Category Analysis Plot\n",
    "category_counts = app_df['Category'].value_counts().nlargest(10)\n",
    "fig1 = px.bar(\n",
    "    x=category_counts.index,\n",
    "    y=category_counts.values,\n",
    "    labels={'x': 'Category', 'y': 'Count'},\n",
    "    title='Top Categories on Play Store',\n",
    "    color=category_counts.index,\n",
    "    color_discrete_sequence=px.colors.sequential.Plasma,\n",
    "    width=plot_width,\n",
    "    height=plot_height\n",
    ")\n",
    "fig1.update_layout(\n",
    "    plot_bgcolor=plot_bg_color,\n",
    "    paper_bgcolor=plot_bg_color,\n",
    "    font_color=text_color,\n",
    "    title_font=title_font,\n",
    "    xaxis=dict(title_font=axis_font),\n",
    "    yaxis=dict(title_font=axis_font),\n",
    "    margin=dict(l=10, r=10, t=30, b=10)\n",
    ")\n",
    "fig1.update_traces(marker=dict(line=dict(color=text_color, width=1)))\n",
    "save_plot_as_html(fig1, \"category_analysis.html\", \"The top categories on the Play Store are dominated by tools, entertainment, and productivity apps. This suggests users are looking for apps that either provide utility or offer leisure activities.\")\n",
    "\n",
    "# Type Analysis Plot\n",
    "type_counts = app_df['Type'].value_counts()\n",
    "fig2 = px.pie(\n",
    "    values=type_counts.values,\n",
    "    names=type_counts.index,\n",
    "    title='App Type Distribution',\n",
    "    color_discrete_sequence=px.colors.sequential.RdBu,\n",
    "    width=plot_width,\n",
    "    height=plot_height\n",
    ")\n",
    "fig2.update_traces(textposition='inside', textinfo='percent+label')\n",
    "fig2.update_layout(\n",
    "    plot_bgcolor=plot_bg_color,\n",
    "    paper_bgcolor=plot_bg_color,\n",
    "    font_color=text_color,\n",
    "    title_font=title_font,\n",
    "    margin=dict(l=10, r=10, t=30, b=10)\n",
    ")\n",
    "save_plot_as_html(fig2, \"type_analysis.html\", \"Most apps on the Play Store are free, indicating a strategy to attract users first and monetize through ads or in-app purchases.\")\n",
    "\n",
    "# Rating Distribution Plot\n",
    "fig3 = px.histogram(\n",
    "    app_df,\n",
    "    x='Rating',\n",
    "    nbins=20,\n",
    "    title='Rating Distribution',\n",
    "    color_discrete_sequence=['#636EFA'],\n",
    "    width=plot_width,\n",
    "    height=plot_height\n",
    ")\n",
    "fig3.update_layout(\n",
    "    plot_bgcolor=plot_bg_color,\n",
    "    paper_bgcolor=plot_bg_color,\n",
    "    font_color=text_color,\n",
    "    title_font=title_font,\n",
    "    xaxis=dict(title_font=axis_font),\n",
    "    yaxis=dict(title_font=axis_font),\n",
    "    margin=dict(l=10, r=10, t=30, b=10)\n",
    ")\n",
    "save_plot_as_html(fig3, \"rating_distribution.html\", \"Ratings are skewed towards higher values, suggesting that most apps are rated favorably by users.\")\n",
    "\n",
    "sentiment_counts = rvw_df['Sentiment_Score'].value_counts()\n",
    "fig4 = px.bar(\n",
    "    x=sentiment_counts.index,\n",
    "    y=sentiment_counts.values,\n",
    "    labels={'x': 'Sentiment Score', 'y': 'Count'},\n",
    "    title='Sentiment Distribution',\n",
    "    color=sentiment_counts.index,\n",
    "    color_discrete_sequence=px.colors.sequential.RdPu,\n",
    "    width=plot_width,\n",
    "    height=plot_height\n",
    ")\n",
    "fig4.update_layout(\n",
    "    plot_bgcolor=plot_bg_color,\n",
    "    paper_bgcolor=plot_bg_color,\n",
    "    font_color=text_color,\n",
    "    title_font=title_font,\n",
    "    xaxis=dict(title_font=axis_font),\n",
    "    yaxis=dict(title_font=axis_font),\n",
    "    margin=dict(l=10, r=10, t=30, b=10)\n",
    ")\n",
    "fig4.update_traces(marker=dict(line=dict(color=text_color, width=1)))\n",
    "save_plot_as_html(fig4, \"sentiment_distribution.html\", \"Sentiments in reviews show a mix of positive and negative feedback, with a slight lean towards positive sentiments.\")\n",
    "\n",
    "# Installs by Category Plot\n",
    "installs_by_category = app_df.groupby('Category')['Installs'].sum().nlargest(10)\n",
    "fig5 = px.bar(\n",
    "    x=installs_by_category.values,\n",
    "    y=installs_by_category.index,\n",
    "    orientation='h',\n",
    "    labels={'x': 'Installs', 'y': 'Category'},\n",
    "    title='Installs by Category',\n",
    "    color=installs_by_category.index,\n",
    "    color_discrete_sequence=px.colors.sequential.Blues,\n",
    "    width=plot_width,\n",
    "    height=plot_height\n",
    ")\n",
    "fig5.update_layout(\n",
    "    plot_bgcolor=plot_bg_color,\n",
    "    paper_bgcolor=plot_bg_color,\n",
    "    font_color=text_color,\n",
    "    title_font=title_font,\n",
    "    xaxis=dict(title_font=axis_font),\n",
    "    yaxis=dict(title_font=axis_font),\n",
    "    margin=dict(l=10, r=10, t=30, b=10)\n",
    ")\n",
    "fig5.update_traces(marker=dict(line=dict(color=text_color, width=1)))\n",
    "save_plot_as_html(fig5, \"installs_by_category.html\", \"The categories with the most installs are social and communication apps, which reflects their broad appeal and daily usage.\")\n",
    "\n",
    "# Updates Per Year Plot\n",
    "updates_per_year = app_df['Last Updated'].dt.year.value_counts().sort_index()\n",
    "fig6 = px.line(\n",
    "    x=updates_per_year.index,\n",
    "    y=updates_per_year.values,\n",
    "    labels={'x': 'Year', 'y': 'Number of Updates'},\n",
    "    title='Number of Updates Over the Years',\n",
    "    color_discrete_sequence=['#AB63FA'],\n",
    "    width=plot_width,\n",
    "    height=plot_height\n",
    ")\n",
    "fig6.update_layout(\n",
    "    plot_bgcolor=plot_bg_color,\n",
    "    paper_bgcolor=plot_bg_color,\n",
    "    font_color=text_color,\n",
    "    title_font=title_font,\n",
    "    xaxis=dict(title_font=axis_font),\n",
    "    yaxis=dict(title_font=axis_font),\n",
    "    margin=dict(l=10, r=10, t=30, b=10)\n",
    ")\n",
    "save_plot_as_html(fig6, \"updates_per_year.html\", \"Updates have been increasing over the years, showing that developers are actively maintaining and improving their apps.\")\n",
    "\n",
    "# Revenue by Category Plot\n",
    "revenue_by_category = app_df.groupby('Category')['Revenue'].sum().nlargest(10)\n",
    "fig7 = px.bar(\n",
    "    x=revenue_by_category.index,\n",
    "    y=revenue_by_category.values,\n",
    "    labels={'x': 'Category', 'y': 'Revenue'},\n",
    "    title='Revenue by Category',\n",
    "    color=revenue_by_category.index,\n",
    "    color_discrete_sequence=px.colors.sequential.Greens,\n",
    "    width=plot_width,\n",
    "    height=plot_height\n",
    ")\n",
    "fig7.update_layout(\n",
    "    plot_bgcolor=plot_bg_color,\n",
    "    paper_bgcolor=plot_bg_color,\n",
    "    font_color=text_color,\n",
    "    title_font=title_font,\n",
    "    xaxis=dict(title_font=axis_font),\n",
    "    yaxis=dict(title_font=axis_font),\n",
    "    margin=dict(l=10, r=10, t=30, b=10)\n",
    ")\n",
    "fig7.update_traces(marker=dict(line=dict(color=text_color, width=1)))\n",
    "save_plot_as_html(fig7, \"revenue_by_category.html\", \"Categories such as Business and Productivity lead in revenue generation, indicating their monetization potential.\")\n",
    "\n",
    "# Genre Count Plot\n",
    "genre_counts = app_df['Genres'].str.split(';', expand=True).stack().value_counts().nlargest(10)\n",
    "fig8 = px.bar(\n",
    "    x=genre_counts.index,\n",
    "    y=genre_counts.values,\n",
    "    labels={'x': 'Genre', 'y': 'Count'},\n",
    "    title='Top Genres',\n",
    "    color=genre_counts.index,\n",
    "    color_discrete_sequence=px.colors.sequential.OrRd,\n",
    "    width=plot_width,\n",
    "    height=plot_height\n",
    ")\n",
    "fig8.update_layout(\n",
    "    plot_bgcolor=plot_bg_color,\n",
    "    paper_bgcolor=plot_bg_color,\n",
    "    font_color=text_color,\n",
    "    title_font=title_font,\n",
    "    xaxis=dict(title_font=axis_font),\n",
    "    yaxis=dict(title_font=axis_font),\n",
    "    margin=dict(l=10, r=10, t=30, b=10)\n",
    ")\n",
    "fig8.update_traces(marker=dict(line=dict(color=text_color, width=1)))\n",
    "save_plot_as_html(fig8, \"genres_counts.html\", \"Action and Casual genres are the most common, reflecting users' preference for engaging and easy-to-play games.\")\n",
    "\n",
    "# Impact of Last Update on Rating\n",
    "fig9 = px.scatter(\n",
    "    app_df,\n",
    "    x='Last Updated',\n",
    "    y='Rating',\n",
    "    color='Type',\n",
    "    title='Impact of Last Update on Rating',\n",
    "    color_discrete_sequence=px.colors.qualitative.Vivid,\n",
    "    width=plot_width,\n",
    "    height=plot_height\n",
    ")\n",
    "fig9.update_layout(\n",
    "    plot_bgcolor=plot_bg_color,\n",
    "    paper_bgcolor=plot_bg_color,\n",
    "    font_color=text_color,\n",
    "    title_font=title_font,\n",
    "    xaxis=dict(title_font=axis_font),\n",
    "    yaxis=dict(title_font=axis_font),\n",
    "    margin=dict(l=10, r=10, t=30, b=10)\n",
    ")\n",
    "save_plot_as_html(fig9, \"update_on_rating.html\", \"The scatter plot shows a weak correlation between the last update date and ratings, suggesting that more frequent updates don't always result in better ratings.\")\n",
    "\n",
    "# Ratings for Paid vs Free Apps\n",
    "fig10 = px.box(\n",
    "    app_df,\n",
    "    x='Type',\n",
    "    y='Rating',\n",
    "    color='Type',\n",
    "    title='Ratings for Paid vs Free Apps',\n",
    "    color_discrete_sequence=px.colors.qualitative.Pastel,\n",
    "    width=plot_width,\n",
    "    height=plot_height\n",
    ")\n",
    "fig10.update_layout(\n",
    "    plot_bgcolor=plot_bg_color,\n",
    "    paper_bgcolor=plot_bg_color,\n",
    "    font_color=text_color,\n",
    "    title_font=title_font,\n",
    "    xaxis=dict(title_font=axis_font),\n",
    "    yaxis=dict(title_font=axis_font),\n",
    "    margin=dict(l=10, r=10, t=30, b=10)\n",
    ")\n",
    "save_plot_as_html(fig10, \"ratings_paid_free.html\", \"Paid apps generally have higher ratings compared to free apps, suggesting that users expect higher quality from apps they pay for.\")\n",
    "\n",
    "# Split plot_containers to handle the last plot properly\n",
    "plot_containers_split = plot_containers.split('</div>')\n",
    "if len(plot_containers_split) > 1:\n",
    "    final_plot = plot_containers_split[-2] + '</div>'\n",
    "else:\n",
    "    final_plot = plot_containers  # Use plot_containers as default if splitting isn't sufficient\n"
   ]
  },
  {
   "cell_type": "code",
   "execution_count": 29,
   "metadata": {},
   "outputs": [
    {
     "data": {
      "text/plain": [
       "True"
      ]
     },
     "execution_count": 29,
     "metadata": {},
     "output_type": "execute_result"
    }
   ],
   "source": [
    "# Define your HTML template string\n",
    "dashboard_html = \"\"\"\n",
    "<!DOCTYPE html>\n",
    "<html lang=\"en\">\n",
    "<head>\n",
    "    <meta charset=\"UTF-8\">\n",
    "    <meta name=\"viewport\" content=\"width=device-width, initial-scale=1.0\">\n",
    "    <title>Google Play Store Review Analytics</title>\n",
    "    <style>\n",
    "        body {{\n",
    "            font-family: Arial, sans-serif;\n",
    "            background-color: #333;\n",
    "            color: #fff;\n",
    "            margin: 0;\n",
    "            padding: 0;\n",
    "        }}\n",
    "        .header {{\n",
    "            display: flex;\n",
    "            align-items: center;\n",
    "            justify-content: center;\n",
    "            padding: 20px;\n",
    "            background-color: #444;\n",
    "        }}\n",
    "        .header img {{\n",
    "            margin: 0 10px;\n",
    "            height: 50px;\n",
    "        }}\n",
    "        .container {{\n",
    "            display: flex;\n",
    "            flex-wrap: wrap;\n",
    "            justify-content: center;\n",
    "            padding: 20px;\n",
    "        }}\n",
    "        .plot-container {{\n",
    "            border: 2px solid #555;\n",
    "            margin: 10px;\n",
    "            padding: 10px;\n",
    "            width: {plot_width}px;\n",
    "            height: {plot_height}px;\n",
    "            overflow: hidden;\n",
    "            position: relative;\n",
    "            cursor: pointer;\n",
    "        }}\n",
    "        .insights {{\n",
    "            display: none;\n",
    "            position: absolute;\n",
    "            right: 10px;\n",
    "            top: 10px;\n",
    "            background-color: rgba(0,0,0,0.7);\n",
    "            padding: 5px;\n",
    "            border-radius: 5px;\n",
    "            color: #fff;\n",
    "        }}\n",
    "        .plot-container:hover .insights {{\n",
    "            display: block;\n",
    "        }}\n",
    "    </style>\n",
    "    <script>\n",
    "        function openPlot(filename) {{\n",
    "            window.open(filename, '_blank');\n",
    "        }}\n",
    "    </script>\n",
    "</head>\n",
    "<body>\n",
    "    <div class=\"header\">\n",
    "        <img src=\"https://upload.wikimedia.org/wikipedia/commons/thumb/4/4a/Logo_2013_Google.png/800px-Logo_2013_Google.png\" alt=\"Google Logo\">\n",
    "        <h1>Google Play Store Reviews Analytics</h1>\n",
    "        <img src=\"https://upload.wikimedia.org/wikipedia/commons/thumb/7/78/Google_Play_Store_badge_EN.svg/1024px-Google_Play_Store_badge_EN.svg.png\" alt=\"Google Play Store Logo\">\n",
    "    </div>\n",
    "    <div class=\"container\">\n",
    "        {plots}\n",
    "    </div>\n",
    "</body>\n",
    "</html>\n",
    "\"\"\"\n",
    "\n",
    "\n",
    "final_html=\"C:/Users/User/Desktop/google/dashboard.html\"\n",
    "# Format it with your dynamic variables\n",
    "final_html = dashboard_html.format(plots=plot_containers, plot_width=plot_width, plot_height=plot_height)\n",
    "\n",
    "# Save it to file\n",
    "dashboard_path = os.path.join(html_files_path, \"dashboard.html\")\n",
    "with open(dashboard_path, \"w\", encoding=\"utf-8\") as f:\n",
    "    f.write(final_html)\n",
    "\n",
    "# Open in browser\n",
    "import webbrowser, os\n",
    "webbrowser.open('file://' + os.path.realpath(dashboard_path))"
   ]
  },
  {
   "attachments": {},
   "cell_type": "markdown",
   "metadata": {},
   "source": [
    "INTERNSHIP TASKS:-"
   ]
  },
  {
   "attachments": {},
   "cell_type": "markdown",
   "metadata": {},
   "source": [
    "TASK 1:-"
   ]
  },
  {
   "cell_type": "code",
   "execution_count": 30,
   "metadata": {},
   "outputs": [
    {
     "data": {
      "application/vnd.plotly.v1+json": {
       "config": {
        "plotlyServerURL": "https://plot.ly"
       },
       "data": [
        {
         "customdata": [
          [
           "TurboScan: scan documents and receipts in PDF"
          ],
          [
           "Tiny Scanner Pro: PDF Doc Scan"
          ],
          [
           "SkyTest BU/GU Lite"
          ],
          [
           "BZ Reminder PRO"
          ],
          [
           "CM FILE MANAGER Pro"
          ],
          [
           "Super Resume Builder Pro, CV"
          ],
          [
           "DG Surveyor"
          ],
          [
           "The DG Buddy"
          ],
          [
           "DS Helpdesk Plus"
          ]
         ],
         "hovertemplate": "Category=BUSINESS<br>Installs=%{x}<br>Revenue=%{y}<br>App=%{customdata[0]}<extra></extra>",
         "legendgroup": "BUSINESS",
         "marker": {
          "color": "#636efa",
          "symbol": "circle"
         },
         "mode": "markers",
         "name": "BUSINESS",
         "orientation": "v",
         "showlegend": true,
         "type": "scatter",
         "x": [
          100000,
          100000,
          500,
          1000,
          10000,
          1000,
          50,
          10,
          100
         ],
         "xaxis": "x",
         "y": [
          499000,
          499000,
          8995,
          3990,
          29900.000000000004,
          4990,
          449.5,
          24.900000000000002,
          1299
         ],
         "yaxis": "y"
        },
        {
         "hovertemplate": "<b>OLS trendline</b><br>Revenue = 4.99809 * Installs + -1693.85<br>R<sup>2</sup>=0.998879<br><br>Category=BUSINESS<br>Installs=%{x}<br>Revenue=%{y} <b>(trend)</b><extra></extra>",
         "legendgroup": "BUSINESS",
         "marker": {
          "color": "#636efa",
          "symbol": "circle"
         },
         "mode": "lines",
         "name": "BUSINESS",
         "showlegend": false,
         "type": "scatter",
         "x": [
          10,
          50,
          100,
          500,
          1000,
          1000,
          10000,
          100000,
          100000
         ],
         "xaxis": "x",
         "y": [
          -1643.8680649736377,
          -1443.9446115070598,
          -1194.0402946738373,
          805.1942399919435,
          3304.2374083241693,
          3304.2374083241693,
          48287.014438304235,
          498114.78473810485,
          498114.78473810485
         ],
         "yaxis": "y"
        },
        {
         "customdata": [
          [
           "Puffin Browser Pro"
          ],
          [
           "Deaf - Hearing chat device H"
          ],
          [
           "K-@ Mail Pro - Email App"
          ],
          [
           "pretty Easy privacy p≡p"
          ],
          [
           "AG Contacts, Premium edition"
          ],
          [
           "Threema"
          ],
          [
           "10 WPM Amateur ham radio CW Morse code trainer"
          ],
          [
           "CV-RECORD Pro"
          ],
          [
           "2 Amateur ham radio CW Morse code practice keys TX"
          ],
          [
           "CW Beacon for Ham Radio"
          ],
          [
           "Morse Decoder for Ham Radio"
          ],
          [
           "CW Studio ®"
          ],
          [
           "20WPM Amateur ham radio Koch CW Morse code trainer"
          ],
          [
           "Morse Trainer for Ham Radio"
          ],
          [
           "Morse Machine for Ham Radio"
          ],
          [
           "Koch Morse Trainer Pro"
          ],
          [
           "WiFi Tether Router"
          ],
          [
           "Remote EX for NISSAN"
          ],
          [
           "ExDialer PRO Key"
          ],
          [
           "Smart Wi-Fi Hotspot PRO"
          ],
          [
           "Portable Wi-Fi hotspot Premium"
          ],
          [
           "Talkie Pro - Wi-Fi Calling, Chats, File Sharing"
          ]
         ],
         "hovertemplate": "Category=COMMUNICATION<br>Installs=%{x}<br>Revenue=%{y}<br>App=%{customdata[0]}<extra></extra>",
         "legendgroup": "COMMUNICATION",
         "marker": {
          "color": "#EF553B",
          "symbol": "circle"
         },
         "mode": "markers",
         "name": "COMMUNICATION",
         "orientation": "v",
         "showlegend": true,
         "type": "scatter",
         "x": [
          100000,
          500,
          10000,
          500,
          500,
          1000000,
          100,
          1000,
          100,
          100,
          5000,
          100,
          100,
          10000,
          5000,
          1000,
          100000,
          5000,
          100000,
          10000,
          10000,
          1000
         ],
         "xaxis": "x",
         "y": [
          399000,
          1995,
          49900,
          495,
          2495,
          2990000,
          149,
          990,
          149,
          149,
          24950,
          99,
          149,
          29900.000000000004,
          4950,
          2490,
          290000,
          7450,
          399000,
          29900.000000000004,
          9900,
          2990
         ],
         "yaxis": "y"
        },
        {
         "hovertemplate": "<b>OLS trendline</b><br>Revenue = 2.99834 * Installs + 7698.29<br>R<sup>2</sup>=0.997702<br><br>Category=COMMUNICATION<br>Installs=%{x}<br>Revenue=%{y} <b>(trend)</b><extra></extra>",
         "legendgroup": "COMMUNICATION",
         "marker": {
          "color": "#EF553B",
          "symbol": "circle"
         },
         "mode": "lines",
         "name": "COMMUNICATION",
         "showlegend": false,
         "type": "scatter",
         "x": [
          100,
          100,
          100,
          100,
          100,
          500,
          500,
          500,
          1000,
          1000,
          1000,
          5000,
          5000,
          5000,
          10000,
          10000,
          10000,
          10000,
          100000,
          100000,
          100000,
          1000000
         ],
         "xaxis": "x",
         "y": [
          7998.12858921948,
          7998.12858921948,
          7998.12858921948,
          7998.12858921948,
          7998.12858921948,
          9197.463151316158,
          9197.463151316158,
          9197.463151316158,
          10696.631353937004,
          10696.631353937004,
          10696.631353937004,
          22689.976974903777,
          22689.976974903777,
          22689.976974903777,
          37681.659001112246,
          37681.659001112246,
          37681.659001112246,
          37681.659001112246,
          307531.9354728646,
          307531.9354728646,
          307531.9354728646,
          3006034.7001903886
         ],
         "yaxis": "y"
        },
        {
         "customdata": [
          [
           "Moco+ - Chat, Meet People"
          ],
          [
           "Calculator"
          ],
          [
           "AMBW Dating App: Asian Men Black Women Interracial"
          ]
         ],
         "hovertemplate": "Category=DATING<br>Installs=%{x}<br>Revenue=%{y}<br>App=%{customdata[0]}<extra></extra>",
         "legendgroup": "DATING",
         "marker": {
          "color": "#00cc96",
          "symbol": "circle"
         },
         "mode": "markers",
         "name": "DATING",
         "orientation": "v",
         "showlegend": true,
         "type": "scatter",
         "x": [
          10000,
          1000,
          100
         ],
         "xaxis": "x",
         "y": [
          39900,
          6990,
          799
         ],
         "yaxis": "y"
        },
        {
         "hovertemplate": "<b>OLS trendline</b><br>Revenue = 3.83084 * Installs + 1722.22<br>R<sup>2</sup>=0.995712<br><br>Category=DATING<br>Installs=%{x}<br>Revenue=%{y} <b>(trend)</b><extra></extra>",
         "legendgroup": "DATING",
         "marker": {
          "color": "#00cc96",
          "symbol": "circle"
         },
         "mode": "lines",
         "name": "DATING",
         "showlegend": false,
         "type": "scatter",
         "x": [
          100,
          1000,
          10000
         ],
         "xaxis": "x",
         "y": [
          2105.3063063063028,
          5553.063063063059,
          40030.63063063063
         ],
         "yaxis": "y"
        },
        {
         "customdata": [
          [
           "Sago Mini Hat Maker"
          ],
          [
           "Fuzzy Numbers: Pre-K Number Foundation"
          ],
          [
           "Toca Life: City"
          ],
          [
           "Toca Life: Hospital"
          ]
         ],
         "hovertemplate": "Category=EDUCATION<br>Installs=%{x}<br>Revenue=%{y}<br>App=%{customdata[0]}<extra></extra>",
         "legendgroup": "EDUCATION",
         "marker": {
          "color": "#ab63fa",
          "symbol": "circle"
         },
         "mode": "markers",
         "name": "EDUCATION",
         "orientation": "v",
         "showlegend": true,
         "type": "scatter",
         "x": [
          1000,
          1000,
          500000,
          100000
         ],
         "xaxis": "x",
         "y": [
          3990,
          5990,
          1995000,
          399000
         ],
         "yaxis": "y"
        },
        {
         "hovertemplate": "<b>OLS trendline</b><br>Revenue = 3.98823 * Installs + 765.639<br>R<sup>2</sup>=0.999999<br><br>Category=EDUCATION<br>Installs=%{x}<br>Revenue=%{y} <b>(trend)</b><extra></extra>",
         "legendgroup": "EDUCATION",
         "marker": {
          "color": "#ab63fa",
          "symbol": "circle"
         },
         "mode": "lines",
         "name": "EDUCATION",
         "showlegend": false,
         "type": "scatter",
         "x": [
          1000,
          1000,
          100000,
          500000
         ],
         "xaxis": "x",
         "y": [
          4753.873885041909,
          4753.873885041909,
          399589.13465682,
          1994883.117573095
         ],
         "yaxis": "y"
        },
        {
         "customdata": [
          [
           "My Talking Pet"
          ],
          [
           "Meme Generator"
          ]
         ],
         "hovertemplate": "Category=ENTERTAINMENT<br>Installs=%{x}<br>Revenue=%{y}<br>App=%{customdata[0]}<extra></extra>",
         "legendgroup": "ENTERTAINMENT",
         "marker": {
          "color": "#FFA15A",
          "symbol": "circle"
         },
         "mode": "markers",
         "name": "ENTERTAINMENT",
         "orientation": "v",
         "showlegend": true,
         "type": "scatter",
         "x": [
          100000,
          100000
         ],
         "xaxis": "x",
         "y": [
          499000,
          299000
         ],
         "yaxis": "y"
        },
        {
         "hovertemplate": "<b>OLS trendline</b><br>Revenue = 3.99<br>R<sup>2</sup>=0.000000<br><br>Category=ENTERTAINMENT<br>Installs=%{x}<br>Revenue=%{y} <b>(trend)</b><extra></extra>",
         "legendgroup": "ENTERTAINMENT",
         "marker": {
          "color": "#FFA15A",
          "symbol": "circle"
         },
         "mode": "lines",
         "name": "ENTERTAINMENT",
         "showlegend": false,
         "type": "scatter",
         "x": [
          100000,
          100000
         ],
         "xaxis": "x",
         "y": [
          398999.99999999994,
          398999.99999999994
         ],
         "yaxis": "y"
        },
        {
         "customdata": [
          [
           "My CookBook Pro (Ad Free)"
          ],
          [
           "Paprika Recipe Manager"
          ]
         ],
         "hovertemplate": "Category=FOOD_AND_DRINK<br>Installs=%{x}<br>Revenue=%{y}<br>App=%{customdata[0]}<extra></extra>",
         "legendgroup": "FOOD_AND_DRINK",
         "marker": {
          "color": "#19d3f3",
          "symbol": "circle"
         },
         "mode": "markers",
         "name": "FOOD_AND_DRINK",
         "orientation": "v",
         "showlegend": true,
         "type": "scatter",
         "x": [
          10000,
          50000
         ],
         "xaxis": "x",
         "y": [
          34900,
          249500
         ],
         "yaxis": "y"
        },
        {
         "hovertemplate": "<b>OLS trendline</b><br>Revenue = 5.365 * Installs + -18750<br>R<sup>2</sup>=1.000000<br><br>Category=FOOD_AND_DRINK<br>Installs=%{x}<br>Revenue=%{y} <b>(trend)</b><extra></extra>",
         "legendgroup": "FOOD_AND_DRINK",
         "marker": {
          "color": "#19d3f3",
          "symbol": "circle"
         },
         "mode": "lines",
         "name": "FOOD_AND_DRINK",
         "showlegend": false,
         "type": "scatter",
         "x": [
          10000,
          50000
         ],
         "xaxis": "x",
         "y": [
          34900.000000000015,
          249500
         ],
         "yaxis": "y"
        },
        {
         "customdata": [
          [
           "Pocket Yoga"
          ],
          [
           "Meditation Studio"
          ],
          [
           "Relax Melodies P: Sleep Sounds"
          ],
          [
           "Daily Ab Workout"
          ],
          [
           "cronometer (ad free)"
          ],
          [
           "Lullaby Add-on for Sleep as Android"
          ],
          [
           "Be Stronger"
          ],
          [
           "Tools & Mi Band"
          ],
          [
           "Dr. McDougall Mobile Cookbook"
          ],
          [
           "The EO Bar"
          ],
          [
           "Fast Tract Diet"
          ]
         ],
         "hovertemplate": "Category=HEALTH_AND_FITNESS<br>Installs=%{x}<br>Revenue=%{y}<br>App=%{customdata[0]}<extra></extra>",
         "legendgroup": "HEALTH_AND_FITNESS",
         "marker": {
          "color": "#FF6692",
          "symbol": "circle"
         },
         "mode": "markers",
         "name": "HEALTH_AND_FITNESS",
         "orientation": "v",
         "showlegend": true,
         "type": "scatter",
         "x": [
          100000,
          10000,
          100000,
          50000,
          50000,
          50000,
          1000,
          100000,
          1000,
          10000,
          1000
         ],
         "xaxis": "x",
         "y": [
          299000,
          39900,
          299000,
          99500,
          149500,
          99500,
          1990,
          349000,
          4990,
          69900,
          7990
         ],
         "yaxis": "y"
        },
        {
         "hovertemplate": "<b>OLS trendline</b><br>Revenue = 3.00428 * Installs + -68.6897<br>R<sup>2</sup>=0.944420<br><br>Category=HEALTH_AND_FITNESS<br>Installs=%{x}<br>Revenue=%{y} <b>(trend)</b><extra></extra>",
         "legendgroup": "HEALTH_AND_FITNESS",
         "marker": {
          "color": "#FF6692",
          "symbol": "circle"
         },
         "mode": "lines",
         "name": "HEALTH_AND_FITNESS",
         "showlegend": false,
         "type": "scatter",
         "x": [
          1000,
          1000,
          1000,
          10000,
          10000,
          50000,
          50000,
          50000,
          100000,
          100000,
          100000
         ],
         "xaxis": "x",
         "y": [
          2935.592762455231,
          2935.592762455231,
          2935.592762455231,
          29974.134573097937,
          29974.134573097937,
          150145.43150928777,
          150145.43150928777,
          150145.43150928777,
          300359.55267952505,
          300359.55267952505,
          300359.55267952505
         ],
         "yaxis": "y"
        },
        {
         "customdata": [
          [
           "The Game of Life"
          ],
          [
           "Clue"
          ],
          [
           "The Room: Old Sins"
          ],
          [
           "The Escapists"
          ],
          [
           "Farming Simulator 18"
          ],
          [
           "RollerCoaster Tycoon® Classic"
          ],
          [
           "Call of Duty:Black Ops Zombies"
          ],
          [
           "Star Wars ™: DIRTY"
          ],
          [
           "Monument Valley 2"
          ],
          [
           "B-52 Spirits of Glory Deluxe"
          ],
          [
           "B-Grade Renegade"
          ],
          [
           "Hitman Sniper"
          ],
          [
           "The World Ends With You"
          ],
          [
           "Traps n' Gemstones"
          ],
          [
           "Ghosts'n Goblins MOBILE"
          ],
          [
           "Lock 'n' Roll Pro - Ad Free"
          ],
          [
           "Jump'N'Shoot Attack"
          ],
          [
           "Ghouls'n Ghosts MOBILE"
          ],
          [
           "Oddworld: New 'n' Tasty"
          ],
          [
           "R-TYPE II"
          ],
          [
           "R-TYPE"
          ],
          [
           "Don't Starve: Pocket Edition"
          ],
          [
           "Don't Starve: Shipwrecked"
          ],
          [
           "Ludo - Don't get angry"
          ],
          [
           "Mental Hospital V"
          ],
          [
           "Zombie Avengers:(Dreamsky)Stickman War Z"
          ],
          [
           "Assassin's Creed Identity"
          ],
          [
           "ONScripter Plus (Ad Free)"
          ],
          [
           "Mupen64Plus AE (N64 Emulator)"
          ],
          [
           "AJ Jump: Animal Jam Kangaroos!"
          ],
          [
           "I am Bread"
          ],
          [
           "Nightenfell: Shared AR"
          ],
          [
           "Five Nights at Freddy's"
          ],
          [
           "Five Nights at Freddy's: SL"
          ],
          [
           "Five Nights at Freddy's 4"
          ],
          [
           "Five Nights at Freddy's 3"
          ],
          [
           "Wolf of the BF:Commando MOBILE"
          ],
          [
           "Shadow Fight 2 Special Edition"
          ],
          [
           "Backgammon NJ for Android"
          ],
          [
           "BJ Bridge Pro 2018"
          ],
          [
           "Blackjack Verite Drills"
          ],
          [
           "MEGA MAN MOBILE"
          ],
          [
           "New York Mysteries (Full)"
          ],
          [
           "The Legacy (Full)"
          ],
          [
           "Skip-Bo™"
          ],
          [
           "BW-Go"
          ],
          [
           "PAC-MAN CE DX"
          ],
          [
           "Grand Theft Auto: San Andreas"
          ],
          [
           "F*ck This Game"
          ],
          [
           "Adventure Time Game Wizard"
          ],
          [
           "Best Park in the Universe"
          ],
          [
           "Chinese Chess 3D Online (Xiangqi, 象棋, co tuong)"
          ],
          [
           "CT-REMOTE"
          ],
          [
           "Cytus II"
          ],
          [
           "Dr. Splorchy Presents Space Heroes"
          ],
          [
           "DraStic DS Emulator"
          ],
          [
           "Riptide GP: Renegade"
          ],
          [
           "Dirt Trackin Sprint Cars"
          ],
          [
           "Retro City Rampage DX"
          ],
          [
           "Lost Journey (Dreamsky)"
          ],
          [
           "League of Stickman 2018- Ninja Arena PVP(Dreamsky)"
          ],
          [
           "Stickman Legends: Shadow Wars"
          ],
          [
           "E.G. Chess"
          ],
          [
           "WIZARD Card Game"
          ],
          [
           "Poker Equity Calculator Pro for No Limit Hold'em"
          ],
          [
           "Superbrothers Sword & Sworcery"
          ],
          [
           "Sonic 4™ Episode I"
          ],
          [
           "An Elite Warrior Ex"
          ],
          [
           "Galaxian(FC)"
          ],
          [
           "Solitaire+"
          ],
          [
           "Fruit Ninja Classic"
          ],
          [
           "Trine 2: Complete Story"
          ]
         ],
         "hovertemplate": "Category=GAME<br>Installs=%{x}<br>Revenue=%{y}<br>App=%{customdata[0]}<extra></extra>",
         "legendgroup": "GAME",
         "marker": {
          "color": "#B6E880",
          "symbol": "circle"
         },
         "mode": "markers",
         "name": "GAME",
         "orientation": "v",
         "showlegend": true,
         "type": "scatter",
         "x": [
          100000,
          100000,
          100000,
          100000,
          100000,
          100000,
          100000,
          100000,
          100000,
          100,
          1000,
          10000000,
          10000,
          1000,
          10000,
          1000,
          1000,
          5000,
          10000,
          50000,
          100000,
          100000,
          10000,
          1000,
          50000,
          1000000,
          500000,
          1000,
          100000,
          50000,
          10000,
          1000,
          1000000,
          100000,
          100000,
          100000,
          1000,
          50000,
          10000,
          500,
          100,
          10000,
          5000,
          1000,
          100000,
          1000,
          10000,
          1000000,
          100,
          50000,
          10000,
          1000,
          100,
          100000,
          100,
          1000000,
          100000,
          10000,
          10000,
          1000000,
          1000000,
          1000000,
          1000,
          1000,
          5000,
          100000,
          100000,
          100,
          100,
          100000,
          1000000,
          10000
         ],
         "xaxis": "x",
         "y": [
          299000,
          199000,
          499000,
          499000,
          499000,
          599000,
          699000,
          999000,
          499000,
          99,
          1990,
          9900000,
          179899.99999999997,
          4990,
          9900,
          990,
          2490,
          9950,
          49900,
          99500,
          199000,
          499000,
          49900,
          1610,
          49500,
          990000,
          995000,
          3990,
          99000,
          99500,
          49900,
          990,
          2990000,
          299000,
          299000,
          299000,
          990,
          249500,
          79900,
          2245,
          1400,
          19900,
          34950,
          6990,
          299000,
          3490,
          49900,
          6990000,
          99,
          249500,
          29900.000000000004,
          990,
          449,
          199000,
          499,
          4990000,
          299000,
          39900,
          29900.000000000004,
          990000,
          990000,
          990000,
          990,
          1990,
          4950,
          399000,
          299000,
          99,
          199,
          299000,
          990000,
          169899.99999999997
         ],
         "yaxis": "y"
        },
        {
         "hovertemplate": "<b>OLS trendline</b><br>Revenue = 1.05935 * Installs + 256142<br>R<sup>2</sup>=0.683965<br><br>Category=GAME<br>Installs=%{x}<br>Revenue=%{y} <b>(trend)</b><extra></extra>",
         "legendgroup": "GAME",
         "marker": {
          "color": "#B6E880",
          "symbol": "circle"
         },
         "mode": "lines",
         "name": "GAME",
         "showlegend": false,
         "type": "scatter",
         "x": [
          100,
          100,
          100,
          100,
          100,
          100,
          100,
          500,
          1000,
          1000,
          1000,
          1000,
          1000,
          1000,
          1000,
          1000,
          1000,
          1000,
          1000,
          1000,
          1000,
          5000,
          5000,
          5000,
          10000,
          10000,
          10000,
          10000,
          10000,
          10000,
          10000,
          10000,
          10000,
          10000,
          10000,
          10000,
          50000,
          50000,
          50000,
          50000,
          50000,
          100000,
          100000,
          100000,
          100000,
          100000,
          100000,
          100000,
          100000,
          100000,
          100000,
          100000,
          100000,
          100000,
          100000,
          100000,
          100000,
          100000,
          100000,
          100000,
          100000,
          100000,
          500000,
          1000000,
          1000000,
          1000000,
          1000000,
          1000000,
          1000000,
          1000000,
          1000000,
          10000000
         ],
         "xaxis": "x",
         "y": [
          256247.51172480648,
          256247.51172480648,
          256247.51172480648,
          256247.51172480648,
          256247.51172480648,
          256247.51172480648,
          256247.51172480648,
          256671.25235277548,
          257200.92813773674,
          257200.92813773674,
          257200.92813773674,
          257200.92813773674,
          257200.92813773674,
          257200.92813773674,
          257200.92813773674,
          257200.92813773674,
          257200.92813773674,
          257200.92813773674,
          257200.92813773674,
          257200.92813773674,
          257200.92813773674,
          261438.3344174269,
          261438.3344174269,
          261438.3344174269,
          266735.0922670396,
          266735.0922670396,
          266735.0922670396,
          266735.0922670396,
          266735.0922670396,
          266735.0922670396,
          266735.0922670396,
          266735.0922670396,
          266735.0922670396,
          266735.0922670396,
          266735.0922670396,
          266735.0922670396,
          309109.15506394114,
          309109.15506394114,
          309109.15506394114,
          309109.15506394114,
          309109.15506394114,
          362076.73356006807,
          362076.73356006807,
          362076.73356006807,
          362076.73356006807,
          362076.73356006807,
          362076.73356006807,
          362076.73356006807,
          362076.73356006807,
          362076.73356006807,
          362076.73356006807,
          362076.73356006807,
          362076.73356006807,
          362076.73356006807,
          362076.73356006807,
          362076.73356006807,
          362076.73356006807,
          362076.73356006807,
          362076.73356006807,
          362076.73356006807,
          362076.73356006807,
          362076.73356006807,
          785817.3615290836,
          1315493.146490353,
          1315493.146490353,
          1315493.146490353,
          1315493.146490353,
          1315493.146490353,
          1315493.146490353,
          1315493.146490353,
          1315493.146490353,
          10849657.2757932
         ],
         "yaxis": "y"
        },
        {
         "customdata": [
          [
           "Toca Mystery House"
          ],
          [
           "My Little Princess : Stores"
          ],
          [
           "Sago Mini Big City"
          ],
          [
           "Pinkalicious Party"
          ],
          [
           "Toca Builders"
          ],
          [
           "LEGO® Friends"
          ],
          [
           "My Little Work – Garage"
          ],
          [
           "Alizay, pirate girl"
          ],
          [
           "Children Educational Game Full"
          ],
          [
           "Hactar Go"
          ],
          [
           "All-in-One Mahjong 3"
          ],
          [
           "World Racers family board game"
          ],
          [
           "SweetLand — Family Board Game"
          ],
          [
           "Steam: Rails to Riches"
          ],
          [
           "Whoowasit? - Best kids game!"
          ],
          [
           "Lanterns: The Harvest Festival"
          ],
          [
           "Tsuro - The Game of the Path"
          ],
          [
           "THE aMAZEing Labyrinth"
          ],
          [
           "Chess and Mate"
          ],
          [
           "Avokiddo Emotions"
          ],
          [
           "Nighty Night Circus"
          ],
          [
           "Sago Mini Babies"
          ],
          [
           "Dr. Panda & Toto's Treehouse"
          ],
          [
           "Minecraft"
          ],
          [
           "Card Wars - Adventure Time"
          ],
          [
           "C4droid - C/C++ compiler & IDE"
          ],
          [
           "Mind Games Pro"
          ],
          [
           "Speech Therapy: F"
          ],
          [
           "F-Sim Space Shuttle"
          ],
          [
           "most expensive app (H)"
          ],
          [
           "Cut the Rope GOLD"
          ],
          [
           "K.MOJI"
          ],
          [
           "Math Games for Pre-K - Grade 4"
          ],
          [
           "Anna.K Tarot"
          ],
          [
           "Guns'n'Glory Zombies Premium"
          ],
          [
           "Guns'n'Glory Premium"
          ],
          [
           "Guns'n'Glory Heroes Premium"
          ],
          [
           "Age of Conquest: N. America"
          ],
          [
           "Guns'n'Glory WW2 Premium"
          ],
          [
           "Stand O’Food® (Full)"
          ],
          [
           "Detect-O-Gromit (D.O.G 2)"
          ],
          [
           "Q Avatar Pro"
          ],
          [
           "R Instructor"
          ],
          [
           "Day R Premium"
          ],
          [
           "Elemental Knights R Platinum"
          ],
          [
           "Please, Don't Touch Anything"
          ],
          [
           "Please Don't Touch Anything 3D"
          ],
          [
           "Jurassic Life: T Rex Simulator"
          ],
          [
           "FINAL FANTASY V"
          ],
          [
           "DRAGON QUEST V"
          ],
          [
           "X Construction"
          ],
          [
           "Z Origins - (Z The Game)"
          ],
          [
           "Math games for kids : times tables training"
          ],
          [
           "My baby firework (Remove ad)"
          ],
          [
           "Gunship III Vietnam People AF"
          ],
          [
           "AG Subway Simulator Mobile"
          ],
          [
           "The Artificial Intelligence Project (A.I. Chat)"
          ],
          [
           "Age of AI: War Strategy"
          ],
          [
           "I am Rich Plus"
          ],
          [
           "I Am Rich Pro"
          ],
          [
           "I Am Rich"
          ],
          [
           "The Hunt for the Lost Treasure"
          ],
          [
           "Attack the Light"
          ],
          [
           "AP Government Review"
          ],
          [
           "500 AP World History Questions"
          ],
          [
           "iScore5 AP Psych"
          ],
          [
           "Five Nights at Freddy's 2"
          ],
          [
           "Ice Crush 10.000 B.C."
          ],
          [
           "Truck Driving Test Class 3 BC"
          ],
          [
           "My Virtual Boyfriend"
          ],
          [
           "Baldur's Gate: Enhanced Edition"
          ],
          [
           "CSCS BG (в български)"
          ],
          [
           "LEGO ® Batman: Beyond Gotham"
          ],
          [
           "Baldur's Gate II"
          ],
          [
           "Battleheart Legacy"
          ],
          [
           "Phonics Puzzles"
          ],
          [
           "Chess of Blades (BL/Yaoi Game) (No VA)"
          ],
          [
           "Beck & Bo: Toddler First Words"
          ],
          [
           "Bo's Bedtime Story"
          ],
          [
           "Bo's Dinnertime Story"
          ],
          [
           "Bo's School Day"
          ],
          [
           "Infinity Dungeon VIP"
          ],
          [
           "TV Guide BR Gold"
          ],
          [
           "Hitman GO"
          ],
          [
           "Theatre of the Absurd CE(Full)"
          ],
          [
           "Depths of Betrayal CE (Full)"
          ],
          [
           "Dots puzzle"
          ],
          [
           "boattheory.ch Full 2018"
          ],
          [
           "DRAGON QUEST IV"
          ],
          [
           "Teen Titans GO Figure!"
          ],
          [
           "CN Superstar Soccer: Goal!!!"
          ],
          [
           "Teeny Titans - Teen Titans Go!"
          ],
          [
           "Ski Safari: Adventure Time"
          ],
          [
           "Rockstars of Ooo"
          ],
          [
           "Flipped Out! - Powerpuff Girls"
          ],
          [
           "Formula Cartoon All Stars"
          ],
          [
           "Tetrobot and Co."
          ],
          [
           "TI-Nspire CX Calculator Manual"
          ],
          [
           "go41cx"
          ],
          [
           "The House of Da Vinci"
          ],
          [
           "King of Math"
          ],
          [
           "Peppa Pig: Party Time"
          ],
          [
           "LEGO Batman: DC Super Heroes"
          ],
          [
           "Myth Defense 2: DF Platinum"
          ],
          [
           "ZombieVital DG"
          ],
          [
           "Interactive NPC DM Tool"
          ],
          [
           "Writing Wizard Premium - Handwriting"
          ],
          [
           "DRAGON QUEST VIII"
          ],
          [
           "DRAGON QUEST III"
          ],
          [
           "DRAGON QUEST"
          ],
          [
           "DRAGON QUEST II"
          ],
          [
           "DRAGON QUEST VI"
          ],
          [
           "CHRONO TRIGGER (Upgrade Ver.)"
          ],
          [
           "FINAL FANTASY DIMENSIONS"
          ],
          [
           "Dr. Panda Farm"
          ],
          [
           "DR.MEEP"
          ],
          [
           "Dr. Panda Art Class"
          ],
          [
           "Dr. Panda's Swimming Pool"
          ],
          [
           "Dr. Seuss's ABC"
          ],
          [
           "Dr. Panda Hospital"
          ],
          [
           "Dr. Panda Restaurant 2"
          ],
          [
           "Dr. Panda Supermarket"
          ],
          [
           "Real Sheet ∞: Pathfinder + DT"
          ],
          [
           "Bloons TD 5"
          ],
          [
           "ZOOKEEPER DX TouchEdition"
          ],
          [
           "Dress Up RagazzA13 DX"
          ],
          [
           "Unstoppaball DX"
          ],
          [
           "Sokoban Land DX"
          ],
          [
           "Train Sim Pro"
          ],
          [
           "NBA JAM by EA SPORTS™"
          ],
          [
           "RPG ブレイジング ソウルズ アクセレイト"
          ],
          [
           "Carrier Landings Pro"
          ],
          [
           "EG Classroom Decimals™"
          ],
          [
           "Learn Music Notes"
          ],
          [
           "Farming Simulator 16"
          ],
          [
           "El Chavo"
          ],
          [
           "Where's My Water?"
          ],
          [
           "Out There Chronicles - Ep. 1"
          ],
          [
           "Out There Chronicles - Ep. 2"
          ],
          [
           "The Great Wobo Escape Ep.1"
          ],
          [
           "Learn Italian with MosaLingua"
          ],
          [
           "European War 6: 1804"
          ],
          [
           "XCOM®: Enemy Within"
          ],
          [
           "Deus Ex GO"
          ],
          [
           "SCI-FI UI"
          ],
          [
           "sugar, sugar"
          ]
         ],
         "hovertemplate": "Category=FAMILY<br>Installs=%{x}<br>Revenue=%{y}<br>App=%{customdata[0]}<extra></extra>",
         "legendgroup": "FAMILY",
         "marker": {
          "color": "#FF97FF",
          "symbol": "circle"
         },
         "mode": "markers",
         "name": "FAMILY",
         "orientation": "v",
         "showlegend": true,
         "type": "scatter",
         "x": [
          5000,
          5000,
          1000,
          500,
          100000,
          10000,
          10000,
          1000,
          1000,
          1000,
          100,
          100,
          1000,
          5000,
          5000,
          1000,
          10000,
          10000,
          5000,
          1000,
          10000,
          10000,
          50000,
          10000000,
          1000000,
          50000,
          100000,
          10,
          100000,
          100,
          1000000,
          500,
          1000,
          100,
          5000,
          100000,
          10000,
          10000,
          100000,
          10000,
          10000,
          100,
          1000,
          100000,
          50000,
          10000,
          5000,
          10000,
          100000,
          10000,
          100000,
          50000,
          10000,
          1000,
          5000,
          5000,
          5000,
          500,
          10000,
          5000,
          10000,
          100000,
          100000,
          1000,
          100,
          100,
          500000,
          100,
          50,
          1000,
          100000,
          100,
          100000,
          50000,
          50000,
          100,
          10,
          1000,
          1000,
          1000,
          1000,
          1000000,
          5000,
          500000,
          10000,
          1000,
          50000,
          1000,
          10000,
          10000,
          100000,
          100000,
          100000,
          10000,
          10000,
          10000,
          5000,
          500,
          1000,
          100000,
          10000,
          10000,
          50000,
          10000,
          100,
          50,
          5000,
          50000,
          10000,
          100000,
          10000,
          100000,
          100000,
          100000,
          10000,
          500,
          50000,
          100000,
          10000,
          50000,
          100000,
          50000,
          50,
          1000000,
          100000,
          100,
          50,
          10000,
          10000,
          500000,
          1000,
          10000,
          50,
          1000,
          500000,
          10000,
          1000000,
          50000,
          1000,
          500,
          50000,
          10000,
          100000,
          100000,
          100,
          10000
         ],
         "xaxis": "x",
         "y": [
          19950,
          14950.000000000002,
          3990,
          1495,
          399000,
          49900,
          39900,
          2990,
          7490,
          2990,
          99,
          99,
          990,
          24950,
          14950.000000000002,
          4990,
          29900.000000000004,
          49900,
          24950,
          2990,
          29900.000000000004,
          39900,
          199500,
          69900000,
          2990000,
          149500,
          299000,
          29.900000000000002,
          499000,
          39999,
          990000,
          995,
          1990,
          399,
          14950.000000000002,
          299000,
          29900.000000000004,
          39900,
          299000,
          19900,
          24900.000000000004,
          149,
          4840,
          499000,
          238499.99999999997,
          49900,
          29950,
          9900,
          799000,
          149900,
          149000,
          149500,
          15900,
          990,
          24950,
          4950,
          9950,
          1245,
          3999900,
          1999950,
          3899900,
          299000,
          299000,
          2990,
          999,
          499,
          1495000,
          99,
          74.5,
          990,
          999000,
          399,
          499000,
          499500,
          249500,
          299,
          149.9,
          2990,
          2490,
          2490,
          2990,
          990000,
          7450,
          495000,
          29900.000000000004,
          2990,
          49500,
          19400,
          149900,
          39900,
          299000,
          399000,
          99000,
          19900,
          29900.000000000004,
          29900.000000000004,
          14950.000000000002,
          2495,
          10000,
          499000,
          29900.000000000004,
          29900.000000000004,
          249500,
          39900,
          1299,
          49.5,
          22450,
          999499.9999999999,
          99900,
          299000,
          49900,
          1499000,
          999000,
          1399000,
          29900.000000000004,
          1495,
          149500,
          199000,
          39900,
          149500,
          299000,
          149500,
          149.5,
          2990000,
          99000,
          99,
          74.5,
          29900.000000000004,
          14900,
          2495000,
          10990,
          129900,
          149.5,
          1990,
          1495000,
          9900,
          1990000,
          149500,
          2990,
          995,
          249500,
          9900,
          999000,
          99000,
          199,
          12000
         ],
         "yaxis": "y"
        },
        {
         "hovertemplate": "<b>OLS trendline</b><br>Revenue = 6.74673 * Installs + -175509<br>R<sup>2</sup>=0.964338<br><br>Category=FAMILY<br>Installs=%{x}<br>Revenue=%{y} <b>(trend)</b><extra></extra>",
         "legendgroup": "FAMILY",
         "marker": {
          "color": "#FF97FF",
          "symbol": "circle"
         },
         "mode": "lines",
         "name": "FAMILY",
         "showlegend": false,
         "type": "scatter",
         "x": [
          10,
          10,
          50,
          50,
          50,
          50,
          50,
          100,
          100,
          100,
          100,
          100,
          100,
          100,
          100,
          100,
          100,
          100,
          100,
          100,
          500,
          500,
          500,
          500,
          500,
          500,
          1000,
          1000,
          1000,
          1000,
          1000,
          1000,
          1000,
          1000,
          1000,
          1000,
          1000,
          1000,
          1000,
          1000,
          1000,
          1000,
          1000,
          1000,
          1000,
          1000,
          1000,
          1000,
          5000,
          5000,
          5000,
          5000,
          5000,
          5000,
          5000,
          5000,
          5000,
          5000,
          5000,
          5000,
          5000,
          5000,
          10000,
          10000,
          10000,
          10000,
          10000,
          10000,
          10000,
          10000,
          10000,
          10000,
          10000,
          10000,
          10000,
          10000,
          10000,
          10000,
          10000,
          10000,
          10000,
          10000,
          10000,
          10000,
          10000,
          10000,
          10000,
          10000,
          10000,
          10000,
          10000,
          10000,
          10000,
          10000,
          10000,
          10000,
          10000,
          50000,
          50000,
          50000,
          50000,
          50000,
          50000,
          50000,
          50000,
          50000,
          50000,
          50000,
          50000,
          50000,
          50000,
          100000,
          100000,
          100000,
          100000,
          100000,
          100000,
          100000,
          100000,
          100000,
          100000,
          100000,
          100000,
          100000,
          100000,
          100000,
          100000,
          100000,
          100000,
          100000,
          100000,
          100000,
          100000,
          100000,
          100000,
          100000,
          500000,
          500000,
          500000,
          500000,
          1000000,
          1000000,
          1000000,
          1000000,
          1000000,
          10000000
         ],
         "xaxis": "x",
         "y": [
          -175441.40280410956,
          -175441.40280410956,
          -175171.53370850405,
          -175171.53370850405,
          -175171.53370850405,
          -175171.53370850405,
          -175171.53370850405,
          -174834.19733899718,
          -174834.19733899718,
          -174834.19733899718,
          -174834.19733899718,
          -174834.19733899718,
          -174834.19733899718,
          -174834.19733899718,
          -174834.19733899718,
          -174834.19733899718,
          -174834.19733899718,
          -174834.19733899718,
          -174834.19733899718,
          -174834.19733899718,
          -172135.5063829422,
          -172135.5063829422,
          -172135.5063829422,
          -172135.5063829422,
          -172135.5063829422,
          -172135.5063829422,
          -168762.1426878735,
          -168762.1426878735,
          -168762.1426878735,
          -168762.1426878735,
          -168762.1426878735,
          -168762.1426878735,
          -168762.1426878735,
          -168762.1426878735,
          -168762.1426878735,
          -168762.1426878735,
          -168762.1426878735,
          -168762.1426878735,
          -168762.1426878735,
          -168762.1426878735,
          -168762.1426878735,
          -168762.1426878735,
          -168762.1426878735,
          -168762.1426878735,
          -168762.1426878735,
          -168762.1426878735,
          -168762.1426878735,
          -168762.1426878735,
          -141775.23312732382,
          -141775.23312732382,
          -141775.23312732382,
          -141775.23312732382,
          -141775.23312732382,
          -141775.23312732382,
          -141775.23312732382,
          -141775.23312732382,
          -141775.23312732382,
          -141775.23312732382,
          -141775.23312732382,
          -141775.23312732382,
          -141775.23312732382,
          -141775.23312732382,
          -108041.59617663671,
          -108041.59617663671,
          -108041.59617663671,
          -108041.59617663671,
          -108041.59617663671,
          -108041.59617663671,
          -108041.59617663671,
          -108041.59617663671,
          -108041.59617663671,
          -108041.59617663671,
          -108041.59617663671,
          -108041.59617663671,
          -108041.59617663671,
          -108041.59617663671,
          -108041.59617663671,
          -108041.59617663671,
          -108041.59617663671,
          -108041.59617663671,
          -108041.59617663671,
          -108041.59617663671,
          -108041.59617663671,
          -108041.59617663671,
          -108041.59617663671,
          -108041.59617663671,
          -108041.59617663671,
          -108041.59617663671,
          -108041.59617663671,
          -108041.59617663671,
          -108041.59617663671,
          -108041.59617663671,
          -108041.59617663671,
          -108041.59617663671,
          -108041.59617663671,
          -108041.59617663671,
          -108041.59617663671,
          161827.49942886012,
          161827.49942886012,
          161827.49942886012,
          161827.49942886012,
          161827.49942886012,
          161827.49942886012,
          161827.49942886012,
          161827.49942886012,
          161827.49942886012,
          161827.49942886012,
          161827.49942886012,
          161827.49942886012,
          161827.49942886012,
          161827.49942886012,
          499163.8689357311,
          499163.8689357311,
          499163.8689357311,
          499163.8689357311,
          499163.8689357311,
          499163.8689357311,
          499163.8689357311,
          499163.8689357311,
          499163.8689357311,
          499163.8689357311,
          499163.8689357311,
          499163.8689357311,
          499163.8689357311,
          499163.8689357311,
          499163.8689357311,
          499163.8689357311,
          499163.8689357311,
          499163.8689357311,
          499163.8689357311,
          499163.8689357311,
          499163.8689357311,
          499163.8689357311,
          499163.8689357311,
          499163.8689357311,
          499163.8689357311,
          3197854.8249906995,
          3197854.8249906995,
          3197854.8249906995,
          3197854.8249906995,
          6571218.5200594105,
          6571218.5200594105,
          6571218.5200594105,
          6571218.5200594105,
          6571218.5200594105,
          67291765.0312962
         ],
         "yaxis": "y"
        },
        {
         "customdata": [
          [
           "Monash Uni Low FODMAP Diet"
          ],
          [
           "iBP Blood Pressure"
          ],
          [
           "Pedi STAT"
          ],
          [
           "ASCCP Mobile"
          ],
          [
           "Journal Club: Medicine"
          ],
          [
           "Paramedic Protocol Provider"
          ],
          [
           "MommyMeds"
          ],
          [
           "Medical ID - In Case of Emergency (ICE)"
          ],
          [
           "Human Anatomy Atlas 2018: Complete 3D Human Body"
          ],
          [
           "Essential Anatomy 3"
          ],
          [
           "Vargo Anesthesia Mega App"
          ],
          [
           "EMT Review Plus"
          ],
          [
           "Muscle Trigger Point Anatomy"
          ],
          [
           "2017 EMRA Antibiotic Guide"
          ],
          [
           "ASRA Coags"
          ],
          [
           "IBM Micromedex Drug Info"
          ],
          [
           "Diabetes & Diet Tracker"
          ],
          [
           "VeinSeek"
          ],
          [
           "Block Buddy"
          ],
          [
           "EMT Study - NREMT Test Prep"
          ],
          [
           "Calcium Pro"
          ],
          [
           "EMT PASS"
          ],
          [
           "Pocket Lab Values"
          ],
          [
           "Medical terms (OFFLINE)"
          ],
          [
           "Cardiac diagnosis (heart rate, arrhythmia)"
          ],
          [
           "ERres- Emergency Medicine"
          ],
          [
           "AnatomyMapp"
          ],
          [
           "OptoDrum"
          ],
          [
           "Migraine, Headache Diary HeadApp Pro"
          ],
          [
           "Blood Pressure Companion"
          ],
          [
           "Visual Anatomy 2"
          ],
          [
           "Muscle Premium - Human Anatomy, Kinesiology, Bones"
          ],
          [
           "CCHT PREP"
          ],
          [
           "Paramedic Meds"
          ],
          [
           "OmniMedix Medical Calculator"
          ],
          [
           "Breathing Zone"
          ],
          [
           "Lab Values + Medical Reference"
          ],
          [
           "Recognise Foot"
          ],
          [
           "Anti Mosquito simulation"
          ],
          [
           "Pain Tracker & Diary"
          ],
          [
           "Menstrual Calendar Premium"
          ],
          [
           "Whist - Tinnitus Relief"
          ],
          [
           "Critical Care Paramedic Review"
          ],
          [
           "With Helper Pro Pill Reminder"
          ],
          [
           "Manage My Pain Pro"
          ],
          [
           "End Anxiety Pro - Stress, Panic Attack Help"
          ],
          [
           "Acupuncture Assistant"
          ],
          [
           "InfantRisk Center HCP"
          ],
          [
           "EMT Tutor NREMT-B Study Guide"
          ],
          [
           "Hospitalist Handbook"
          ],
          [
           "PTA Content Master"
          ],
          [
           "Navi Radiography Pro"
          ],
          [
           "Nursing Care Plan NANDA Tables"
          ],
          [
           "A Manual of Acupuncture"
          ],
          [
           "palmPEDi: Pediatric Tape"
          ],
          [
           "LTC AS Legal"
          ],
          [
           "BG Monitor Diabetes Pro"
          ],
          [
           "bpresso PRO"
          ],
          [
           "Interactive CT and MRI Anatomy"
          ],
          [
           "Radiological Anatomy For FRCR1"
          ],
          [
           "Differential Dx"
          ]
         ],
         "hovertemplate": "Category=MEDICAL<br>Installs=%{x}<br>Revenue=%{y}<br>App=%{customdata[0]}<extra></extra>",
         "legendgroup": "MEDICAL",
         "marker": {
          "color": "#FECB52",
          "symbol": "circle"
         },
         "mode": "markers",
         "name": "MEDICAL",
         "orientation": "v",
         "showlegend": true,
         "type": "scatter",
         "x": [
          100000,
          10000,
          10000,
          10000,
          10000,
          10000,
          5000,
          5000,
          100000,
          50000,
          1000,
          10000,
          50000,
          1000,
          1000,
          10000,
          1000,
          1000,
          1000,
          5000,
          5000,
          1000,
          10000,
          1000,
          100,
          1000,
          5000,
          1000,
          500,
          1000,
          5000,
          10000,
          1000,
          10000,
          1000,
          5000,
          10000,
          1000,
          1000,
          100,
          50000,
          1000,
          1000,
          5000,
          5000,
          1000,
          10000,
          1000,
          10000,
          1000,
          1000,
          500,
          500,
          1000,
          5000,
          100,
          500,
          1000,
          1000,
          100,
          500
         ],
         "xaxis": "x",
         "y": [
          900000,
          9900,
          54900,
          99900,
          69900,
          100000,
          19950,
          29950,
          2499000,
          599500,
          79990,
          119900,
          149500,
          16990,
          3990,
          29900.000000000004,
          9990,
          3990,
          14990,
          19950,
          14950.000000000002,
          29990,
          29900.000000000004,
          2990,
          1299,
          4990,
          74950,
          5990,
          1745,
          990,
          12450.000000000002,
          249899.99999999997,
          10990,
          19900,
          4990,
          19950,
          29900.000000000004,
          7490,
          1500,
          299,
          199500,
          1990,
          9990,
          19950,
          19950,
          3990,
          79900,
          9990,
          39900,
          19990,
          29990,
          7995,
          495,
          33990,
          4950,
          3999,
          2995,
          5490,
          15460,
          699,
          1995
         ],
         "yaxis": "y"
        },
        {
         "hovertemplate": "<b>OLS trendline</b><br>Revenue = 14.3633 * Installs + -34891.4<br>R<sup>2</sup>=0.702293<br><br>Category=MEDICAL<br>Installs=%{x}<br>Revenue=%{y} <b>(trend)</b><extra></extra>",
         "legendgroup": "MEDICAL",
         "marker": {
          "color": "#FECB52",
          "symbol": "circle"
         },
         "mode": "lines",
         "name": "MEDICAL",
         "showlegend": false,
         "type": "scatter",
         "x": [
          100,
          100,
          100,
          100,
          500,
          500,
          500,
          500,
          500,
          1000,
          1000,
          1000,
          1000,
          1000,
          1000,
          1000,
          1000,
          1000,
          1000,
          1000,
          1000,
          1000,
          1000,
          1000,
          1000,
          1000,
          1000,
          1000,
          1000,
          1000,
          1000,
          1000,
          1000,
          5000,
          5000,
          5000,
          5000,
          5000,
          5000,
          5000,
          5000,
          5000,
          5000,
          10000,
          10000,
          10000,
          10000,
          10000,
          10000,
          10000,
          10000,
          10000,
          10000,
          10000,
          10000,
          10000,
          50000,
          50000,
          50000,
          100000,
          100000
         ],
         "xaxis": "x",
         "y": [
          -33455.114826674435,
          -33455.114826674435,
          -33455.114826674435,
          -33455.114826674435,
          -27709.78221634245,
          -27709.78221634245,
          -27709.78221634245,
          -27709.78221634245,
          -27709.78221634245,
          -20528.11645342747,
          -20528.11645342747,
          -20528.11645342747,
          -20528.11645342747,
          -20528.11645342747,
          -20528.11645342747,
          -20528.11645342747,
          -20528.11645342747,
          -20528.11645342747,
          -20528.11645342747,
          -20528.11645342747,
          -20528.11645342747,
          -20528.11645342747,
          -20528.11645342747,
          -20528.11645342747,
          -20528.11645342747,
          -20528.11645342747,
          -20528.11645342747,
          -20528.11645342747,
          -20528.11645342747,
          -20528.11645342747,
          -20528.11645342747,
          -20528.11645342747,
          -20528.11645342747,
          36925.209649892364,
          36925.209649892364,
          36925.209649892364,
          36925.209649892364,
          36925.209649892364,
          36925.209649892364,
          36925.209649892364,
          36925.209649892364,
          36925.209649892364,
          36925.209649892364,
          108741.86727904216,
          108741.86727904216,
          108741.86727904216,
          108741.86727904216,
          108741.86727904216,
          108741.86727904216,
          108741.86727904216,
          108741.86727904216,
          108741.86727904216,
          108741.86727904216,
          108741.86727904216,
          108741.86727904216,
          108741.86727904216,
          683275.1283122406,
          683275.1283122406,
          683275.1283122406,
          1401441.7046037386,
          1401441.7046037386
         ],
         "yaxis": "y"
        },
        {
         "customdata": [
          [
           "Facetune - For Free"
          ],
          [
           "Lapse It • Time Lapse • Pro"
          ],
          [
           "Camera FV-5"
          ],
          [
           "F-Stop Gallery Pro"
          ],
          [
           "Arto: f.infrared photo"
          ],
          [
           "Pocket AC"
          ],
          [
           "NewTek NDI"
          ],
          [
           "AI Draw | Art Filter for Selfie"
          ],
          [
           "Ai-Ball AV Recorder"
          ],
          [
           "BeFunky Photo Editor Pro"
          ],
          [
           "BlackCam Pro - B&W Camera"
          ],
          [
           "LC-DB"
          ],
          [
           "Cameringo+ Filters Camera"
          ],
          [
           "LightMeter (noAds)"
          ],
          [
           "PhotoFrame for Synology DS"
          ]
         ],
         "hovertemplate": "Category=PHOTOGRAPHY<br>Installs=%{x}<br>Revenue=%{y}<br>App=%{customdata[0]}<extra></extra>",
         "legendgroup": "PHOTOGRAPHY",
         "marker": {
          "color": "#636efa",
          "symbol": "circle"
         },
         "mode": "markers",
         "name": "PHOTOGRAPHY",
         "orientation": "v",
         "showlegend": true,
         "type": "scatter",
         "x": [
          1000000,
          100000,
          100000,
          10000,
          500,
          1000,
          1000,
          1000,
          5000,
          50000,
          100000,
          10,
          500000,
          10000,
          10
         ],
         "xaxis": "x",
         "y": [
          5990000,
          299000,
          395000,
          49900,
          745,
          9990,
          19990,
          2990,
          14950.000000000002,
          99500,
          149000,
          34.900000000000006,
          1495000,
          19900,
          49.900000000000006
         ],
         "yaxis": "y"
        },
        {
         "hovertemplate": "<b>OLS trendline</b><br>Revenue = 5.49639 * Installs + -118602<br>R<sup>2</sup>=0.943843<br><br>Category=PHOTOGRAPHY<br>Installs=%{x}<br>Revenue=%{y} <b>(trend)</b><extra></extra>",
         "legendgroup": "PHOTOGRAPHY",
         "marker": {
          "color": "#636efa",
          "symbol": "circle"
         },
         "mode": "lines",
         "name": "PHOTOGRAPHY",
         "showlegend": false,
         "type": "scatter",
         "x": [
          10,
          10,
          500,
          1000,
          1000,
          1000,
          5000,
          10000,
          10000,
          50000,
          100000,
          100000,
          100000,
          500000,
          1000000
         ],
         "xaxis": "x",
         "y": [
          -118547.24372724898,
          -118547.24372724898,
          -115854.01148685157,
          -113105.81532318074,
          -113105.81532318074,
          -113105.81532318074,
          -91120.24601381413,
          -63638.28437710587,
          -63638.28437710587,
          156217.40871656023,
          431037.02508364286,
          431037.02508364286,
          431037.02508364286,
          2629593.956020304,
          5377790.11969113
         ],
         "yaxis": "y"
        },
        {
         "customdata": [
          [
           "Golfshot Plus: Golf GPS"
          ],
          [
           "G-Force Driving Assistant"
          ],
          [
           "O'Route Orienteering"
          ],
          [
           "Mike V: Skateboard Party PRO"
          ],
          [
           "True Skate"
          ],
          [
           "Hunt Buddy BC"
          ],
          [
           "iHunter BC"
          ],
          [
           "iFish BC"
          ],
          [
           "Basket Manager 2018 Pro"
          ],
          [
           "Basket Manager 2016 Pro"
          ],
          [
           "Basket Manager 2017 Pro"
          ],
          [
           "Jetting for Honda CR dirt bike"
          ],
          [
           "Absolute RC Heli Simulator"
          ],
          [
           "Fodbold DK Pro"
          ],
          [
           "Basketball Dynasty Manager 16"
          ],
          [
           "PORTABLE SOCCER DX"
          ],
          [
           "Active Soccer 2 DX"
          ],
          [
           "LocaToWeb - Live GPS tracking"
          ],
          [
           "FL SW Fishing Regulations"
          ],
          [
           "FL Racing Manager 2015 Pro"
          ],
          [
           "FL Racing Manager 2018 Pro"
          ],
          [
           "Football Manager Mobile 2018"
          ]
         ],
         "hovertemplate": "Category=SPORTS<br>Installs=%{x}<br>Revenue=%{y}<br>App=%{customdata[0]}<extra></extra>",
         "legendgroup": "SPORTS",
         "marker": {
          "color": "#EF553B",
          "symbol": "circle"
         },
         "mode": "markers",
         "name": "SPORTS",
         "orientation": "v",
         "showlegend": true,
         "type": "scatter",
         "x": [
          50000,
          100,
          100,
          50000,
          1000000,
          5000,
          1000,
          1000,
          1000,
          1000,
          1000,
          100,
          10000,
          1000,
          5000,
          5000,
          500,
          1000,
          1000,
          5000,
          5000,
          100000
         ],
         "xaxis": "x",
         "y": [
          1499500,
          388,
          302,
          199500,
          1990000,
          14950.000000000002,
          4490,
          3990,
          2990,
          990,
          990,
          349,
          49900,
          2990,
          9950,
          5000,
          1495,
          2490,
          1990,
          4950,
          9950,
          899000
         ],
         "yaxis": "y"
        },
        {
         "hovertemplate": "<b>OLS trendline</b><br>Revenue = 2.01026 * Installs + 100263<br>R<sup>2</sup>=0.630862<br><br>Category=SPORTS<br>Installs=%{x}<br>Revenue=%{y} <b>(trend)</b><extra></extra>",
         "legendgroup": "SPORTS",
         "marker": {
          "color": "#EF553B",
          "symbol": "circle"
         },
         "mode": "lines",
         "name": "SPORTS",
         "showlegend": false,
         "type": "scatter",
         "x": [
          100,
          100,
          100,
          500,
          1000,
          1000,
          1000,
          1000,
          1000,
          1000,
          1000,
          1000,
          5000,
          5000,
          5000,
          5000,
          5000,
          10000,
          50000,
          50000,
          100000,
          1000000
         ],
         "xaxis": "x",
         "y": [
          100464.06227190889,
          100464.06227190889,
          100464.06227190889,
          101268.1681449817,
          102273.30048632271,
          102273.30048632271,
          102273.30048632271,
          102273.30048632271,
          102273.30048632271,
          102273.30048632271,
          102273.30048632271,
          102273.30048632271,
          110314.35921705082,
          110314.35921705082,
          110314.35921705082,
          110314.35921705082,
          110314.35921705082,
          120365.68263046094,
          200776.26993774204,
          200776.26993774204,
          301289.50407184334,
          2110527.7184856674
         ],
         "yaxis": "y"
        },
        {
         "customdata": [
          [
           "Beautiful Widgets Pro"
          ],
          [
           "HD Widgets"
          ],
          [
           "Kairo XP (for HD Widgets)"
          ],
          [
           "BIG Launcher"
          ],
          [
           "Smart Launcher Pro 3"
          ],
          [
           "Smart Launcher theme b. gold"
          ],
          [
           "Next Launcher 3D Theme Hit-B"
          ],
          [
           "C Locker Pro"
          ],
          [
           "Neon Glow C - Icon Pack"
          ],
          [
           "Koi Live Wallpaper"
          ],
          [
           "Next Launcher 3D Theme Hit-G"
          ],
          [
           "Go"
          ],
          [
           "G Theme 2 for LG V30, LG G6"
          ],
          [
           "Dialer theme G Black Gold"
          ],
          [
           "N Launcher Pro - Nougat 7.0"
          ],
          [
           "Dark Infusion Substratum Theme for Android N & O"
          ],
          [
           "Planet O - Icon Pack"
          ],
          [
           "Prime Key for Nougat Launcher& O Launcher &KitKat"
          ],
          [
           "Android P | Xperia™ Theme 4800+ icons"
          ],
          [
           "[substratum] Vacuum: P"
          ],
          [
           "[Sub/EMUI] P Pro - EMUI 8.1/8.0/5.X Theme"
          ],
          [
           "Theme Android P Design for LG V30"
          ],
          [
           "Theme Android P for LG G7 & V35"
          ],
          [
           "Theme Android P Black design for LG V30"
          ],
          [
           "Theme Android P Black for LG G7 & V35"
          ],
          [
           "Pixel Oreo/P Dark White AMOLED UI - Icon Pack"
          ],
          [
           "Neon-R (Red)"
          ],
          [
           "S Launcher Pro for Galaxy"
          ],
          [
           "PitchBlack S - Samsung Substratum Theme “For Oreo”"
          ],
          [
           "weather HD"
          ],
          [
           "Light X - Icon Pack"
          ],
          [
           "X Back - Icon Pack"
          ],
          [
           "Space Z 🌏 🚀Icon Pack Theme"
          ],
          [
           "Watch Face Swiss AJ-6"
          ],
          [
           "AJ Gray Icon Pack"
          ],
          [
           "AP Themes for Kustom/KLWP"
          ],
          [
           "Ultimate Watch 2 watch face"
          ],
          [
           "Pujie Black Watch Face for Android Wear OS"
          ],
          [
           "BL Holo Theme"
          ],
          [
           "Watch Face BW Inter"
          ],
          [
           "Color Changer Pro [root]"
          ],
          [
           "Lollipop Launcher Plus"
          ],
          [
           "Next Launcher 3D Bold-CF Theme"
          ],
          [
           "FAV KWGT"
          ],
          [
           "Pixxy KWGT"
          ],
          [
           "CM Launcher 3D Pro💎"
          ],
          [
           "Swift Dark CM / CM13 Theme"
          ],
          [
           "OMEGA Black UI Theme - CM 12+"
          ],
          [
           "Asiimov Skin - CS GO Icon Pack"
          ],
          [
           "MultiPicture Live Wallpaper dn"
          ],
          [
           "Day Night Live Wallpaper (All)"
          ],
          [
           "DX Glow - Clock Widget"
          ],
          [
           "EM Launcher Pro"
          ],
          [
           "EU Flags Live Wallpaper"
          ],
          [
           "ADWLauncher 1 EX"
          ],
          [
           "Device Info Ex Live Wallpaper"
          ],
          [
           "GO Contacts EX Black & Grey"
          ],
          [
           "Circle Colors Pack-FN Theme"
          ]
         ],
         "hovertemplate": "Category=PERSONALIZATION<br>Installs=%{x}<br>Revenue=%{y}<br>App=%{customdata[0]}<extra></extra>",
         "legendgroup": "PERSONALIZATION",
         "marker": {
          "color": "#00cc96",
          "symbol": "circle"
         },
         "mode": "markers",
         "name": "PERSONALIZATION",
         "orientation": "v",
         "showlegend": true,
         "type": "scatter",
         "x": [
          1000000,
          1000000,
          10000,
          10000,
          100000,
          5000,
          1000,
          10000,
          10000,
          100000,
          1000,
          5000,
          500,
          500,
          100000,
          1000,
          10000,
          5000,
          100,
          1000,
          100,
          500,
          100,
          100,
          100,
          5000,
          100,
          1000,
          1000,
          10000,
          10000,
          10000,
          1000,
          100,
          50,
          500,
          10000,
          100000,
          500,
          1000,
          1000,
          1000,
          1000,
          1000,
          1000,
          100000,
          10000,
          100,
          100,
          10000,
          50000,
          50,
          1000,
          10000,
          500000,
          50000,
          500,
          50
         ],
         "xaxis": "x",
         "y": [
          2490000,
          990000,
          9900,
          99900,
          449000,
          9950,
          1700,
          29900.000000000004,
          9900,
          99000,
          1700,
          4950,
          745,
          745,
          299000,
          2490,
          9900,
          34950,
          199,
          1490,
          99,
          745,
          149,
          149,
          149,
          7450,
          99,
          4990,
          1990,
          19900,
          9900,
          9900,
          1490,
          99,
          49.5,
          745,
          9900,
          199000,
          1000,
          990,
          990,
          4990,
          990,
          990,
          990,
          499000,
          19900,
          99,
          249.00000000000003,
          19900,
          124500.00000000001,
          49.5,
          3990,
          9900,
          1245000,
          49500,
          495,
          49.5
         ],
         "yaxis": "y"
        },
        {
         "hovertemplate": "<b>OLS trendline</b><br>Revenue = 1.83058 * Installs + 14339.4<br>R<sup>2</sup>=0.831646<br><br>Category=PERSONALIZATION<br>Installs=%{x}<br>Revenue=%{y} <b>(trend)</b><extra></extra>",
         "legendgroup": "PERSONALIZATION",
         "marker": {
          "color": "#00cc96",
          "symbol": "circle"
         },
         "mode": "lines",
         "name": "PERSONALIZATION",
         "showlegend": false,
         "type": "scatter",
         "x": [
          50,
          50,
          50,
          100,
          100,
          100,
          100,
          100,
          100,
          100,
          100,
          100,
          500,
          500,
          500,
          500,
          500,
          500,
          1000,
          1000,
          1000,
          1000,
          1000,
          1000,
          1000,
          1000,
          1000,
          1000,
          1000,
          1000,
          1000,
          1000,
          5000,
          5000,
          5000,
          5000,
          10000,
          10000,
          10000,
          10000,
          10000,
          10000,
          10000,
          10000,
          10000,
          10000,
          10000,
          10000,
          50000,
          50000,
          100000,
          100000,
          100000,
          100000,
          100000,
          500000,
          1000000,
          1000000
         ],
         "xaxis": "x",
         "y": [
          14430.892678904707,
          14430.892678904707,
          14430.892678904707,
          14522.421528951918,
          14522.421528951918,
          14522.421528951918,
          14522.421528951918,
          14522.421528951918,
          14522.421528951918,
          14522.421528951918,
          14522.421528951918,
          14522.421528951918,
          15254.6523293296,
          15254.6523293296,
          15254.6523293296,
          15254.6523293296,
          15254.6523293296,
          15254.6523293296,
          16169.9408298017,
          16169.9408298017,
          16169.9408298017,
          16169.9408298017,
          16169.9408298017,
          16169.9408298017,
          16169.9408298017,
          16169.9408298017,
          16169.9408298017,
          16169.9408298017,
          16169.9408298017,
          16169.9408298017,
          16169.9408298017,
          16169.9408298017,
          23492.24883357852,
          23492.24883357852,
          23492.24883357852,
          23492.24883357852,
          32645.133838299545,
          32645.133838299545,
          32645.133838299545,
          32645.133838299545,
          32645.133838299545,
          32645.133838299545,
          32645.133838299545,
          32645.133838299545,
          32645.133838299545,
          32645.133838299545,
          32645.133838299545,
          32645.133838299545,
          105868.21387606775,
          105868.21387606775,
          197397.06392327798,
          197397.06392327798,
          197397.06392327798,
          197397.06392327798,
          197397.06392327798,
          929627.86430096,
          1844916.3647730623,
          1844916.3647730623
         ],
         "yaxis": "y"
        },
        {
         "customdata": [
          [
           "aCalendar+ Calendar & Tasks"
          ],
          [
           "Ramfer - CNC Lathe G-code Tool"
          ],
          [
           "m>notes notepad"
          ],
          [
           "Ad Removal: thereisonlywe"
          ],
          [
           "Ad Remove Plugin for App2SD"
          ],
          [
           "F05WatchFace for Android Wear"
          ],
          [
           "Business Calendar Pro"
          ],
          [
           "QR Code Pro"
          ],
          [
           "California Cop Assist CA Cop"
          ],
          [
           "CamScanner (License)"
          ],
          [
           "Pocket RxTx Pro"
          ],
          [
           "ACCDB MDB DB Manager Pro - Editor for MS Access"
          ],
          [
           "myGrow"
          ],
          [
           "Inventory & Barcode scanner & WIFI scanner"
          ],
          [
           "ES File Explorer/Manager PRO"
          ],
          [
           "Organizer"
          ],
          [
           "Police Field Interview FI Card"
          ]
         ],
         "hovertemplate": "Category=PRODUCTIVITY<br>Installs=%{x}<br>Revenue=%{y}<br>App=%{customdata[0]}<extra></extra>",
         "legendgroup": "PRODUCTIVITY",
         "marker": {
          "color": "#ab63fa",
          "symbol": "circle"
         },
         "mode": "markers",
         "name": "PRODUCTIVITY",
         "orientation": "v",
         "showlegend": true,
         "type": "scatter",
         "x": [
          100000,
          100,
          1000,
          100,
          1000,
          1000,
          100000,
          100000,
          100,
          500000,
          5000,
          500,
          1000,
          50000,
          500000,
          50000,
          1000
         ],
         "xaxis": "x",
         "y": [
          599000,
          299,
          2990,
          649,
          1290,
          990,
          499000,
          449000,
          499,
          995000,
          19950,
          4495,
          4290,
          74500,
          1495000,
          149500,
          7990
         ],
         "yaxis": "y"
        },
        {
         "hovertemplate": "<b>OLS trendline</b><br>Revenue = 2.52136 * Installs + 43959.6<br>R<sup>2</sup>=0.893722<br><br>Category=PRODUCTIVITY<br>Installs=%{x}<br>Revenue=%{y} <b>(trend)</b><extra></extra>",
         "legendgroup": "PRODUCTIVITY",
         "marker": {
          "color": "#ab63fa",
          "symbol": "circle"
         },
         "mode": "lines",
         "name": "PRODUCTIVITY",
         "showlegend": false,
         "type": "scatter",
         "x": [
          100,
          100,
          100,
          500,
          1000,
          1000,
          1000,
          1000,
          1000,
          5000,
          50000,
          50000,
          100000,
          100000,
          100000,
          500000,
          500000
         ],
         "xaxis": "x",
         "y": [
          44211.780264698704,
          44211.780264698704,
          44211.780264698704,
          45220.32237966573,
          46481.00002337453,
          46481.00002337453,
          46481.00002337453,
          46481.00002337453,
          46481.00002337453,
          56566.42117304488,
          170027.4091068363,
          170027.4091068363,
          296095.1734777157,
          296095.1734777157,
          296095.1734777157,
          1304637.2884447507,
          1304637.2884447507
         ],
         "yaxis": "y"
        },
        {
         "customdata": [
          [
           "Weather Live Pro"
          ],
          [
           "Weather Live"
          ],
          [
           "W Pro - Weather Forecast & Animated Weather Maps"
          ],
          [
           "MyRadar NOAA Weather Radar Ad Free"
          ],
          [
           "Weather & Radar Pro - Ad-Free"
          ],
          [
           "Weather Forecast Pro"
          ],
          [
           "Florida Tides & Weather"
          ]
         ],
         "hovertemplate": "Category=WEATHER<br>Installs=%{x}<br>Revenue=%{y}<br>App=%{customdata[0]}<extra></extra>",
         "legendgroup": "WEATHER",
         "marker": {
          "color": "#FFA15A",
          "symbol": "circle"
         },
         "mode": "markers",
         "name": "WEATHER",
         "orientation": "v",
         "showlegend": true,
         "type": "scatter",
         "x": [
          100000,
          500000,
          500,
          10000,
          100000,
          100000,
          1000
         ],
         "xaxis": "x",
         "y": [
          449000,
          2995000,
          995,
          29900.000000000004,
          299000,
          399000,
          6990
         ],
         "yaxis": "y"
        },
        {
         "hovertemplate": "<b>OLS trendline</b><br>Revenue = 6.06336 * Installs + -105791<br>R<sup>2</sup>=0.987560<br><br>Category=WEATHER<br>Installs=%{x}<br>Revenue=%{y} <b>(trend)</b><extra></extra>",
         "legendgroup": "WEATHER",
         "marker": {
          "color": "#FFA15A",
          "symbol": "circle"
         },
         "mode": "lines",
         "name": "WEATHER",
         "showlegend": false,
         "type": "scatter",
         "x": [
          500,
          1000,
          10000,
          100000,
          100000,
          100000,
          500000
         ],
         "xaxis": "x",
         "y": [
          -102758.89396137938,
          -99727.21249001203,
          -45156.94600539951,
          500545.71884072555,
          500545.71884072555,
          500545.71884072555,
          2925890.895934615
         ],
         "yaxis": "y"
        },
        {
         "customdata": [
          [
           "Maps & GPS Navigation OsmAnd+"
          ],
          [
           "Greater London A-Z 2016"
          ],
          [
           "Ultimate Public Campgrounds (Over 37,100 in US&CA)"
          ],
          [
           "Navigator PRO - GPS Navigation with Offline Maps"
          ],
          [
           "DC Metro Transit"
          ],
          [
           "YouCamp EU"
          ],
          [
           "Campervan.Guide Pro"
          ],
          [
           "XE Currency Pro"
          ]
         ],
         "hovertemplate": "Category=TRAVEL_AND_LOCAL<br>Installs=%{x}<br>Revenue=%{y}<br>App=%{customdata[0]}<extra></extra>",
         "legendgroup": "TRAVEL_AND_LOCAL",
         "marker": {
          "color": "#19d3f3",
          "symbol": "circle"
         },
         "mode": "markers",
         "name": "TRAVEL_AND_LOCAL",
         "orientation": "v",
         "showlegend": true,
         "type": "scatter",
         "x": [
          100000,
          1000,
          5000,
          50000,
          5000,
          1000,
          10000,
          10000
         ],
         "xaxis": "x",
         "y": [
          899000,
          8490,
          19950,
          124500.00000000001,
          14950.000000000002,
          2560,
          59900,
          19900
         ],
         "yaxis": "y"
        },
        {
         "hovertemplate": "<b>OLS trendline</b><br>Revenue = 8.24051 * Installs + -43815.2<br>R<sup>2</sup>=0.881625<br><br>Category=TRAVEL_AND_LOCAL<br>Installs=%{x}<br>Revenue=%{y} <b>(trend)</b><extra></extra>",
         "legendgroup": "TRAVEL_AND_LOCAL",
         "marker": {
          "color": "#19d3f3",
          "symbol": "circle"
         },
         "mode": "lines",
         "name": "TRAVEL_AND_LOCAL",
         "showlegend": false,
         "type": "scatter",
         "x": [
          1000,
          1000,
          5000,
          5000,
          10000,
          10000,
          50000,
          100000
         ],
         "xaxis": "x",
         "y": [
          -35574.74307611924,
          -35574.74307611924,
          -2612.7213609708633,
          -2612.7213609708633,
          38589.8057829646,
          38589.8057829646,
          368210.02293444827,
          780235.2943738028
         ],
         "yaxis": "y"
        },
        {
         "customdata": [
          [
           "G Cloud Apps Backup Key * root"
          ],
          [
           "G-Playlists"
          ],
          [
           "G-NetTrack Pro"
          ],
          [
           "G-NetWiFi Pro"
          ],
          [
           "Volume Slider Like Android P Volume Control"
          ],
          [
           "Q-slope"
          ],
          [
           "I Can't Wake Up!"
          ],
          [
           "X-Plane to GPS"
          ],
          [
           "Decibel X PRO - Sound Meter dBA, Noise Detector"
          ],
          [
           "X Home Bar - Home Bar Gesture Pro"
          ],
          [
           "ZArchiver Donate"
          ],
          [
           "FVD Ad-Free"
          ],
          [
           "Vpn Hosts (ad blocker & no root & support ipv6 )"
          ],
          [
           "RAM Cleanup Ad-Free Option"
          ],
          [
           "AH Alarm Panel"
          ],
          [
           "ap,wifi testing,iperf,ping,android,Bluetooth,tcp"
          ],
          [
           "AV Tools Pro"
          ],
          [
           "Analog Clock AW-7 PRO"
          ],
          [
           "Droid PRoCon BF3"
          ],
          [
           "BusyBox Pro"
          ],
          [
           "Power Widget"
          ],
          [
           "BL IP-Camera"
          ],
          [
           "BL PowerPoint Remote"
          ],
          [
           "BatControl Pro"
          ],
          [
           "Little Magnet BT Pro"
          ],
          [
           "Battery Notifier Pro BT"
          ],
          [
           "Bixby Button Remapper - bxActions Pro / Coffee"
          ],
          [
           "Trinomial Factoring Wizard"
          ],
          [
           "CB Frequencies"
          ],
          [
           "Antenna Tool Premium"
          ],
          [
           "Frequencies"
          ],
          [
           "CF-Bench Pro"
          ],
          [
           "Battery HD Pro"
          ],
          [
           "Automagic * Automation"
          ],
          [
           "FlashLight HD LED Pro"
          ],
          [
           "DCUO|CR Calculator Pro"
          ],
          [
           "CZ-Cyberon Voice Commander"
          ],
          [
           "Scale Models DB"
          ],
          [
           "Droidbug BusyBox Advance PRO"
          ],
          [
           "Penny Puss"
          ],
          [
           "Advanced Download Manager Pro"
          ],
          [
           "Deep Sleep Battery Saver Pro"
          ],
          [
           "iCam - Webcam Video Streaming"
          ],
          [
           "DW Contacts widget"
          ],
          [
           "Electrician Calculator Pro"
          ],
          [
           "EC music dictionary"
          ],
          [
           "Silence Premium Do Not Disturb"
          ],
          [
           "Trazado de tuberia El Tubero"
          ],
          [
           "ai.type keyboard Plus + Emoji"
          ],
          [
           "Tasker"
          ],
          [
           "Advanced EX for HYUNDAI"
          ],
          [
           "Advanced EX for MITSUBISHI"
          ],
          [
           "Advanced EX for KIA"
          ],
          [
           "Advanced EX for NISSAN"
          ],
          [
           "Advanced EX for FIAT"
          ],
          [
           "Advanced EX for RENAULT"
          ],
          [
           "Volume Control Ex"
          ],
          [
           "FiSwitch"
          ],
          [
           "WiFi Monitor Pro - analyzer of Wi-Fi networks"
          ],
          [
           "Wi-Fi Rabbit Unlock Key"
          ],
          [
           "Kernel Manager for Franco Kernel ✨"
          ]
         ],
         "hovertemplate": "Category=TOOLS<br>Installs=%{x}<br>Revenue=%{y}<br>App=%{customdata[0]}<extra></extra>",
         "legendgroup": "TOOLS",
         "marker": {
          "color": "#FF6692",
          "symbol": "circle"
         },
         "mode": "markers",
         "name": "TOOLS",
         "orientation": "v",
         "showlegend": true,
         "type": "scatter",
         "x": [
          5000,
          1000,
          5000,
          100,
          10000,
          50,
          10000,
          5000,
          1000,
          10000,
          10000,
          10000,
          10000,
          10000,
          100,
          10,
          1000,
          1000,
          5000,
          100000,
          10000,
          100,
          500,
          500,
          1000,
          10000,
          10000,
          1000,
          100,
          500,
          500,
          1000,
          100000,
          10000,
          50000,
          500,
          1000,
          50,
          100,
          1000,
          50000,
          10000,
          10000,
          1000,
          1000,
          500,
          10000,
          10000,
          100000,
          1000000,
          5000,
          1000,
          5000,
          5000,
          5000,
          5000,
          100,
          10000,
          1000,
          5000,
          100000
         ],
         "xaxis": "x",
         "y": [
          24950,
          1490,
          74950,
          599,
          9900,
          88,
          29900.000000000004,
          4950,
          3990,
          19900,
          25000,
          19900,
          29900.000000000004,
          29900.000000000004,
          499,
          29.900000000000002,
          2490,
          1990,
          4950,
          249000.00000000003,
          19900,
          399,
          1995,
          1995,
          990,
          25900,
          29900.000000000004,
          990,
          99,
          495,
          495,
          1490,
          399000,
          39000,
          149500,
          495,
          5990,
          149.5,
          399,
          4990,
          149500,
          32800,
          49900,
          990,
          14990,
          995,
          29500,
          19700,
          449000,
          2990000,
          24950,
          4990,
          24950,
          24950,
          24950,
          24950,
          149,
          19900,
          2990,
          5000,
          349000
         ],
         "yaxis": "y"
        },
        {
         "hovertemplate": "<b>OLS trendline</b><br>Revenue = 3.00653 * Installs + 4447.49<br>R<sup>2</sup>=0.995380<br><br>Category=TOOLS<br>Installs=%{x}<br>Revenue=%{y} <b>(trend)</b><extra></extra>",
         "legendgroup": "TOOLS",
         "marker": {
          "color": "#FF6692",
          "symbol": "circle"
         },
         "mode": "lines",
         "name": "TOOLS",
         "showlegend": false,
         "type": "scatter",
         "x": [
          10,
          50,
          50,
          100,
          100,
          100,
          100,
          100,
          100,
          500,
          500,
          500,
          500,
          500,
          500,
          1000,
          1000,
          1000,
          1000,
          1000,
          1000,
          1000,
          1000,
          1000,
          1000,
          1000,
          1000,
          1000,
          5000,
          5000,
          5000,
          5000,
          5000,
          5000,
          5000,
          5000,
          5000,
          5000,
          10000,
          10000,
          10000,
          10000,
          10000,
          10000,
          10000,
          10000,
          10000,
          10000,
          10000,
          10000,
          10000,
          10000,
          10000,
          10000,
          50000,
          50000,
          100000,
          100000,
          100000,
          100000,
          1000000
         ],
         "xaxis": "x",
         "y": [
          4477.558564657172,
          4597.819739040021,
          4597.819739040021,
          4748.1462070185835,
          4748.1462070185835,
          4748.1462070185835,
          4748.1462070185835,
          4748.1462070185835,
          4748.1462070185835,
          5950.757950847078,
          5950.757950847078,
          5950.757950847078,
          5950.757950847078,
          5950.757950847078,
          5950.757950847078,
          7454.022630632697,
          7454.022630632697,
          7454.022630632697,
          7454.022630632697,
          7454.022630632697,
          7454.022630632697,
          7454.022630632697,
          7454.022630632697,
          7454.022630632697,
          7454.022630632697,
          7454.022630632697,
          7454.022630632697,
          7454.022630632697,
          19480.140068917648,
          19480.140068917648,
          19480.140068917648,
          19480.140068917648,
          19480.140068917648,
          19480.140068917648,
          19480.140068917648,
          19480.140068917648,
          19480.140068917648,
          19480.140068917648,
          34512.78686677384,
          34512.78686677384,
          34512.78686677384,
          34512.78686677384,
          34512.78686677384,
          34512.78686677384,
          34512.78686677384,
          34512.78686677384,
          34512.78686677384,
          34512.78686677384,
          34512.78686677384,
          34512.78686677384,
          34512.78686677384,
          34512.78686677384,
          34512.78686677384,
          34512.78686677384,
          154773.96124962333,
          154773.96124962333,
          305100.4292281852,
          305100.4292281852,
          305100.4292281852,
          305100.4292281852,
          3010976.8528422993
         ],
         "yaxis": "y"
        },
        {
         "customdata": [
          [
           "A41 WatchFace for Android Wear Smart Watch"
          ],
          [
           "H*nest Meditation"
          ],
          [
           "💎 I'm rich"
          ],
          [
           "I'm Rich - Trump Edition"
          ],
          [
           "Kicker U"
          ],
          [
           "Alarmy (Sleep If U Can) - Pro"
          ],
          [
           "I am rich"
          ],
          [
           "I am rich VIP"
          ],
          [
           "I am extremely Rich"
          ],
          [
           "I am Rich Person"
          ],
          [
           "I am Millionaire - Richest guy in the town"
          ],
          [
           "Sleep as Android Unlock"
          ],
          [
           "Lunar Calendar"
          ],
          [
           "Board Game Stats: Play tracking for tabletop games"
          ],
          [
           "My Movies Pro - Movie & TV Collection Library"
          ],
          [
           "The Secret Daily Teachings"
          ]
         ],
         "hovertemplate": "Category=LIFESTYLE<br>Installs=%{x}<br>Revenue=%{y}<br>App=%{customdata[0]}<extra></extra>",
         "legendgroup": "LIFESTYLE",
         "marker": {
          "color": "#B6E880",
          "symbol": "circle"
         },
         "mode": "markers",
         "name": "LIFESTYLE",
         "orientation": "v",
         "showlegend": true,
         "type": "scatter",
         "x": [
          5000,
          5000,
          10000,
          10000,
          5000,
          10000,
          100000,
          10000,
          1000,
          1000,
          5000,
          1000000,
          1000,
          5000,
          10000,
          1000
         ],
         "xaxis": "x",
         "y": [
          4950,
          9950,
          3999900,
          4000000,
          19950,
          24900.000000000004,
          39999000,
          2999900,
          379990,
          37990,
          12450.000000000002,
          5990000,
          4990,
          14950.000000000002,
          79900,
          4990
         ],
         "yaxis": "y"
        },
        {
         "hovertemplate": "<b>OLS trendline</b><br>Revenue = 6.34205 * Installs + 3.13166e+06<br>R<sup>2</sup>=0.025280<br><br>Category=LIFESTYLE<br>Installs=%{x}<br>Revenue=%{y} <b>(trend)</b><extra></extra>",
         "legendgroup": "LIFESTYLE",
         "marker": {
          "color": "#B6E880",
          "symbol": "circle"
         },
         "mode": "lines",
         "name": "LIFESTYLE",
         "showlegend": false,
         "type": "scatter",
         "x": [
          1000,
          1000,
          1000,
          1000,
          5000,
          5000,
          5000,
          5000,
          5000,
          10000,
          10000,
          10000,
          10000,
          10000,
          100000,
          1000000
         ],
         "xaxis": "x",
         "y": [
          3138000.3336442714,
          3138000.3336442714,
          3138000.3336442714,
          3138000.3336442714,
          3163368.5354041737,
          3163368.5354041737,
          3163368.5354041737,
          3163368.5354041737,
          3163368.5354041737,
          3195078.787604052,
          3195078.787604052,
          3195078.787604052,
          3195078.787604052,
          3195078.787604052,
          3765863.327201859,
          9473708.723179933
         ],
         "yaxis": "y"
        },
        {
         "customdata": [
          [
           "Ulysse Speedometer Pro"
          ]
         ],
         "hovertemplate": "Category=AUTO_AND_VEHICLES<br>Installs=%{x}<br>Revenue=%{y}<br>App=%{customdata[0]}<extra></extra>",
         "legendgroup": "AUTO_AND_VEHICLES",
         "marker": {
          "color": "#FF97FF",
          "symbol": "circle"
         },
         "mode": "markers",
         "name": "AUTO_AND_VEHICLES",
         "orientation": "v",
         "showlegend": true,
         "type": "scatter",
         "x": [
          50000
         ],
         "xaxis": "x",
         "y": [
          99500
         ],
         "yaxis": "y"
        },
        {
         "hovertemplate": "Category=AUTO_AND_VEHICLES<extra></extra>",
         "legendgroup": "AUTO_AND_VEHICLES",
         "marker": {
          "color": "#FF97FF",
          "symbol": "circle"
         },
         "mode": "lines",
         "name": "AUTO_AND_VEHICLES",
         "showlegend": false,
         "type": "scatter",
         "xaxis": "x",
         "yaxis": "y"
        },
        {
         "customdata": [
          [
           "Q Alerts: QAnon Drop Notifications, Research +++"
          ],
          [
           "Égalité et Réconciliation"
          ]
         ],
         "hovertemplate": "Category=NEWS_AND_MAGAZINES<br>Installs=%{x}<br>Revenue=%{y}<br>App=%{customdata[0]}<extra></extra>",
         "legendgroup": "NEWS_AND_MAGAZINES",
         "marker": {
          "color": "#FECB52",
          "symbol": "circle"
         },
         "mode": "markers",
         "name": "NEWS_AND_MAGAZINES",
         "orientation": "v",
         "showlegend": true,
         "type": "scatter",
         "x": [
          5000,
          500
         ],
         "xaxis": "x",
         "y": [
          4950,
          1495
         ],
         "yaxis": "y"
        },
        {
         "hovertemplate": "<b>OLS trendline</b><br>Revenue = 0.767778 * Installs + 1111.11<br>R<sup>2</sup>=1.000000<br><br>Category=NEWS_AND_MAGAZINES<br>Installs=%{x}<br>Revenue=%{y} <b>(trend)</b><extra></extra>",
         "legendgroup": "NEWS_AND_MAGAZINES",
         "marker": {
          "color": "#FECB52",
          "symbol": "circle"
         },
         "mode": "lines",
         "name": "NEWS_AND_MAGAZINES",
         "showlegend": false,
         "type": "scatter",
         "x": [
          500,
          5000
         ],
         "xaxis": "x",
         "y": [
          1494.9999999999998,
          4949.999999999999
         ],
         "yaxis": "y"
        },
        {
         "customdata": [
          [
           "Shopping List S PRO"
          ],
          [
           "Penny Finder"
          ]
         ],
         "hovertemplate": "Category=SHOPPING<br>Installs=%{x}<br>Revenue=%{y}<br>App=%{customdata[0]}<extra></extra>",
         "legendgroup": "SHOPPING",
         "marker": {
          "color": "#636efa",
          "symbol": "circle"
         },
         "mode": "markers",
         "name": "SHOPPING",
         "orientation": "v",
         "showlegend": true,
         "type": "scatter",
         "x": [
          100,
          10000
         ],
         "xaxis": "x",
         "y": [
          249.00000000000003,
          29900.000000000004
         ],
         "yaxis": "y"
        },
        {
         "hovertemplate": "<b>OLS trendline</b><br>Revenue = 2.99505 * Installs + -50.5051<br>R<sup>2</sup>=1.000000<br><br>Category=SHOPPING<br>Installs=%{x}<br>Revenue=%{y} <b>(trend)</b><extra></extra>",
         "legendgroup": "SHOPPING",
         "marker": {
          "color": "#636efa",
          "symbol": "circle"
         },
         "mode": "lines",
         "name": "SHOPPING",
         "showlegend": false,
         "type": "scatter",
         "x": [
          100,
          10000
         ],
         "xaxis": "x",
         "y": [
          248.9999999999996,
          29900.000000000004
         ],
         "yaxis": "y"
        },
        {
         "customdata": [
          [
           "Don't Panic with Andrew J."
          ],
          [
           "Al'Quran Bahasa Indonesia PRO"
          ],
          [
           "17th Edition Cable Sizer"
          ],
          [
           "10,000 Quotes DB (Premium)"
          ],
          [
           "Dungeons and Dragons DM Tools"
          ],
          [
           "Officiel du SCRABBLE LAROUSSE"
          ]
         ],
         "hovertemplate": "Category=BOOKS_AND_REFERENCE<br>Installs=%{x}<br>Revenue=%{y}<br>App=%{customdata[0]}<extra></extra>",
         "legendgroup": "BOOKS_AND_REFERENCE",
         "marker": {
          "color": "#EF553B",
          "symbol": "circle"
         },
         "mode": "markers",
         "name": "BOOKS_AND_REFERENCE",
         "orientation": "v",
         "showlegend": true,
         "type": "scatter",
         "x": [
          5000,
          10000,
          1000,
          500,
          1000,
          5000
         ],
         "xaxis": "x",
         "y": [
          14950.000000000002,
          44900,
          3080,
          495,
          1990,
          23000
         ],
         "yaxis": "y"
        },
        {
         "hovertemplate": "<b>OLS trendline</b><br>Revenue = 4.60422 * Installs + -2529.98<br>R<sup>2</sup>=0.972646<br><br>Category=BOOKS_AND_REFERENCE<br>Installs=%{x}<br>Revenue=%{y} <b>(trend)</b><extra></extra>",
         "legendgroup": "BOOKS_AND_REFERENCE",
         "marker": {
          "color": "#EF553B",
          "symbol": "circle"
         },
         "mode": "lines",
         "name": "BOOKS_AND_REFERENCE",
         "showlegend": false,
         "type": "scatter",
         "x": [
          500,
          1000,
          1000,
          5000,
          5000,
          10000
         ],
         "xaxis": "x",
         "y": [
          -227.87292817679645,
          2074.235727440147,
          2074.235727440147,
          20491.104972375695,
          20491.104972375695,
          43512.191528545125
         ],
         "yaxis": "y"
        },
        {
         "customdata": [
          [
           "W-History Standalone"
          ],
          [
           "WhatsFake Pro (Ad free)"
          ]
         ],
         "hovertemplate": "Category=SOCIAL<br>Installs=%{x}<br>Revenue=%{y}<br>App=%{customdata[0]}<extra></extra>",
         "legendgroup": "SOCIAL",
         "marker": {
          "color": "#00cc96",
          "symbol": "circle"
         },
         "mode": "markers",
         "name": "SOCIAL",
         "orientation": "v",
         "showlegend": true,
         "type": "scatter",
         "x": [
          1000,
          5000
         ],
         "xaxis": "x",
         "y": [
          990,
          4950
         ],
         "yaxis": "y"
        },
        {
         "hovertemplate": "<b>OLS trendline</b><br>Revenue = 0.99 * Installs + -4.54747e-13<br>R<sup>2</sup>=1.000000<br><br>Category=SOCIAL<br>Installs=%{x}<br>Revenue=%{y} <b>(trend)</b><extra></extra>",
         "legendgroup": "SOCIAL",
         "marker": {
          "color": "#00cc96",
          "symbol": "circle"
         },
         "mode": "lines",
         "name": "SOCIAL",
         "showlegend": false,
         "type": "scatter",
         "x": [
          1000,
          5000
         ],
         "xaxis": "x",
         "y": [
          989.9999999999998,
          4950
         ],
         "yaxis": "y"
        },
        {
         "customdata": [
          [
           "X Launcher Pro: PhoneX Theme, OS11 Control Center"
          ],
          [
           "X Launcher Pro - IOS Style Theme & Control Center"
          ],
          [
           "X Launcher Prime: With OS Style Theme & No Ads"
          ]
         ],
         "hovertemplate": "Category=ART_AND_DESIGN<br>Installs=%{x}<br>Revenue=%{y}<br>App=%{customdata[0]}<extra></extra>",
         "legendgroup": "ART_AND_DESIGN",
         "marker": {
          "color": "#ab63fa",
          "symbol": "circle"
         },
         "mode": "markers",
         "name": "ART_AND_DESIGN",
         "orientation": "v",
         "showlegend": true,
         "type": "scatter",
         "x": [
          5000,
          10000,
          1000
         ],
         "xaxis": "x",
         "y": [
          9950,
          19900,
          1990
         ],
         "yaxis": "y"
        },
        {
         "hovertemplate": "<b>OLS trendline</b><br>Revenue = 1.99 * Installs + 0<br>R<sup>2</sup>=1.000000<br><br>Category=ART_AND_DESIGN<br>Installs=%{x}<br>Revenue=%{y} <b>(trend)</b><extra></extra>",
         "legendgroup": "ART_AND_DESIGN",
         "marker": {
          "color": "#ab63fa",
          "symbol": "circle"
         },
         "mode": "lines",
         "name": "ART_AND_DESIGN",
         "showlegend": false,
         "type": "scatter",
         "x": [
          1000,
          5000,
          10000
         ],
         "xaxis": "x",
         "y": [
          1990.0000000000005,
          9950.000000000002,
          19900.000000000004
         ],
         "yaxis": "y"
        },
        {
         "customdata": [
          [
           "Flud (Ad free)"
          ],
          [
           "tTorrent - ad free"
          ],
          [
           "BSPlayer"
          ],
          [
           "Online TV CZ/SK PRO"
          ]
         ],
         "hovertemplate": "Category=VIDEO_PLAYERS<br>Installs=%{x}<br>Revenue=%{y}<br>App=%{customdata[0]}<extra></extra>",
         "legendgroup": "VIDEO_PLAYERS",
         "marker": {
          "color": "#FFA15A",
          "symbol": "circle"
         },
         "mode": "markers",
         "name": "VIDEO_PLAYERS",
         "orientation": "v",
         "showlegend": true,
         "type": "scatter",
         "x": [
          10000,
          10000,
          50000,
          1000
         ],
         "xaxis": "x",
         "y": [
          14900,
          19900,
          299500,
          990
         ],
         "yaxis": "y"
        },
        {
         "hovertemplate": "<b>OLS trendline</b><br>Revenue = 6.50536 * Installs + -31647.6<br>R<sup>2</sup>=0.980031<br><br>Category=VIDEO_PLAYERS<br>Installs=%{x}<br>Revenue=%{y} <b>(trend)</b><extra></extra>",
         "legendgroup": "VIDEO_PLAYERS",
         "marker": {
          "color": "#FFA15A",
          "symbol": "circle"
         },
         "mode": "lines",
         "name": "VIDEO_PLAYERS",
         "showlegend": false,
         "type": "scatter",
         "x": [
          1000,
          10000,
          10000,
          50000
         ],
         "xaxis": "x",
         "y": [
          -25142.222800624673,
          33405.98646538263,
          33405.98646538263,
          293620.2498698595
         ],
         "yaxis": "y"
        },
        {
         "customdata": [
          [
           "I Am Rich Premium"
          ],
          [
           "I am Rich!"
          ],
          [
           "I am rich(premium)"
          ],
          [
           "I am Rich Premium Plus"
          ],
          [
           "I am rich (Most expensive app)"
          ],
          [
           "I am Rich"
          ],
          [
           "I AM RICH PRO PLUS"
          ],
          [
           "Ba Financial Calculator plus"
          ],
          [
           "Financial Calculator BA Chien."
          ],
          [
           "BA Pro Financial Calculator"
          ],
          [
           "My Budget Book"
          ],
          [
           "Bitcoin BX Thailand PRO"
          ],
          [
           "Ray Financial Calculator Pro"
          ]
         ],
         "hovertemplate": "Category=FINANCE<br>Installs=%{x}<br>Revenue=%{y}<br>App=%{customdata[0]}<extra></extra>",
         "legendgroup": "FINANCE",
         "marker": {
          "color": "#19d3f3",
          "symbol": "circle"
         },
         "mode": "markers",
         "name": "FINANCE",
         "orientation": "v",
         "showlegend": true,
         "type": "scatter",
         "x": [
          50000,
          1000,
          5000,
          10000,
          1000,
          5000,
          1000,
          1000,
          500,
          1000,
          100000,
          100,
          10000
         ],
         "xaxis": "x",
         "y": [
          19999500,
          399990,
          1999950,
          189899.99999999997,
          399990,
          1999950,
          399990,
          3990,
          1995,
          1990,
          299000,
          499,
          29900.000000000004
         ],
         "yaxis": "y"
        },
        {
         "hovertemplate": "<b>OLS trendline</b><br>Revenue = 67.8823 * Installs + 1.00982e+06<br>R<sup>2</sup>=0.130191<br><br>Category=FINANCE<br>Installs=%{x}<br>Revenue=%{y} <b>(trend)</b><extra></extra>",
         "legendgroup": "FINANCE",
         "marker": {
          "color": "#19d3f3",
          "symbol": "circle"
         },
         "mode": "lines",
         "name": "FINANCE",
         "showlegend": false,
         "type": "scatter",
         "x": [
          100,
          500,
          1000,
          1000,
          1000,
          1000,
          1000,
          5000,
          5000,
          10000,
          10000,
          50000,
          100000
         ],
         "xaxis": "x",
         "y": [
          1016610.3244382216,
          1043763.2485452279,
          1077704.4036789858,
          1077704.4036789858,
          1077704.4036789858,
          1077704.4036789858,
          1077704.4036789858,
          1349233.6447490482,
          1349233.6447490482,
          1688645.1960866265,
          1688645.1960866265,
          4403937.606787252,
          7798053.120163034
         ],
         "yaxis": "y"
        },
        {
         "customdata": [
          [
           "BringGo AU & NZ"
          ],
          [
           "BackCountry Navigator TOPO GPS PRO"
          ],
          [
           "CE Map - Interactive Conan Exiles Map"
          ],
          [
           "Paris ci la Sortie du Métro"
          ],
          [
           "Jeppesen CR Flight Computer"
          ]
         ],
         "hovertemplate": "Category=MAPS_AND_NAVIGATION<br>Installs=%{x}<br>Revenue=%{y}<br>App=%{customdata[0]}<extra></extra>",
         "legendgroup": "MAPS_AND_NAVIGATION",
         "marker": {
          "color": "#FF6692",
          "symbol": "circle"
         },
         "mode": "markers",
         "name": "MAPS_AND_NAVIGATION",
         "orientation": "v",
         "showlegend": true,
         "type": "scatter",
         "x": [
          10000,
          100000,
          1000,
          10000,
          100
         ],
         "xaxis": "x",
         "y": [
          9900,
          1199000,
          990,
          29900.000000000004,
          999
         ],
         "yaxis": "y"
        },
        {
         "hovertemplate": "<b>OLS trendline</b><br>Revenue = 12.4171 * Installs + -52584.7<br>R<sup>2</sup>=0.991090<br><br>Category=MAPS_AND_NAVIGATION<br>Installs=%{x}<br>Revenue=%{y} <b>(trend)</b><extra></extra>",
         "legendgroup": "MAPS_AND_NAVIGATION",
         "marker": {
          "color": "#FF6692",
          "symbol": "circle"
         },
         "mode": "lines",
         "name": "MAPS_AND_NAVIGATION",
         "showlegend": false,
         "type": "scatter",
         "x": [
          100,
          1000,
          10000,
          10000,
          100000
         ],
         "xaxis": "x",
         "y": [
          -51342.96683309562,
          -40167.56508559205,
          71586.45238944364,
          71586.45238944364,
          1189126.6271398005
         ],
         "yaxis": "y"
        },
        {
         "customdata": [
          [
           "Baby Connect (activity log)"
          ],
          [
           "SharedCare™ Co-parenting"
          ]
         ],
         "hovertemplate": "Category=PARENTING<br>Installs=%{x}<br>Revenue=%{y}<br>App=%{customdata[0]}<extra></extra>",
         "legendgroup": "PARENTING",
         "marker": {
          "color": "#B6E880",
          "symbol": "circle"
         },
         "mode": "markers",
         "name": "PARENTING",
         "orientation": "v",
         "showlegend": true,
         "type": "scatter",
         "x": [
          50000,
          100
         ],
         "xaxis": "x",
         "y": [
          249500,
          459
         ],
         "yaxis": "y"
        },
        {
         "hovertemplate": "<b>OLS trendline</b><br>Revenue = 4.9908 * Installs + -40.0802<br>R<sup>2</sup>=1.000000<br><br>Category=PARENTING<br>Installs=%{x}<br>Revenue=%{y} <b>(trend)</b><extra></extra>",
         "legendgroup": "PARENTING",
         "marker": {
          "color": "#B6E880",
          "symbol": "circle"
         },
         "mode": "lines",
         "name": "PARENTING",
         "showlegend": false,
         "type": "scatter",
         "x": [
          100,
          50000
         ],
         "xaxis": "x",
         "y": [
          458.99999999998107,
          249500.0000000001
         ],
         "yaxis": "y"
        }
       ],
       "layout": {
        "legend": {
         "title": {
          "text": "Category"
         },
         "tracegroupgap": 0
        },
        "template": {
         "data": {
          "bar": [
           {
            "error_x": {
             "color": "#2a3f5f"
            },
            "error_y": {
             "color": "#2a3f5f"
            },
            "marker": {
             "line": {
              "color": "#E5ECF6",
              "width": 0.5
             },
             "pattern": {
              "fillmode": "overlay",
              "size": 10,
              "solidity": 0.2
             }
            },
            "type": "bar"
           }
          ],
          "barpolar": [
           {
            "marker": {
             "line": {
              "color": "#E5ECF6",
              "width": 0.5
             },
             "pattern": {
              "fillmode": "overlay",
              "size": 10,
              "solidity": 0.2
             }
            },
            "type": "barpolar"
           }
          ],
          "carpet": [
           {
            "aaxis": {
             "endlinecolor": "#2a3f5f",
             "gridcolor": "white",
             "linecolor": "white",
             "minorgridcolor": "white",
             "startlinecolor": "#2a3f5f"
            },
            "baxis": {
             "endlinecolor": "#2a3f5f",
             "gridcolor": "white",
             "linecolor": "white",
             "minorgridcolor": "white",
             "startlinecolor": "#2a3f5f"
            },
            "type": "carpet"
           }
          ],
          "choropleth": [
           {
            "colorbar": {
             "outlinewidth": 0,
             "ticks": ""
            },
            "type": "choropleth"
           }
          ],
          "contour": [
           {
            "colorbar": {
             "outlinewidth": 0,
             "ticks": ""
            },
            "colorscale": [
             [
              0,
              "#0d0887"
             ],
             [
              0.1111111111111111,
              "#46039f"
             ],
             [
              0.2222222222222222,
              "#7201a8"
             ],
             [
              0.3333333333333333,
              "#9c179e"
             ],
             [
              0.4444444444444444,
              "#bd3786"
             ],
             [
              0.5555555555555556,
              "#d8576b"
             ],
             [
              0.6666666666666666,
              "#ed7953"
             ],
             [
              0.7777777777777778,
              "#fb9f3a"
             ],
             [
              0.8888888888888888,
              "#fdca26"
             ],
             [
              1,
              "#f0f921"
             ]
            ],
            "type": "contour"
           }
          ],
          "contourcarpet": [
           {
            "colorbar": {
             "outlinewidth": 0,
             "ticks": ""
            },
            "type": "contourcarpet"
           }
          ],
          "heatmap": [
           {
            "colorbar": {
             "outlinewidth": 0,
             "ticks": ""
            },
            "colorscale": [
             [
              0,
              "#0d0887"
             ],
             [
              0.1111111111111111,
              "#46039f"
             ],
             [
              0.2222222222222222,
              "#7201a8"
             ],
             [
              0.3333333333333333,
              "#9c179e"
             ],
             [
              0.4444444444444444,
              "#bd3786"
             ],
             [
              0.5555555555555556,
              "#d8576b"
             ],
             [
              0.6666666666666666,
              "#ed7953"
             ],
             [
              0.7777777777777778,
              "#fb9f3a"
             ],
             [
              0.8888888888888888,
              "#fdca26"
             ],
             [
              1,
              "#f0f921"
             ]
            ],
            "type": "heatmap"
           }
          ],
          "heatmapgl": [
           {
            "colorbar": {
             "outlinewidth": 0,
             "ticks": ""
            },
            "colorscale": [
             [
              0,
              "#0d0887"
             ],
             [
              0.1111111111111111,
              "#46039f"
             ],
             [
              0.2222222222222222,
              "#7201a8"
             ],
             [
              0.3333333333333333,
              "#9c179e"
             ],
             [
              0.4444444444444444,
              "#bd3786"
             ],
             [
              0.5555555555555556,
              "#d8576b"
             ],
             [
              0.6666666666666666,
              "#ed7953"
             ],
             [
              0.7777777777777778,
              "#fb9f3a"
             ],
             [
              0.8888888888888888,
              "#fdca26"
             ],
             [
              1,
              "#f0f921"
             ]
            ],
            "type": "heatmapgl"
           }
          ],
          "histogram": [
           {
            "marker": {
             "pattern": {
              "fillmode": "overlay",
              "size": 10,
              "solidity": 0.2
             }
            },
            "type": "histogram"
           }
          ],
          "histogram2d": [
           {
            "colorbar": {
             "outlinewidth": 0,
             "ticks": ""
            },
            "colorscale": [
             [
              0,
              "#0d0887"
             ],
             [
              0.1111111111111111,
              "#46039f"
             ],
             [
              0.2222222222222222,
              "#7201a8"
             ],
             [
              0.3333333333333333,
              "#9c179e"
             ],
             [
              0.4444444444444444,
              "#bd3786"
             ],
             [
              0.5555555555555556,
              "#d8576b"
             ],
             [
              0.6666666666666666,
              "#ed7953"
             ],
             [
              0.7777777777777778,
              "#fb9f3a"
             ],
             [
              0.8888888888888888,
              "#fdca26"
             ],
             [
              1,
              "#f0f921"
             ]
            ],
            "type": "histogram2d"
           }
          ],
          "histogram2dcontour": [
           {
            "colorbar": {
             "outlinewidth": 0,
             "ticks": ""
            },
            "colorscale": [
             [
              0,
              "#0d0887"
             ],
             [
              0.1111111111111111,
              "#46039f"
             ],
             [
              0.2222222222222222,
              "#7201a8"
             ],
             [
              0.3333333333333333,
              "#9c179e"
             ],
             [
              0.4444444444444444,
              "#bd3786"
             ],
             [
              0.5555555555555556,
              "#d8576b"
             ],
             [
              0.6666666666666666,
              "#ed7953"
             ],
             [
              0.7777777777777778,
              "#fb9f3a"
             ],
             [
              0.8888888888888888,
              "#fdca26"
             ],
             [
              1,
              "#f0f921"
             ]
            ],
            "type": "histogram2dcontour"
           }
          ],
          "mesh3d": [
           {
            "colorbar": {
             "outlinewidth": 0,
             "ticks": ""
            },
            "type": "mesh3d"
           }
          ],
          "parcoords": [
           {
            "line": {
             "colorbar": {
              "outlinewidth": 0,
              "ticks": ""
             }
            },
            "type": "parcoords"
           }
          ],
          "pie": [
           {
            "automargin": true,
            "type": "pie"
           }
          ],
          "scatter": [
           {
            "fillpattern": {
             "fillmode": "overlay",
             "size": 10,
             "solidity": 0.2
            },
            "type": "scatter"
           }
          ],
          "scatter3d": [
           {
            "line": {
             "colorbar": {
              "outlinewidth": 0,
              "ticks": ""
             }
            },
            "marker": {
             "colorbar": {
              "outlinewidth": 0,
              "ticks": ""
             }
            },
            "type": "scatter3d"
           }
          ],
          "scattercarpet": [
           {
            "marker": {
             "colorbar": {
              "outlinewidth": 0,
              "ticks": ""
             }
            },
            "type": "scattercarpet"
           }
          ],
          "scattergeo": [
           {
            "marker": {
             "colorbar": {
              "outlinewidth": 0,
              "ticks": ""
             }
            },
            "type": "scattergeo"
           }
          ],
          "scattergl": [
           {
            "marker": {
             "colorbar": {
              "outlinewidth": 0,
              "ticks": ""
             }
            },
            "type": "scattergl"
           }
          ],
          "scattermapbox": [
           {
            "marker": {
             "colorbar": {
              "outlinewidth": 0,
              "ticks": ""
             }
            },
            "type": "scattermapbox"
           }
          ],
          "scatterpolar": [
           {
            "marker": {
             "colorbar": {
              "outlinewidth": 0,
              "ticks": ""
             }
            },
            "type": "scatterpolar"
           }
          ],
          "scatterpolargl": [
           {
            "marker": {
             "colorbar": {
              "outlinewidth": 0,
              "ticks": ""
             }
            },
            "type": "scatterpolargl"
           }
          ],
          "scatterternary": [
           {
            "marker": {
             "colorbar": {
              "outlinewidth": 0,
              "ticks": ""
             }
            },
            "type": "scatterternary"
           }
          ],
          "surface": [
           {
            "colorbar": {
             "outlinewidth": 0,
             "ticks": ""
            },
            "colorscale": [
             [
              0,
              "#0d0887"
             ],
             [
              0.1111111111111111,
              "#46039f"
             ],
             [
              0.2222222222222222,
              "#7201a8"
             ],
             [
              0.3333333333333333,
              "#9c179e"
             ],
             [
              0.4444444444444444,
              "#bd3786"
             ],
             [
              0.5555555555555556,
              "#d8576b"
             ],
             [
              0.6666666666666666,
              "#ed7953"
             ],
             [
              0.7777777777777778,
              "#fb9f3a"
             ],
             [
              0.8888888888888888,
              "#fdca26"
             ],
             [
              1,
              "#f0f921"
             ]
            ],
            "type": "surface"
           }
          ],
          "table": [
           {
            "cells": {
             "fill": {
              "color": "#EBF0F8"
             },
             "line": {
              "color": "white"
             }
            },
            "header": {
             "fill": {
              "color": "#C8D4E3"
             },
             "line": {
              "color": "white"
             }
            },
            "type": "table"
           }
          ]
         },
         "layout": {
          "annotationdefaults": {
           "arrowcolor": "#2a3f5f",
           "arrowhead": 0,
           "arrowwidth": 1
          },
          "autotypenumbers": "strict",
          "coloraxis": {
           "colorbar": {
            "outlinewidth": 0,
            "ticks": ""
           }
          },
          "colorscale": {
           "diverging": [
            [
             0,
             "#8e0152"
            ],
            [
             0.1,
             "#c51b7d"
            ],
            [
             0.2,
             "#de77ae"
            ],
            [
             0.3,
             "#f1b6da"
            ],
            [
             0.4,
             "#fde0ef"
            ],
            [
             0.5,
             "#f7f7f7"
            ],
            [
             0.6,
             "#e6f5d0"
            ],
            [
             0.7,
             "#b8e186"
            ],
            [
             0.8,
             "#7fbc41"
            ],
            [
             0.9,
             "#4d9221"
            ],
            [
             1,
             "#276419"
            ]
           ],
           "sequential": [
            [
             0,
             "#0d0887"
            ],
            [
             0.1111111111111111,
             "#46039f"
            ],
            [
             0.2222222222222222,
             "#7201a8"
            ],
            [
             0.3333333333333333,
             "#9c179e"
            ],
            [
             0.4444444444444444,
             "#bd3786"
            ],
            [
             0.5555555555555556,
             "#d8576b"
            ],
            [
             0.6666666666666666,
             "#ed7953"
            ],
            [
             0.7777777777777778,
             "#fb9f3a"
            ],
            [
             0.8888888888888888,
             "#fdca26"
            ],
            [
             1,
             "#f0f921"
            ]
           ],
           "sequentialminus": [
            [
             0,
             "#0d0887"
            ],
            [
             0.1111111111111111,
             "#46039f"
            ],
            [
             0.2222222222222222,
             "#7201a8"
            ],
            [
             0.3333333333333333,
             "#9c179e"
            ],
            [
             0.4444444444444444,
             "#bd3786"
            ],
            [
             0.5555555555555556,
             "#d8576b"
            ],
            [
             0.6666666666666666,
             "#ed7953"
            ],
            [
             0.7777777777777778,
             "#fb9f3a"
            ],
            [
             0.8888888888888888,
             "#fdca26"
            ],
            [
             1,
             "#f0f921"
            ]
           ]
          },
          "colorway": [
           "#636efa",
           "#EF553B",
           "#00cc96",
           "#ab63fa",
           "#FFA15A",
           "#19d3f3",
           "#FF6692",
           "#B6E880",
           "#FF97FF",
           "#FECB52"
          ],
          "font": {
           "color": "#2a3f5f"
          },
          "geo": {
           "bgcolor": "white",
           "lakecolor": "white",
           "landcolor": "#E5ECF6",
           "showlakes": true,
           "showland": true,
           "subunitcolor": "white"
          },
          "hoverlabel": {
           "align": "left"
          },
          "hovermode": "closest",
          "mapbox": {
           "style": "light"
          },
          "paper_bgcolor": "white",
          "plot_bgcolor": "#E5ECF6",
          "polar": {
           "angularaxis": {
            "gridcolor": "white",
            "linecolor": "white",
            "ticks": ""
           },
           "bgcolor": "#E5ECF6",
           "radialaxis": {
            "gridcolor": "white",
            "linecolor": "white",
            "ticks": ""
           }
          },
          "scene": {
           "xaxis": {
            "backgroundcolor": "#E5ECF6",
            "gridcolor": "white",
            "gridwidth": 2,
            "linecolor": "white",
            "showbackground": true,
            "ticks": "",
            "zerolinecolor": "white"
           },
           "yaxis": {
            "backgroundcolor": "#E5ECF6",
            "gridcolor": "white",
            "gridwidth": 2,
            "linecolor": "white",
            "showbackground": true,
            "ticks": "",
            "zerolinecolor": "white"
           },
           "zaxis": {
            "backgroundcolor": "#E5ECF6",
            "gridcolor": "white",
            "gridwidth": 2,
            "linecolor": "white",
            "showbackground": true,
            "ticks": "",
            "zerolinecolor": "white"
           }
          },
          "shapedefaults": {
           "line": {
            "color": "#2a3f5f"
           }
          },
          "ternary": {
           "aaxis": {
            "gridcolor": "white",
            "linecolor": "white",
            "ticks": ""
           },
           "baxis": {
            "gridcolor": "white",
            "linecolor": "white",
            "ticks": ""
           },
           "bgcolor": "#E5ECF6",
           "caxis": {
            "gridcolor": "white",
            "linecolor": "white",
            "ticks": ""
           }
          },
          "title": {
           "x": 0.05
          },
          "xaxis": {
           "automargin": true,
           "gridcolor": "white",
           "linecolor": "white",
           "ticks": "",
           "title": {
            "standoff": 15
           },
           "zerolinecolor": "white",
           "zerolinewidth": 2
          },
          "yaxis": {
           "automargin": true,
           "gridcolor": "white",
           "linecolor": "white",
           "ticks": "",
           "title": {
            "standoff": 15
           },
           "zerolinecolor": "white",
           "zerolinewidth": 2
          }
         }
        },
        "title": {
         "text": "Revenue vs Installs for Paid Apps"
        },
        "xaxis": {
         "anchor": "y",
         "domain": [
          0,
          1
         ],
         "title": {
          "text": "Installs"
         }
        },
        "yaxis": {
         "anchor": "x",
         "domain": [
          0,
          1
         ],
         "title": {
          "text": "Revenue"
         }
        }
       }
      }
     },
     "metadata": {},
     "output_type": "display_data"
    }
   ],
   "source": [
    "import plotly.express as px\n",
    "\n",
    "# Filter for paid apps only\n",
    "paid_apps = app_df[app_df['Type'] == 'Paid'].copy()\n",
    "paid_apps['Revenue'] = paid_apps['Installs'] * paid_apps['Price']\n",
    "\n",
    "# Plot\n",
    "fig1 = px.scatter(\n",
    "    paid_apps,\n",
    "    x='Installs',\n",
    "    y='Revenue',\n",
    "    color='Category',\n",
    "    title='Revenue vs Installs for Paid Apps',\n",
    "    trendline='ols',\n",
    "    hover_data=['App']\n",
    ")\n",
    "fig1.show()"
   ]
  },
  {
   "attachments": {},
   "cell_type": "markdown",
   "metadata": {},
   "source": [
    "TASK 2:-"
   ]
  },
  {
   "cell_type": "code",
   "execution_count": 31,
   "metadata": {},
   "outputs": [
    {
     "name": "stdout",
     "output_type": "stream",
     "text": [
      " Task 2 saved: C:/Users/User/Desktop/google/task_html_files\\task2_grouped_bar.html\n"
     ]
    }
   ],
   "source": [
    "import datetime\n",
    "import pytz\n",
    "import plotly.graph_objects as go\n",
    "\n",
    "# Function to check if current time is within a given IST time range\n",
    "def is_between_ist(start_hour, end_hour):\n",
    "    ist = pytz.timezone('Asia/Kolkata')\n",
    "    now_ist = datetime.datetime.now(ist)\n",
    "    return start_hour <= now_ist.hour < end_hour\n",
    "\n",
    "if is_between_ist(15, 17):  # Between 3 PM and 5 PM IST\n",
    "\n",
    "    # Apply filters\n",
    "    filtered = app_df[\n",
    "        (app_df['Rating'] >= 4.0) &\n",
    "        (app_df['Size'] >= 10 * 1024 * 1024) &  # 10 MB in bytes\n",
    "        (app_df['Last Updated'].dt.month == 1)  # Only January\n",
    "    ]\n",
    "\n",
    "    if not filtered.empty:\n",
    "        # Identify top 10 categories by total installs\n",
    "        top_categories = (\n",
    "            filtered.groupby('Category')['Installs'].sum()\n",
    "            .nlargest(10).index\n",
    "        )\n",
    "        top_data = filtered[filtered['Category'].isin(top_categories)]\n",
    "\n",
    "        # Compute metrics\n",
    "        grouped = top_data.groupby('Category').agg({\n",
    "            'Rating': 'mean',\n",
    "            'Reviews': 'sum'\n",
    "        }).reset_index()\n",
    "\n",
    "        # Create grouped bar chart\n",
    "        fig2 = go.Figure()\n",
    "\n",
    "        fig2.add_trace(go.Bar(\n",
    "            x=grouped['Category'],\n",
    "            y=grouped['Rating'],\n",
    "            name='Average Rating',\n",
    "            marker_color='steelblue'\n",
    "        ))\n",
    "\n",
    "        fig2.add_trace(go.Bar(\n",
    "            x=grouped['Category'],\n",
    "            y=grouped['Reviews'],\n",
    "            name='Total Reviews',\n",
    "            marker_color='darkorange'\n",
    "        ))\n",
    "\n",
    "        fig2.update_layout(\n",
    "            title=\"Top 10 Categories: Avg Rating vs Total Reviews (Filtered)\",\n",
    "            xaxis_title=\"App Category\",\n",
    "            yaxis_title=\"Value\",\n",
    "            barmode='group',\n",
    "            plot_bgcolor=plot_bg_color,\n",
    "            paper_bgcolor=plot_bg_color,\n",
    "            font=dict(color=text_color),\n",
    "            margin=dict(l=10, r=10, t=50, b=40)\n",
    "        )\n",
    "\n",
    "        save_plot_as_html(\n",
    "            fig2,\n",
    "            \"task2_grouped_bar.html\",\n",
    "            \"This chart compares average ratings and total reviews for the top 10 categories (filtered by high ratings, size ≥10MB, and updated in January).\"\n",
    "        )\n",
    "task_html_files_path=\"C:/Users/User/Desktop/google/task_html_files\"\n",
    "fig2.write_html(os.path.join(task_html_files_path, \"task2_grouped_bar.html\"), full_html=False, include_plotlyjs='cdn')\n",
    "save_path = os.path.join(task_html_files_path, \"task2_grouped_bar.html\")\n",
    "fig2.write_html(save_path, full_html=False, include_plotlyjs='cdn')\n",
    "print(f\" Task 2 saved: {save_path}\")\n",
    "\n"
   ]
  },
  {
   "attachments": {},
   "cell_type": "markdown",
   "metadata": {},
   "source": [
    "TASK 3:-"
   ]
  },
  {
   "cell_type": "code",
   "execution_count": 32,
   "metadata": {},
   "outputs": [
    {
     "name": "stdout",
     "output_type": "stream",
     "text": [
      " Task 3 saved: C:/Users/User/Desktop/google/task_html_files\\task3_choropleth_map.html\n"
     ]
    }
   ],
   "source": [
    "if is_between_ist(18, 20):  # 6 PM to 8 PM IST\n",
    "    import plotly.express as px\n",
    "\n",
    "    # Filter out unwanted categories\n",
    "    valid_categories = app_df[~app_df['Category'].str.startswith(('A', 'C', 'G', 'S'))]\n",
    "\n",
    "    # Get top 5 by total installs\n",
    "    top5_categories = valid_categories.groupby('Category')['Installs'].sum().nlargest(5).index\n",
    "    top5_df = valid_categories[valid_categories['Category'].isin(top5_categories)].copy()\n",
    "\n",
    "    # Assign random or mock countries if real ones aren't present\n",
    "    # In real case, replace with actual `Country` column\n",
    "    country_mapping = ['US', 'IN', 'BR', 'GB', 'CA']  # Example countries\n",
    "    top5_df['Country'] = [country_mapping[i % len(country_mapping)] for i in range(len(top5_df))]\n",
    "\n",
    "    # Aggregate installs by country-category\n",
    "    category_country_installs = top5_df.groupby(['Country', 'Category'])['Installs'].sum().reset_index()\n",
    "\n",
    "    # Plot Choropleth map\n",
    "    fig3 = px.choropleth(\n",
    "        category_country_installs,\n",
    "        locations='Country',\n",
    "        color='Installs',\n",
    "        hover_name='Category',\n",
    "        color_continuous_scale='Viridis',\n",
    "        title='Global Installs by Category (Top 5 Only)',\n",
    "    )\n",
    "\n",
    "    fig3.update_layout(\n",
    "        plot_bgcolor=plot_bg_color,\n",
    "        paper_bgcolor=plot_bg_color,\n",
    "        font=dict(color=text_color),\n",
    "        margin=dict(l=10, r=10, t=40, b=10)\n",
    "    )\n",
    "\n",
    "    # Save plot to HTML\n",
    "    save_plot_as_html(\n",
    "        fig3,\n",
    "        \"choropleth_top5.html\",\n",
    "        \"Top 5 app categories by installs (excluding A, C, G, S). Countries with high installs are highlighted.\"\n",
    "    )\n",
    "save_path = os.path.join(task_html_files_path, \"task3_choropleth_map.html\")\n",
    "fig3.write_html(save_path, full_html=False, include_plotlyjs='cdn')\n",
    "print(f\" Task 3 saved: {save_path}\")\n"
   ]
  },
  {
   "attachments": {},
   "cell_type": "markdown",
   "metadata": {},
   "source": [
    "TASK 4:-"
   ]
  },
  {
   "cell_type": "code",
   "execution_count": 33,
   "metadata": {},
   "outputs": [
    {
     "name": "stdout",
     "output_type": "stream",
     "text": [
      " Task 4 saved: C:/Users/User/Desktop/google/task_html_files\\task4_dual_axis_free_vs_paid.html\n"
     ]
    }
   ],
   "source": [
    "if is_between_ist(13, 14):  # 1 PM to 2 PM IST\n",
    "    filtered = app_df[\n",
    "        (app_df['Installs'] >= 10000) &\n",
    "        (app_df['Price'] * app_df['Installs'] >= 10000) &\n",
    "        (app_df['Android Ver'].str.extract(r'(\\d+\\.\\d+)').astype(float).fillna(0)[0] > 4.0) &\n",
    "        (app_df['Size'] >= 15 * 1024 * 1024) &\n",
    "        (app_df['Content Rating'] == 'Everyone') &\n",
    "        (app_df['App'].str.len() <= 30)\n",
    "    ].copy()\n",
    "\n",
    "    # Calculate revenue\n",
    "    filtered['Revenue'] = filtered['Price'] * filtered['Installs']\n",
    "\n",
    "    # Get top 3 categories by installs\n",
    "    top3_cats = filtered.groupby('Category')['Installs'].sum().nlargest(3).index\n",
    "    top3_df = filtered[filtered['Category'].isin(top3_cats)]\n",
    "\n",
    "    # Group by Type and Category\n",
    "    agg = top3_df.groupby(['Category', 'Type']).agg({\n",
    "        'Installs': 'mean',\n",
    "        'Revenue': 'mean'\n",
    "    }).reset_index()\n",
    "\n",
    "    # Pivot for dual-axis\n",
    "    fig4 = px.bar(\n",
    "        agg,\n",
    "        x='Category',\n",
    "        y='Installs',\n",
    "        color='Type',\n",
    "        barmode='group',\n",
    "        labels={'Installs': 'Average Installs'},\n",
    "        title='Average Installs and Revenue for Free vs Paid Apps (Top 3 Categories)'\n",
    "    )\n",
    "\n",
    "    # Add revenue as secondary y-axis\n",
    "    for typ in agg['Type'].unique():\n",
    "        sub = agg[agg['Type'] == typ]\n",
    "        fig4.add_scatter(\n",
    "            x=sub['Category'],\n",
    "            y=sub['Revenue'],\n",
    "            mode='lines+markers',\n",
    "            name=f'Revenue ({typ})',\n",
    "            yaxis='y2'\n",
    "        )\n",
    "\n",
    "    fig4.update_layout(\n",
    "        yaxis=dict(title='Avg Installs'),\n",
    "        yaxis2=dict(title='Avg Revenue', overlaying='y', side='right'),\n",
    "        plot_bgcolor=plot_bg_color,\n",
    "        paper_bgcolor=plot_bg_color,\n",
    "        font=dict(color=text_color),\n",
    "        margin=dict(l=10, r=10, t=40, b=10)\n",
    "    )\n",
    "\n",
    "    # Save plot\n",
    "    save_plot_as_html(\n",
    "        fig4,\n",
    "        \"dual_axis_free_vs_paid.html\",\n",
    "        \"Comparison of average installs and revenue for Free vs Paid apps in top 3 categories.\"\n",
    "    )\n",
    "save_path = os.path.join(task_html_files_path, \"task4_dual_axis_free_vs_paid.html\")\n",
    "fig4.write_html(save_path, full_html=False, include_plotlyjs='cdn')\n",
    "print(f\" Task 4 saved: {save_path}\")\n"
   ]
  },
  {
   "attachments": {},
   "cell_type": "markdown",
   "metadata": {},
   "source": [
    "TASK 5:-"
   ]
  },
  {
   "cell_type": "code",
   "execution_count": 34,
   "metadata": {},
   "outputs": [
    {
     "name": "stdout",
     "output_type": "stream",
     "text": [
      " Task 5 saved: C:/Users/User/Desktop/google/task_html_files\\task5_violin_rating_distribution.html\n"
     ]
    }
   ],
   "source": [
    "if is_between_ist(16, 18):  # 4 PM to 6 PM IST\n",
    "    # Apply filters\n",
    "    filtered = app_df[\n",
    "        (app_df['App'].str.contains('C', case=False)) &\n",
    "        (app_df['Reviews'] >= 10) &\n",
    "        (app_df['Rating'] < 4.0)\n",
    "    ].copy()\n",
    "\n",
    "    # Count apps per category\n",
    "    category_counts = filtered['Category'].value_counts()\n",
    "    valid_categories = category_counts[category_counts > 50].index\n",
    "\n",
    "    # Filter for those categories only\n",
    "    violin_df = filtered[filtered['Category'].isin(valid_categories)]\n",
    "\n",
    "    # Plot violin\n",
    "    fig5 = px.violin(\n",
    "        violin_df,\n",
    "        x='Category',\n",
    "        y='Rating',\n",
    "        box=True,\n",
    "        points='all',\n",
    "        title='Rating Distribution for App Categories (with “C” in name & Rating < 4.0)',\n",
    "        color='Category'\n",
    "    )\n",
    "\n",
    "    fig5.update_layout(\n",
    "        plot_bgcolor=plot_bg_color,\n",
    "        paper_bgcolor=plot_bg_color,\n",
    "        font=dict(color=text_color),\n",
    "        margin=dict(l=10, r=10, t=40, b=10)\n",
    "    )\n",
    "\n",
    "    # Save it\n",
    "    save_plot_as_html(\n",
    "        fig5,\n",
    "        \"violin_rating_distribution.html\",\n",
    "        \"This violin plot shows rating distributions for categories with >50 apps where the app name includes 'C' and the rating is below 4.0.\"\n",
    "    )\n",
    "save_path = os.path.join(task_html_files_path, \"task5_violin_rating_distribution.html\")\n",
    "fig5.write_html(save_path, full_html=False, include_plotlyjs='cdn')\n",
    "print(f\" Task 5 saved: {save_path}\")\n",
    "  "
   ]
  },
  {
   "attachments": {},
   "cell_type": "markdown",
   "metadata": {},
   "source": [
    "TASK 6:-"
   ]
  },
  {
   "cell_type": "code",
   "execution_count": 35,
   "metadata": {},
   "outputs": [
    {
     "name": "stdout",
     "output_type": "stream",
     "text": [
      " Task 6 saved: C:/Users/User/Desktop/google/task_html_files\\task6_heatmap_correlation.html\n"
     ]
    }
   ],
   "source": [
    "if is_between_ist(14, 16):  # 2 PM to 4 PM IST\n",
    "    one_year_ago = pd.Timestamp.now() - pd.DateOffset(years=1)\n",
    "\n",
    "    # Apply filters\n",
    "    filtered = app_df[\n",
    "        (app_df['Last Updated'] >= one_year_ago) &\n",
    "        (app_df['Installs'] >= 100_000) &\n",
    "        (app_df['Reviews'] > 1_000) &\n",
    "        (~app_df['Genres'].str.startswith(tuple(['A', 'F', 'E', 'G', 'I', 'K'])))\n",
    "    ].copy()\n",
    "\n",
    "    # Select relevant columns and compute correlation\n",
    "    corr_matrix = filtered[['Installs', 'Rating', 'Reviews']].corr()\n",
    "\n",
    "    # Plot heatmap\n",
    "    fig6 = px.imshow(\n",
    "        corr_matrix,\n",
    "        text_auto=True,\n",
    "        color_continuous_scale='Viridis',\n",
    "        title='Correlation Matrix: Installs, Ratings, and Review Counts'\n",
    "    )\n",
    "\n",
    "    fig6.update_layout(\n",
    "        plot_bgcolor=plot_bg_color,\n",
    "        paper_bgcolor=plot_bg_color,\n",
    "        font=dict(color=text_color),\n",
    "        margin=dict(l=10, r=10, t=40, b=10)\n",
    "    )\n",
    "\n",
    "    # Save it\n",
    "    save_plot_as_html(\n",
    "        fig6,\n",
    "        \"correlation_heatmap.html\",\n",
    "        \"This heatmap highlights correlations between installs, ratings, and reviews for high-performing, recently updated apps.\"\n",
    "    )\n",
    "save_path = os.path.join(task_html_files_path, \"task6_heatmap_correlation.html\")\n",
    "fig6.write_html(save_path, full_html=False, include_plotlyjs='cdn')\n",
    "print(f\" Task 6 saved: {save_path}\")\n"
   ]
  },
  {
   "attachments": {},
   "cell_type": "markdown",
   "metadata": {},
   "source": [
    "TASK 7:-"
   ]
  },
  {
   "cell_type": "code",
   "execution_count": 36,
   "metadata": {},
   "outputs": [
    {
     "name": "stdout",
     "output_type": "stream",
     "text": [
      " Task 7 saved: C:/Users/User/Desktop/google/task_html_files\\task7_time_series_installs.html\n"
     ]
    }
   ],
   "source": [
    "if is_between_ist(18, 21):  # 6 PM to 9 PM IST\n",
    "    # Step 1: Filter data\n",
    "    filtered = app_df[\n",
    "        (app_df['Content Rating'] == 'Teen') &\n",
    "        (app_df['App'].str.startswith('E')) &\n",
    "        (app_df['Installs'] > 10_000)\n",
    "    ].copy()\n",
    "\n",
    "    # Step 2: Extract month-year from 'Last Updated' for time trend\n",
    "    filtered['Month'] = filtered['Last Updated'].dt.to_period('M').dt.to_timestamp()\n",
    "\n",
    "    # Step 3: Group and aggregate installs by Category & Month\n",
    "    trend_df = filtered.groupby(['Category', 'Month'])['Installs'].sum().reset_index()\n",
    "\n",
    "    # Step 4: Calculate MoM % growth\n",
    "    trend_df['MoM_Growth'] = trend_df.groupby('Category')['Installs'].pct_change() * 100\n",
    "\n",
    "    # Step 5: Create line plot with shaded area for MoM growth > 20%\n",
    "    fig7 = px.line(\n",
    "        trend_df,\n",
    "        x='Month',\n",
    "        y='Installs',\n",
    "        color='Category',\n",
    "        title='Monthly Install Trends by Category (Teen, Apps starting with E)'\n",
    "    )\n",
    "\n",
    "    # Highlight significant growth\n",
    "    for category in trend_df['Category'].unique():\n",
    "        cat_data = trend_df[trend_df['Category'] == category]\n",
    "        growth_periods = cat_data[cat_data['MoM_Growth'] > 20]\n",
    "\n",
    "        fig7.add_scatter(\n",
    "            x=growth_periods['Month'],\n",
    "            y=growth_periods['Installs'],\n",
    "            mode='markers',\n",
    "            marker=dict(size=8, color='orange', symbol='circle'),\n",
    "            name=f'Significant Growth ({category})',\n",
    "            showlegend=False\n",
    "        )\n",
    "\n",
    "    fig7.update_layout(\n",
    "        plot_bgcolor=plot_bg_color,\n",
    "        paper_bgcolor=plot_bg_color,\n",
    "        font=dict(color=text_color),\n",
    "        margin=dict(l=10, r=10, t=40, b=10)\n",
    "    )\n",
    "\n",
    "    # Save it\n",
    "    save_plot_as_html(\n",
    "        fig7,\n",
    "        \"install_trend_line_chart.html\",\n",
    "        \"This chart visualizes monthly installs for Teen-rated apps starting with 'E'. Orange dots highlight >20% month-over-month growth.\"\n",
    "    )\n",
    "save_path = os.path.join(task_html_files_path, \"task7_time_series_installs.html\")\n",
    "fig7.write_html(save_path, full_html=False, include_plotlyjs='cdn')\n",
    "print(f\" Task 7 saved: {save_path}\")\n"
   ]
  },
  {
   "cell_type": "code",
   "execution_count": null,
   "metadata": {},
   "outputs": [],
   "source": []
  }
 ],
 "metadata": {
  "kernelspec": {
   "display_name": "Python 3",
   "language": "python",
   "name": "python3"
  },
  "language_info": {
   "codemirror_mode": {
    "name": "ipython",
    "version": 3
   },
   "file_extension": ".py",
   "mimetype": "text/x-python",
   "name": "python",
   "nbconvert_exporter": "python",
   "pygments_lexer": "ipython3",
   "version": "3.11.3"
  },
  "orig_nbformat": 4
 },
 "nbformat": 4,
 "nbformat_minor": 2
}
